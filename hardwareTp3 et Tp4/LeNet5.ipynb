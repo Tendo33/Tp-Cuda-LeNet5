{
 "cells": [
  {
   "cell_type": "code",
   "execution_count": 1,
   "id": "a490f7a0-cb6d-4048-87e6-3fa66ee45232",
   "metadata": {
    "ExecuteTime": {
     "end_time": "2023-01-09T12:47:57.797007Z",
     "start_time": "2023-01-09T12:47:52.232048Z"
    }
   },
   "outputs": [],
   "source": [
    "import tensorflow as tf\n",
    "from tensorflow import keras\n",
    "import numpy as np\n",
    "from matplotlib import pyplot\n",
    "from keras.models import model_from_json\n",
    "import os"
   ]
  },
  {
   "cell_type": "code",
   "execution_count": 3,
   "id": "93d3031b-4533-4aec-a39f-02e28c2e70a7",
   "metadata": {
    "ExecuteTime": {
     "end_time": "2023-01-09T16:02:40.132701Z",
     "start_time": "2023-01-09T16:02:39.505299Z"
    }
   },
   "outputs": [
    {
     "data": {
      "text/plain": [
       "(60000, 28, 28)"
      ]
     },
     "execution_count": 3,
     "metadata": {},
     "output_type": "execute_result"
    }
   ],
   "source": [
    "(train_x, train_y), (test_x, test_y) = keras.datasets.mnist.load_data()\n",
    "train_x = train_x / 255.0\n",
    "test_x = test_x / 255.0\n",
    "train_x.shape"
   ]
  },
  {
   "cell_type": "code",
   "execution_count": 4,
   "id": "f25fabb6-19d5-49a4-9598-085544a8aab2",
   "metadata": {
    "ExecuteTime": {
     "end_time": "2023-01-09T16:02:45.197511Z",
     "start_time": "2023-01-09T16:02:40.201219Z"
    }
   },
   "outputs": [
    {
     "data": {
      "text/plain": [
       "TensorShape([60000, 28, 28, 1])"
      ]
     },
     "execution_count": 4,
     "metadata": {},
     "output_type": "execute_result"
    }
   ],
   "source": [
    "train_x = tf.expand_dims(train_x, 3)\n",
    "test_x = tf.expand_dims(test_x, 3)\n",
    "val_x = train_x[:5000]\n",
    "val_y = train_y[:5000]\n",
    "train_x.shape"
   ]
  },
  {
   "cell_type": "code",
   "execution_count": 5,
   "id": "932346b8-8227-448e-aa93-8912ca971962",
   "metadata": {
    "ExecuteTime": {
     "end_time": "2023-01-09T16:02:45.677953Z",
     "start_time": "2023-01-09T16:02:45.339155Z"
    }
   },
   "outputs": [],
   "source": [
    "lenet_5_model = keras.models.Sequential([\n",
    "    keras.layers.Conv2D(6, kernel_size=5, strides=1,  activation='tanh', input_shape=train_x[0].shape, padding='same'), #C1\n",
    "    keras.layers.AveragePooling2D(), #S2\n",
    "    keras.layers.Conv2D(16, kernel_size=5, strides=1, activation='tanh', padding='valid'), #C3\n",
    "    keras.layers.AveragePooling2D(), #S4\n",
    "    keras.layers.Flatten(), #Flatten\n",
    "    keras.layers.Dense(120, activation='tanh'), #C5\n",
    "    keras.layers.Dense(84, activation='tanh'), #F6\n",
    "    keras.layers.Dense(10, activation='softmax') #Output layer\n",
    "])"
   ]
  },
  {
   "cell_type": "code",
   "execution_count": 6,
   "id": "0f9c7fb0-964d-4279-8347-1533097d7c66",
   "metadata": {
    "ExecuteTime": {
     "end_time": "2023-01-09T16:02:45.770794Z",
     "start_time": "2023-01-09T16:02:45.726819Z"
    }
   },
   "outputs": [],
   "source": [
    "lenet_5_model.compile(optimizer='adam',loss=keras.losses.sparse_categorical_crossentropy, metrics=['accuracy'])"
   ]
  },
  {
   "cell_type": "code",
   "execution_count": 7,
   "id": "c1dadc66-075f-4398-9849-4dc87647163f",
   "metadata": {
    "ExecuteTime": {
     "end_time": "2023-01-09T16:04:16.859742Z",
     "start_time": "2023-01-09T16:02:45.805630Z"
    }
   },
   "outputs": [
    {
     "name": "stdout",
     "output_type": "stream",
     "text": [
      "Epoch 1/5\n",
      "1875/1875 [==============================] - 29s 8ms/step - loss: 0.2348 - accuracy: 0.9302 - val_loss: 0.0926 - val_accuracy: 0.9714\n",
      "Epoch 2/5\n",
      "1875/1875 [==============================] - 15s 8ms/step - loss: 0.0915 - accuracy: 0.9721 - val_loss: 0.0643 - val_accuracy: 0.9812\n",
      "Epoch 3/5\n",
      "1875/1875 [==============================] - 16s 8ms/step - loss: 0.0607 - accuracy: 0.9813 - val_loss: 0.0367 - val_accuracy: 0.9900\n",
      "Epoch 4/5\n",
      "1875/1875 [==============================] - 16s 8ms/step - loss: 0.0458 - accuracy: 0.9856 - val_loss: 0.0360 - val_accuracy: 0.9900\n",
      "Epoch 5/5\n",
      "1875/1875 [==============================] - 16s 8ms/step - loss: 0.0381 - accuracy: 0.9878 - val_loss: 0.0286 - val_accuracy: 0.9924\n"
     ]
    },
    {
     "data": {
      "text/plain": [
       "<keras.callbacks.History at 0x25438197c40>"
      ]
     },
     "execution_count": 7,
     "metadata": {},
     "output_type": "execute_result"
    }
   ],
   "source": [
    "lenet_5_model.fit(train_x, train_y, epochs=5, validation_data=(val_x, val_y))"
   ]
  },
  {
   "cell_type": "code",
   "execution_count": 8,
   "id": "b9886896-43dc-4831-a595-7f040928b87f",
   "metadata": {
    "ExecuteTime": {
     "end_time": "2023-01-09T16:04:19.347385Z",
     "start_time": "2023-01-09T16:04:16.925777Z"
    }
   },
   "outputs": [
    {
     "name": "stdout",
     "output_type": "stream",
     "text": [
      "313/313 [==============================] - 2s 7ms/step - loss: 0.0486 - accuracy: 0.9842\n"
     ]
    },
    {
     "data": {
      "text/plain": [
       "[0.04864949733018875, 0.9842000007629395]"
      ]
     },
     "execution_count": 8,
     "metadata": {},
     "output_type": "execute_result"
    }
   ],
   "source": [
    "lenet_5_model.evaluate(test_x, test_y)"
   ]
  },
  {
   "cell_type": "code",
   "execution_count": 9,
   "id": "e6e8ca62-f863-4e73-acac-25cd7c8d91f9",
   "metadata": {
    "ExecuteTime": {
     "end_time": "2023-01-09T16:04:19.865453Z",
     "start_time": "2023-01-09T16:04:19.379746Z"
    }
   },
   "outputs": [
    {
     "data": {
      "image/png": "[encoded data removed]",
      "text/plain": [
       "<Figure size 640x480 with 1 Axes>"
      ]
     },
     "metadata": {},
     "output_type": "display_data"
    },
    {
     "data": {
      "image/png": "[encoded data removed]",
      "text/plain": [
       "<Figure size 640x480 with 1 Axes>"
      ]
     },
     "metadata": {},
     "output_type": "display_data"
    },
    {
     "data": {
      "image/png": "[encoded data removed]",
      "text/plain": [
       "<Figure size 640x480 with 1 Axes>"
      ]
     },
     "metadata": {},
     "output_type": "display_data"
    }
   ],
   "source": [
    "for i in range(3):  \n",
    "    pyplot.subplot(330 + 1 + i)\n",
    "    pyplot.imshow(train_x[i], cmap=pyplot.get_cmap('gray'))\n",
    "    pyplot.show()"
   ]
  },
  {
   "cell_type": "code",
   "execution_count": 10,
   "id": "329cc15c-9b02-462d-b4e3-5b9d4c765bd8",
   "metadata": {
    "ExecuteTime": {
     "end_time": "2023-01-09T16:04:22.567029Z",
     "start_time": "2023-01-09T16:04:19.882545Z"
    }
   },
   "outputs": [
    {
     "name": "stderr",
     "output_type": "stream",
     "text": [
      "WARNING:absl:Found untraced functions such as _jit_compiled_convolution_op, _jit_compiled_convolution_op while saving (showing 2 of 2). These functions will not be directly callable after loading.\n"
     ]
    },
    {
     "name": "stdout",
     "output_type": "stream",
     "text": [
      "INFO:tensorflow:Assets written to: lenet_5_model\\assets\n"
     ]
    },
    {
     "name": "stderr",
     "output_type": "stream",
     "text": [
      "INFO:tensorflow:Assets written to: lenet_5_model\\assets\n"
     ]
    },
    {
     "name": "stdout",
     "output_type": "stream",
     "text": [
      "['assets', 'keras_metadata.pb', 'saved_model.pb', 'variables']\n"
     ]
    }
   ],
   "source": [
    "lenet_5_model.save('lenet_5_model')\n",
    "print(os.listdir('lenet_5_model'))"
   ]
  },
  {
   "cell_type": "code",
   "execution_count": 11,
   "id": "d883f56b-b134-4d81-aedb-1a0213cf2e5a",
   "metadata": {
    "ExecuteTime": {
     "end_time": "2023-01-09T16:04:22.721621Z",
     "start_time": "2023-01-09T16:04:22.603456Z"
    }
   },
   "outputs": [],
   "source": [
    "lenet_5_model.save(\"my.h5\")"
   ]
  },
  {
   "cell_type": "code",
   "execution_count": 12,
   "id": "e4039b16-8b65-4686-8e77-d8933555c2b1",
   "metadata": {
    "ExecuteTime": {
     "end_time": "2023-01-09T16:04:22.815915Z",
     "start_time": "2023-01-09T16:04:22.757103Z"
    }
   },
   "outputs": [
    {
     "name": "stdout",
     "output_type": "stream",
     "text": [
      "Model: \"sequential\"\n",
      "_________________________________________________________________\n",
      " Layer (type)                Output Shape              Param #   \n",
      "=================================================================\n",
      " conv2d (Conv2D)             (None, 28, 28, 6)         156       \n",
      "                                                                 \n",
      " average_pooling2d (AverageP  (None, 14, 14, 6)        0         \n",
      " ooling2D)                                                       \n",
      "                                                                 \n",
      " conv2d_1 (Conv2D)           (None, 10, 10, 16)        2416      \n",
      "                                                                 \n",
      " average_pooling2d_1 (Averag  (None, 5, 5, 16)         0         \n",
      " ePooling2D)                                                     \n",
      "                                                                 \n",
      " flatten (Flatten)           (None, 400)               0         \n",
      "                                                                 \n",
      " dense (Dense)               (None, 120)               48120     \n",
      "                                                                 \n",
      " dense_1 (Dense)             (None, 84)                10164     \n",
      "                                                                 \n",
      " dense_2 (Dense)             (None, 10)                850       \n",
      "                                                                 \n",
      "=================================================================\n",
      "Total params: 61,706\n",
      "Trainable params: 61,706\n",
      "Non-trainable params: 0\n",
      "_________________________________________________________________\n"
     ]
    }
   ],
   "source": [
    "lenet_5_model.summary()"
   ]
  },
  {
   "cell_type": "code",
   "execution_count": 13,
   "id": "24d1a878-c7a2-4688-9dca-35ab8c5edd2c",
   "metadata": {
    "ExecuteTime": {
     "end_time": "2023-01-09T16:04:22.862024Z",
     "start_time": "2023-01-09T16:04:22.850030Z"
    }
   },
   "outputs": [],
   "source": [
    "json_model = lenet_5_model.to_json()"
   ]
  },
  {
   "cell_type": "code",
   "execution_count": 14,
   "id": "c3a3b789-e537-4677-931e-6688b2786be7",
   "metadata": {
    "ExecuteTime": {
     "end_time": "2023-01-09T16:04:22.907797Z",
     "start_time": "2023-01-09T16:04:22.894695Z"
    }
   },
   "outputs": [],
   "source": [
    "with open('fashionmnist_model.json', 'w') as json_file:\n",
    "    json_file.write(json_model)"
   ]
  },
  {
   "cell_type": "code",
   "execution_count": 21,
   "id": "14bd5eec-4991-4eed-ac6e-4d6d126a167d",
   "metadata": {
    "ExecuteTime": {
     "end_time": "2023-01-09T16:14:46.830341Z",
     "start_time": "2023-01-09T16:14:46.709169Z"
    }
   },
   "outputs": [],
   "source": [
    "lenet_5_model.save_weights('weights.ckpt')"
   ]
  },
  {
   "cell_type": "code",
   "execution_count": null,
   "id": "e9388997",
   "metadata": {},
   "outputs": [],
   "source": [
    "# 从 checkpoint 文件加载模型权重\n",
    "lenet_5_model.load_weights('weights.ckpt')\n",
    "\n",
    "# 获取所有权重张量的名称\n",
    "weights = lenet_5_model.weights\n",
    "weight_names = [weight.name for weight in weights]"
   ]
  },
  {
   "cell_type": "code",
   "execution_count": 30,
   "id": "d6b1e490",
   "metadata": {
    "ExecuteTime": {
     "end_time": "2023-01-09T16:22:18.780372Z",
     "start_time": "2023-01-09T16:22:18.767328Z"
    }
   },
   "outputs": [
    {
     "data": {
      "text/plain": [
       "['conv2d/kernel:0',\n",
       " 'conv2d/bias:0',\n",
       " 'conv2d_1/kernel:0',\n",
       " 'conv2d_1/bias:0',\n",
       " 'dense/kernel:0',\n",
       " 'dense/bias:0',\n",
       " 'dense_1/kernel:0',\n",
       " 'dense_1/bias:0',\n",
       " 'dense_2/kernel:0',\n",
       " 'dense_2/bias:0']"
      ]
     },
     "execution_count": 30,
     "metadata": {},
     "output_type": "execute_result"
    }
   ],
   "source": [
    "weight_names"
   ]
  },
  {
   "cell_type": "code",
   "execution_count": 48,
   "id": "7bc623da",
   "metadata": {
    "ExecuteTime": {
     "end_time": "2023-01-09T16:33:15.861790Z",
     "start_time": "2023-01-09T16:33:15.793751Z"
    }
   },
   "outputs": [],
   "source": [
    "# 使用 Python 的 open 函数创建一个 txt 文件\n",
    "with open('weights.txt', 'w') as f:\n",
    "  # 遍历权重张量\n",
    "  for i in range(len(lenet_5_model.layers)):\n",
    "    # 获取权重张量的值\n",
    "   \n",
    "    weight_value = lenet_5_model.layers[i].get_weights()\n",
    "\n",
    "    # 将权重张量的名称和值写入文件\n",
    "    \n",
    "    f.write(str(weight_value) + '\\n')"
   ]
  },
  {
   "cell_type": "code",
   "execution_count": 46,
   "id": "52b0bc3b",
   "metadata": {
    "ExecuteTime": {
     "end_time": "2023-01-09T16:31:28.976783Z",
     "start_time": "2023-01-09T16:31:28.958232Z"
    }
   },
   "outputs": [
    {
     "data": {
      "text/plain": [
       "8"
      ]
     },
     "execution_count": 46,
     "metadata": {},
     "output_type": "execute_result"
    }
   ],
   "source": [
    "len(lenet_5_model.layers)"
   ]
  },
  {
   "cell_type": "code",
   "execution_count": 45,
   "id": "929aed57-808a-4df6-a9f7-ce9eec9d4ba1",
   "metadata": {
    "ExecuteTime": {
     "end_time": "2023-01-09T16:30:26.476683Z",
     "start_time": "2023-01-09T16:30:26.456661Z"
    }
   },
   "outputs": [
    {
     "data": {
      "text/plain": [
       "[array([[[[ 1.08227760e-01,  1.05966873e-01, -6.45524114e-02,\n",
       "            1.80297121e-02,  3.05476636e-01,  5.04808016e-02]],\n",
       " \n",
       "         [[-6.34455085e-01,  1.00915946e-01,  1.14728287e-01,\n",
       "           -2.46795844e-02,  1.23239055e-01, -2.07327724e-01]],\n",
       " \n",
       "         [[-3.17345828e-01, -2.80886404e-02,  2.88306326e-01,\n",
       "            2.92748779e-01,  3.45834672e-01, -6.33070990e-02]],\n",
       " \n",
       "         [[-1.96718544e-01,  1.11604244e-01,  1.31374404e-01,\n",
       "            3.95033509e-02,  3.08705330e-01, -3.48987669e-01]],\n",
       " \n",
       "         [[ 2.99523443e-01, -5.89050874e-02,  3.03947419e-01,\n",
       "            7.89149925e-02,  3.04306149e-01,  6.84375316e-02]]],\n",
       " \n",
       " \n",
       "        [[[-2.89741784e-01, -1.66871790e-02, -3.39259505e-01,\n",
       "            2.55435407e-01,  1.39432222e-01, -2.33403355e-01]],\n",
       " \n",
       "         [[-7.43997157e-01,  1.00821145e-01, -1.93178341e-01,\n",
       "            3.80145043e-01,  2.98320889e-01, -4.79570478e-01]],\n",
       " \n",
       "         [[-4.32587534e-01, -2.17100885e-02, -9.27483141e-02,\n",
       "            2.78993100e-01,  1.67974010e-01, -3.34486544e-01]],\n",
       " \n",
       "         [[ 6.01419061e-02,  1.46398112e-01,  3.58341001e-02,\n",
       "            2.44405955e-01, -3.32087092e-02, -3.14893693e-01]],\n",
       " \n",
       "         [[ 2.81542361e-01,  2.19179228e-01,  2.95871198e-01,\n",
       "            2.40931491e-04,  3.09363216e-01,  1.25815608e-02]]],\n",
       " \n",
       " \n",
       "        [[[-5.36631703e-01,  2.72753268e-01, -5.73858202e-01,\n",
       "           -4.78078006e-03,  2.76091784e-01, -2.78607737e-02]],\n",
       " \n",
       "         [[-6.92110777e-01,  1.41386181e-01, -3.95895094e-01,\n",
       "            3.22350562e-01,  1.03516001e-02, -2.98082501e-01]],\n",
       " \n",
       "         [[-3.35525721e-02, -8.71211290e-02, -2.15553939e-01,\n",
       "            1.44793674e-01, -2.92003781e-01, -3.81591350e-01]],\n",
       " \n",
       "         [[ 1.22285403e-01,  2.74423659e-01, -1.08507968e-01,\n",
       "           -2.05949053e-01,  3.96412686e-02, -2.96058267e-01]],\n",
       " \n",
       "         [[ 1.01112597e-01,  3.57634634e-01,  9.39812958e-02,\n",
       "           -2.18488067e-01, -3.02837547e-02,  2.05403820e-01]]],\n",
       " \n",
       " \n",
       "        [[[-5.34126282e-01, -1.18222162e-02, -1.37351211e-02,\n",
       "            2.12221425e-02, -2.99858660e-01,  1.80503607e-01]],\n",
       " \n",
       "         [[-4.26900566e-01, -1.16098367e-01, -2.17845201e-01,\n",
       "           -2.67973766e-02, -4.68161583e-01, -1.25967741e-01]],\n",
       " \n",
       "         [[ 5.53257242e-02, -3.09993830e-02, -4.23194826e-01,\n",
       "           -3.45671773e-01, -4.98479426e-01, -1.47759587e-01]],\n",
       " \n",
       "         [[ 2.35947911e-02, -5.42917326e-02, -4.13764536e-01,\n",
       "           -5.68898618e-01, -5.18364012e-01, -5.33643086e-03]],\n",
       " \n",
       "         [[ 2.22284690e-01,  1.41170710e-01, -4.86833632e-01,\n",
       "           -2.96059877e-01, -1.45573169e-01,  3.69188488e-01]]],\n",
       " \n",
       " \n",
       "        [[[-3.02677453e-01,  2.43518054e-02,  4.20073986e-01,\n",
       "            1.28255412e-01, -1.58840299e-01,  2.08770037e-01]],\n",
       " \n",
       "         [[-8.05381164e-02, -3.92272651e-01,  8.63362998e-02,\n",
       "           -1.63156483e-02, -3.37560982e-01,  1.03670500e-01]],\n",
       " \n",
       "         [[ 2.86521643e-01, -2.24229157e-01,  2.78495662e-02,\n",
       "           -4.90407884e-01, -1.38285354e-01,  3.41672301e-01]],\n",
       " \n",
       "         [[ 2.62748331e-01, -1.23818576e-01, -1.83350489e-01,\n",
       "           -5.87726533e-01, -1.47594437e-01,  3.52039129e-01]],\n",
       " \n",
       "         [[ 1.84014007e-01, -3.27479728e-02, -3.51209283e-01,\n",
       "           -3.39066595e-01, -2.42267638e-01,  3.90455395e-01]]]],\n",
       "       dtype=float32),\n",
       " array([ 0.05220158, -0.09674183,  0.10994239,  0.09322121, -0.09623946,\n",
       "         0.08488812], dtype=float32)]"
      ]
     },
     "execution_count": 45,
     "metadata": {},
     "output_type": "execute_result"
    }
   ],
   "source": [
    "lenet_5_model.layers[0].get_weights()"
   ]
  },
  {
   "cell_type": "code",
   "execution_count": null,
   "id": "94c8d0cc",
   "metadata": {},
   "outputs": [],
   "source": []
  },
  {
   "cell_type": "code",
   "execution_count": null,
   "id": "8048c76c",
   "metadata": {},
   "outputs": [],
   "source": []
  }
 ],
 "metadata": {
  "kernelspec": {
   "display_name": "Python 3 (ipykernel)",
   "language": "python",
   "name": "python3"
  },
  "language_info": {
   "codemirror_mode": {
    "name": "ipython",
    "version": 3
   },
   "file_extension": ".py",
   "mimetype": "text/x-python",
   "name": "python",
   "nbconvert_exporter": "python",
   "pygments_lexer": "ipython3",
   "version": "3.9.13"
  },
  "toc": {
   "base_numbering": 1,
   "nav_menu": {},
   "number_sections": true,
   "sideBar": true,
   "skip_h1_title": false,
   "title_cell": "Table of Contents",
   "title_sidebar": "Contents",
   "toc_cell": false,
   "toc_position": {},
   "toc_section_display": true,
   "toc_window_display": false
  },
  "varInspector": {
   "cols": {
    "lenName": 16,
    "lenType": 16,
    "lenVar": 40
   },
   "kernels_config": {
    "python": {
     "delete_cmd_postfix": "",
     "delete_cmd_prefix": "del ",
     "library": "var_list.py",
     "varRefreshCmd": "print(var_dic_list())"
    },
    "r": {
     "delete_cmd_postfix": ") ",
     "delete_cmd_prefix": "rm(",
     "library": "var_list.r",
     "varRefreshCmd": "cat(var_dic_list()) "
    }
   },
   "types_to_exclude": [
    "module",
    "function",
    "builtin_function_or_method",
    "instance",
    "_Feature"
   ],
   "window_display": false
  }
 },
 "nbformat": 4,
 "nbformat_minor": 5
}
