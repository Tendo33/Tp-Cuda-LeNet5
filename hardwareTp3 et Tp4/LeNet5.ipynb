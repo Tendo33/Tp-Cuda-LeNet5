{
 "cells": [
  {
   "cell_type": "code",
   "execution_count": 1,
   "id": "a490f7a0-cb6d-4048-87e6-3fa66ee45232",
   "metadata": {
    "ExecuteTime": {
     "end_time": "2023-01-10T19:36:01.815940Z",
     "start_time": "2023-01-10T19:35:58.442362Z"
    }
   },
   "outputs": [],
   "source": [
    "import tensorflow as tf\n",
    "from tensorflow import keras\n",
    "import numpy as np\n",
    "from matplotlib import pyplot\n",
    "from keras.models import model_from_json\n",
    "import os"
   ]
  },
  {
   "cell_type": "code",
   "execution_count": 2,
   "id": "93d3031b-4533-4aec-a39f-02e28c2e70a7",
   "metadata": {
    "ExecuteTime": {
     "end_time": "2023-01-10T19:36:02.113032Z",
     "start_time": "2023-01-10T19:36:01.826825Z"
    }
   },
   "outputs": [
    {
     "data": {
      "text/plain": [
       "(60000, 28, 28)"
      ]
     },
     "execution_count": 2,
     "metadata": {},
     "output_type": "execute_result"
    }
   ],
   "source": [
    "(train_x, train_y), (test_x, test_y) = keras.datasets.mnist.load_data()\n",
    "train_x = train_x / 255.0\n",
    "test_x = test_x / 255.0\n",
    "train_x.shape"
   ]
  },
  {
   "cell_type": "code",
   "execution_count": 3,
   "id": "f25fabb6-19d5-49a4-9598-085544a8aab2",
   "metadata": {
    "ExecuteTime": {
     "end_time": "2023-01-10T19:36:03.278535Z",
     "start_time": "2023-01-10T19:36:02.135878Z"
    }
   },
   "outputs": [
    {
     "data": {
      "text/plain": [
       "TensorShape([60000, 28, 28, 1])"
      ]
     },
     "execution_count": 3,
     "metadata": {},
     "output_type": "execute_result"
    }
   ],
   "source": [
    "train_x = tf.expand_dims(train_x, 3)\n",
    "test_x = tf.expand_dims(test_x, 3)\n",
    "val_x = train_x[:5000]\n",
    "val_y = train_y[:5000]\n",
    "train_x.shape"
   ]
  },
  {
   "cell_type": "code",
   "execution_count": 4,
   "id": "932346b8-8227-448e-aa93-8912ca971962",
   "metadata": {
    "ExecuteTime": {
     "end_time": "2023-01-10T19:36:03.601318Z",
     "start_time": "2023-01-10T19:36:03.408318Z"
    }
   },
   "outputs": [],
   "source": [
    "lenet_5_model = keras.models.Sequential([\n",
    "    keras.layers.Conv2D(6, kernel_size=5, strides=1,  activation='tanh', input_shape=train_x[0].shape, padding='same'), #C1\n",
    "    keras.layers.AveragePooling2D(), #S2\n",
    "    keras.layers.Conv2D(16, kernel_size=5, strides=1, activation='tanh', padding='valid'), #C3\n",
    "    keras.layers.AveragePooling2D(), #S4\n",
    "    keras.layers.Flatten(), #Flatten\n",
    "    keras.layers.Dense(120, activation='tanh'), #C5\n",
    "    keras.layers.Dense(84, activation='tanh'), #F6\n",
    "    keras.layers.Dense(10, activation='softmax') #Output layer\n",
    "])"
   ]
  },
  {
   "cell_type": "code",
   "execution_count": 5,
   "id": "0f9c7fb0-964d-4279-8347-1533097d7c66",
   "metadata": {
    "ExecuteTime": {
     "end_time": "2023-01-10T19:36:03.631343Z",
     "start_time": "2023-01-10T19:36:03.618322Z"
    }
   },
   "outputs": [],
   "source": [
    "lenet_5_model.compile(optimizer='adam',loss=keras.losses.sparse_categorical_crossentropy, metrics=['accuracy'])"
   ]
  },
  {
   "cell_type": "code",
   "execution_count": 6,
   "id": "c1dadc66-075f-4398-9849-4dc87647163f",
   "metadata": {
    "ExecuteTime": {
     "end_time": "2023-01-10T19:36:32.179036Z",
     "start_time": "2023-01-10T19:36:03.654157Z"
    }
   },
   "outputs": [
    {
     "name": "stdout",
     "output_type": "stream",
     "text": [
      "Epoch 1/5\n",
      "1875/1875 [==============================] - 10s 3ms/step - loss: 0.2227 - accuracy: 0.9348 - val_loss: 0.0883 - val_accuracy: 0.9766\n",
      "Epoch 2/5\n",
      "1875/1875 [==============================] - 5s 2ms/step - loss: 0.0871 - accuracy: 0.9733 - val_loss: 0.0539 - val_accuracy: 0.9838\n",
      "Epoch 3/5\n",
      "1875/1875 [==============================] - 4s 2ms/step - loss: 0.0611 - accuracy: 0.9813 - val_loss: 0.0367 - val_accuracy: 0.9894\n",
      "Epoch 4/5\n",
      "1875/1875 [==============================] - 5s 2ms/step - loss: 0.0453 - accuracy: 0.9864 - val_loss: 0.0315 - val_accuracy: 0.9910\n",
      "Epoch 5/5\n",
      "1875/1875 [==============================] - 5s 2ms/step - loss: 0.0383 - accuracy: 0.9879 - val_loss: 0.0280 - val_accuracy: 0.9928\n"
     ]
    },
    {
     "data": {
      "text/plain": [
       "<keras.callbacks.History at 0x2ca80710790>"
      ]
     },
     "execution_count": 6,
     "metadata": {},
     "output_type": "execute_result"
    }
   ],
   "source": [
    "lenet_5_model.fit(train_x, train_y, epochs=5, validation_data=(val_x, val_y))"
   ]
  },
  {
   "cell_type": "code",
   "execution_count": 7,
   "id": "b9886896-43dc-4831-a595-7f040928b87f",
   "metadata": {
    "ExecuteTime": {
     "end_time": "2023-01-10T19:36:32.770840Z",
     "start_time": "2023-01-10T19:36:32.195417Z"
    }
   },
   "outputs": [
    {
     "name": "stdout",
     "output_type": "stream",
     "text": [
      "313/313 [==============================] - 1s 2ms/step - loss: 0.0525 - accuracy: 0.9834\n"
     ]
    },
    {
     "data": {
      "text/plain": [
       "[0.05249230936169624, 0.9833999872207642]"
      ]
     },
     "execution_count": 7,
     "metadata": {},
     "output_type": "execute_result"
    }
   ],
   "source": [
    "lenet_5_model.evaluate(test_x, test_y)"
   ]
  },
  {
   "cell_type": "code",
   "execution_count": 8,
   "id": "e6e8ca62-f863-4e73-acac-25cd7c8d91f9",
   "metadata": {
    "ExecuteTime": {
     "end_time": "2023-01-10T19:36:32.950848Z",
     "start_time": "2023-01-10T19:36:32.786381Z"
    }
   },
   "outputs": [
    {
     "data": {
      "image/png": "[encoded data removed]",
      "text/plain": [
       "<Figure size 640x480 with 1 Axes>"
      ]
     },
     "metadata": {},
     "output_type": "display_data"
    },
    {
     "data": {
      "image/png": "[encoded data removed]",
      "text/plain": [
       "<Figure size 640x480 with 1 Axes>"
      ]
     },
     "metadata": {},
     "output_type": "display_data"
    },
    {
     "data": {
      "image/png": "[encoded data removed]",
      "text/plain": [
       "<Figure size 640x480 with 1 Axes>"
      ]
     },
     "metadata": {},
     "output_type": "display_data"
    }
   ],
   "source": [
    "for i in range(3):  \n",
    "    pyplot.subplot(330 + 1 + i)\n",
    "    pyplot.imshow(train_x[i], cmap=pyplot.get_cmap('gray'))\n",
    "    pyplot.show()"
   ]
  },
  {
   "cell_type": "code",
   "execution_count": 9,
   "id": "329cc15c-9b02-462d-b4e3-5b9d4c765bd8",
   "metadata": {
    "ExecuteTime": {
     "end_time": "2023-01-10T19:36:33.968120Z",
     "start_time": "2023-01-10T19:36:32.962784Z"
    }
   },
   "outputs": [
    {
     "name": "stderr",
     "output_type": "stream",
     "text": [
      "WARNING:absl:Found untraced functions such as _jit_compiled_convolution_op, _jit_compiled_convolution_op while saving (showing 2 of 2). These functions will not be directly callable after loading.\n"
     ]
    },
    {
     "name": "stdout",
     "output_type": "stream",
     "text": [
      "INFO:tensorflow:Assets written to: lenet_5_model\\assets\n"
     ]
    },
    {
     "name": "stderr",
     "output_type": "stream",
     "text": [
      "INFO:tensorflow:Assets written to: lenet_5_model\\assets\n"
     ]
    },
    {
     "name": "stdout",
     "output_type": "stream",
     "text": [
      "['assets', 'keras_metadata.pb', 'saved_model.pb', 'variables']\n"
     ]
    }
   ],
   "source": [
    "lenet_5_model.save('lenet_5_model')\n",
    "print(os.listdir('lenet_5_model'))"
   ]
  },
  {
   "cell_type": "code",
   "execution_count": 10,
   "id": "d883f56b-b134-4d81-aedb-1a0213cf2e5a",
   "metadata": {
    "ExecuteTime": {
     "end_time": "2023-01-10T19:36:34.032375Z",
     "start_time": "2023-01-10T19:36:33.984915Z"
    }
   },
   "outputs": [],
   "source": [
    "lenet_5_model.save(\"my.h5\")"
   ]
  },
  {
   "cell_type": "code",
   "execution_count": 11,
   "id": "e4039b16-8b65-4686-8e77-d8933555c2b1",
   "metadata": {
    "ExecuteTime": {
     "end_time": "2023-01-10T19:36:34.063329Z",
     "start_time": "2023-01-10T19:36:34.048301Z"
    }
   },
   "outputs": [
    {
     "name": "stdout",
     "output_type": "stream",
     "text": [
      "Model: \"sequential\"\n",
      "_________________________________________________________________\n",
      " Layer (type)                Output Shape              Param #   \n",
      "=================================================================\n",
      " conv2d (Conv2D)             (None, 28, 28, 6)         156       \n",
      "                                                                 \n",
      " average_pooling2d (AverageP  (None, 14, 14, 6)        0         \n",
      " ooling2D)                                                       \n",
      "                                                                 \n",
      " conv2d_1 (Conv2D)           (None, 10, 10, 16)        2416      \n",
      "                                                                 \n",
      " average_pooling2d_1 (Averag  (None, 5, 5, 16)         0         \n",
      " ePooling2D)                                                     \n",
      "                                                                 \n",
      " flatten (Flatten)           (None, 400)               0         \n",
      "                                                                 \n",
      " dense (Dense)               (None, 120)               48120     \n",
      "                                                                 \n",
      " dense_1 (Dense)             (None, 84)                10164     \n",
      "                                                                 \n",
      " dense_2 (Dense)             (None, 10)                850       \n",
      "                                                                 \n",
      "=================================================================\n",
      "Total params: 61,706\n",
      "Trainable params: 61,706\n",
      "Non-trainable params: 0\n",
      "_________________________________________________________________\n"
     ]
    }
   ],
   "source": [
    "lenet_5_model.summary()"
   ]
  },
  {
   "cell_type": "code",
   "execution_count": 22,
   "id": "a61e92b4",
   "metadata": {
    "ExecuteTime": {
     "end_time": "2023-01-10T19:55:35.370406Z",
     "start_time": "2023-01-10T19:55:35.363057Z"
    }
   },
   "outputs": [],
   "source": [
    "ckpt = tf.train.Checkpoint(model=lenet_5_model)"
   ]
  },
  {
   "cell_type": "code",
   "execution_count": 12,
   "id": "24d1a878-c7a2-4688-9dca-35ab8c5edd2c",
   "metadata": {
    "ExecuteTime": {
     "end_time": "2023-01-10T19:36:34.093504Z",
     "start_time": "2023-01-10T19:36:34.080542Z"
    }
   },
   "outputs": [],
   "source": [
    "json_model = lenet_5_model.to_json()\n"
   ]
  },
  {
   "cell_type": "code",
   "execution_count": 23,
   "id": "3287e2cb",
   "metadata": {
    "ExecuteTime": {
     "end_time": "2023-01-10T19:56:00.351029Z",
     "start_time": "2023-01-10T19:56:00.292726Z"
    }
   },
   "outputs": [
    {
     "data": {
      "text/plain": [
       "'weights-1'"
      ]
     },
     "execution_count": 23,
     "metadata": {},
     "output_type": "execute_result"
    }
   ],
   "source": [
    "ckpt.save(file_prefix=\"weights\")"
   ]
  },
  {
   "cell_type": "code",
   "execution_count": 25,
   "id": "9f94b87b",
   "metadata": {
    "ExecuteTime": {
     "end_time": "2023-01-10T19:59:43.319187Z",
     "start_time": "2023-01-10T19:59:43.144987Z"
    }
   },
   "outputs": [
    {
     "ename": "AttributeError",
     "evalue": "'str' object has no attribute 'experimental_enable_async_checkpoint'",
     "output_type": "error",
     "traceback": [
      "\u001b[1;31m---------------------------------------------------------------------------\u001b[0m",
      "\u001b[1;31mAttributeError\u001b[0m                            Traceback (most recent call last)",
      "Input \u001b[1;32mIn [25]\u001b[0m, in \u001b[0;36m<cell line: 1>\u001b[1;34m()\u001b[0m\n\u001b[1;32m----> 1\u001b[0m \u001b[43mckpt\u001b[49m\u001b[38;5;241;43m.\u001b[39;49m\u001b[43msave\u001b[49m\u001b[43m(\u001b[49m\u001b[43mfile_prefix\u001b[49m\u001b[38;5;241;43m=\u001b[39;49m\u001b[38;5;124;43m\"\u001b[39;49m\u001b[38;5;124;43mweights\u001b[39;49m\u001b[38;5;124;43m\"\u001b[39;49m\u001b[43m,\u001b[49m\u001b[43m \u001b[49m\u001b[43moptions\u001b[49m\u001b[38;5;241;43m=\u001b[39;49m\u001b[38;5;124;43m'\u001b[39;49m\u001b[38;5;124;43mtf.train.Checkpoint.Format.BINARY\u001b[39;49m\u001b[38;5;124;43m'\u001b[39;49m\u001b[43m)\u001b[49m\n",
      "File \u001b[1;32mD:\\anaconda\\envs\\Tensorflow\\lib\\site-packages\\tensorflow\\python\\checkpoint\\checkpoint.py:2374\u001b[0m, in \u001b[0;36mCheckpoint.save\u001b[1;34m(self, file_prefix, options)\u001b[0m\n\u001b[0;32m   2371\u001b[0m \u001b[38;5;28;01melse\u001b[39;00m:\n\u001b[0;32m   2372\u001b[0m   checkpoint_number \u001b[38;5;241m=\u001b[39m assign_op\u001b[38;5;241m.\u001b[39mnumpy()\n\u001b[1;32m-> 2374\u001b[0m file_path \u001b[38;5;241m=\u001b[39m \u001b[38;5;28;43mself\u001b[39;49m\u001b[38;5;241;43m.\u001b[39;49m\u001b[43m_write\u001b[49m\u001b[43m(\u001b[49m\n\u001b[0;32m   2375\u001b[0m \u001b[43m    \u001b[49m\u001b[38;5;124;43m\"\u001b[39;49m\u001b[38;5;132;43;01m%s\u001b[39;49;00m\u001b[38;5;124;43m-\u001b[39;49m\u001b[38;5;132;43;01m%d\u001b[39;49;00m\u001b[38;5;124;43m\"\u001b[39;49m\u001b[43m \u001b[49m\u001b[38;5;241;43m%\u001b[39;49m\u001b[43m \u001b[49m\u001b[43m(\u001b[49m\u001b[43mfile_prefix\u001b[49m\u001b[43m,\u001b[49m\u001b[43m \u001b[49m\u001b[43mcheckpoint_number\u001b[49m\u001b[43m)\u001b[49m\u001b[43m,\u001b[49m\n\u001b[0;32m   2376\u001b[0m \u001b[43m    \u001b[49m\u001b[43moptions\u001b[49m\u001b[38;5;241;43m=\u001b[39;49m\u001b[43moptions\u001b[49m\u001b[43m,\u001b[49m\n\u001b[0;32m   2377\u001b[0m \u001b[43m    \u001b[49m\u001b[43mupdate_ckpt_state\u001b[49m\u001b[38;5;241;43m=\u001b[39;49m\u001b[38;5;28;43;01mTrue\u001b[39;49;00m\u001b[43m)\u001b[49m\n\u001b[0;32m   2379\u001b[0m \u001b[38;5;66;03m# Update internal checkpoint state.\u001b[39;00m\n\u001b[0;32m   2380\u001b[0m \u001b[38;5;28;01mif\u001b[39;00m \u001b[38;5;129;01mnot\u001b[39;00m options\u001b[38;5;241m.\u001b[39mexperimental_enable_async_checkpoint:\n\u001b[0;32m   2381\u001b[0m   \u001b[38;5;66;03m# For synchronous checkpoint, since SaveOp may be run as in graph/session\u001b[39;00m\n\u001b[0;32m   2382\u001b[0m   \u001b[38;5;66;03m# mode, checkpoint state can only be updated once SaveOp is finished by\u001b[39;00m\n\u001b[1;32m   (...)\u001b[0m\n\u001b[0;32m   2387\u001b[0m   \u001b[38;5;66;03m# as the eager SaveOp finishes.\u001b[39;00m\n\u001b[0;32m   2388\u001b[0m   \u001b[38;5;66;03m# See TrackableSaver._save_cached_when_graph_building() for more details.\u001b[39;00m\n",
      "File \u001b[1;32mD:\\anaconda\\envs\\Tensorflow\\lib\\site-packages\\tensorflow\\python\\checkpoint\\checkpoint.py:2256\u001b[0m, in \u001b[0;36mCheckpoint._write\u001b[1;34m(self, file_prefix, options, update_ckpt_state)\u001b[0m\n\u001b[0;32m   2254\u001b[0m start_time \u001b[38;5;241m=\u001b[39m time\u001b[38;5;241m.\u001b[39mtime()\n\u001b[0;32m   2255\u001b[0m options \u001b[38;5;241m=\u001b[39m options \u001b[38;5;129;01mor\u001b[39;00m checkpoint_options\u001b[38;5;241m.\u001b[39mCheckpointOptions()\n\u001b[1;32m-> 2256\u001b[0m output \u001b[38;5;241m=\u001b[39m \u001b[38;5;28;43mself\u001b[39;49m\u001b[38;5;241;43m.\u001b[39;49m\u001b[43m_saver\u001b[49m\u001b[38;5;241;43m.\u001b[39;49m\u001b[43msave\u001b[49m\u001b[43m(\u001b[49m\n\u001b[0;32m   2257\u001b[0m \u001b[43m    \u001b[49m\u001b[43mfile_prefix\u001b[49m\u001b[38;5;241;43m=\u001b[39;49m\u001b[43mfile_prefix\u001b[49m\u001b[43m,\u001b[49m\n\u001b[0;32m   2258\u001b[0m \u001b[43m    \u001b[49m\u001b[43moptions\u001b[49m\u001b[38;5;241;43m=\u001b[39;49m\u001b[43moptions\u001b[49m\u001b[43m,\u001b[49m\n\u001b[0;32m   2259\u001b[0m \u001b[43m    \u001b[49m\u001b[43mupdate_ckpt_state\u001b[49m\u001b[38;5;241;43m=\u001b[39;49m\u001b[43mupdate_ckpt_state\u001b[49m\u001b[43m)\u001b[49m\n\u001b[0;32m   2260\u001b[0m end_time \u001b[38;5;241m=\u001b[39m time\u001b[38;5;241m.\u001b[39mtime()\n\u001b[0;32m   2262\u001b[0m metrics\u001b[38;5;241m.\u001b[39mAddCheckpointWriteDuration(\n\u001b[0;32m   2263\u001b[0m     api_label\u001b[38;5;241m=\u001b[39m_CHECKPOINT_V2,\n\u001b[0;32m   2264\u001b[0m     microseconds\u001b[38;5;241m=\u001b[39m_get_duration_microseconds(start_time, end_time))\n",
      "File \u001b[1;32mD:\\anaconda\\envs\\Tensorflow\\lib\\site-packages\\tensorflow\\python\\checkpoint\\checkpoint.py:1351\u001b[0m, in \u001b[0;36mTrackableSaver.save\u001b[1;34m(self, file_prefix, checkpoint_number, session, options, update_ckpt_state)\u001b[0m\n\u001b[0;32m   1348\u001b[0m \u001b[38;5;28;01mif\u001b[39;00m \u001b[38;5;129;01mnot\u001b[39;00m tensor_util\u001b[38;5;241m.\u001b[39mis_tensor(file_prefix):\n\u001b[0;32m   1349\u001b[0m   file_io\u001b[38;5;241m.\u001b[39mrecursive_create_dir(os\u001b[38;5;241m.\u001b[39mpath\u001b[38;5;241m.\u001b[39mdirname(file_prefix))\n\u001b[1;32m-> 1351\u001b[0m save_path, new_feed_additions \u001b[38;5;241m=\u001b[39m \u001b[38;5;28;43mself\u001b[39;49m\u001b[38;5;241;43m.\u001b[39;49m\u001b[43m_save_cached_when_graph_building\u001b[49m\u001b[43m(\u001b[49m\n\u001b[0;32m   1352\u001b[0m \u001b[43m    \u001b[49m\u001b[43mfile_prefix_tensor\u001b[49m\u001b[43m,\u001b[49m\u001b[43m \u001b[49m\u001b[43mobject_graph_tensor\u001b[49m\u001b[43m,\u001b[49m\u001b[43m \u001b[49m\u001b[43moptions\u001b[49m\u001b[43m,\u001b[49m\u001b[43m \u001b[49m\u001b[43mupdate_ckpt_state\u001b[49m\u001b[43m)\u001b[49m\n\u001b[0;32m   1354\u001b[0m \u001b[38;5;28;01mif\u001b[39;00m new_feed_additions:\n\u001b[0;32m   1355\u001b[0m   feed_dict\u001b[38;5;241m.\u001b[39mupdate(new_feed_additions)\n",
      "File \u001b[1;32mD:\\anaconda\\envs\\Tensorflow\\lib\\site-packages\\tensorflow\\python\\checkpoint\\checkpoint.py:1276\u001b[0m, in \u001b[0;36mTrackableSaver._save_cached_when_graph_building\u001b[1;34m(self, file_prefix, object_graph_tensor, options, update_ckpt_state)\u001b[0m\n\u001b[0;32m   1272\u001b[0m     \u001b[38;5;28;01mif\u001b[39;00m update_ckpt_state:\n\u001b[0;32m   1273\u001b[0m       _update_checkpoint_state_internal(\n\u001b[0;32m   1274\u001b[0m           _convert_file_name_tensor_to_string(file_prefix))\n\u001b[1;32m-> 1276\u001b[0m \u001b[38;5;28;01mif\u001b[39;00m \u001b[43moptions\u001b[49m\u001b[38;5;241;43m.\u001b[39;49m\u001b[43mexperimental_enable_async_checkpoint\u001b[49m:\n\u001b[0;32m   1277\u001b[0m   \u001b[38;5;66;03m# Execute async-checkpoint.\u001b[39;00m\n\u001b[0;32m   1278\u001b[0m \n\u001b[0;32m   1279\u001b[0m   \u001b[38;5;66;03m# Step-1: Explicitly copy the tensors to their host CPU device.\u001b[39;00m\n\u001b[0;32m   1280\u001b[0m   _copy_tensors()\n\u001b[0;32m   1282\u001b[0m   \u001b[38;5;66;03m# Step-2: Execute the rest of the checkpoint operations on the host device\u001b[39;00m\n\u001b[0;32m   1283\u001b[0m   \u001b[38;5;66;03m#         using an async executor.\u001b[39;00m\n",
      "\u001b[1;31mAttributeError\u001b[0m: 'str' object has no attribute 'experimental_enable_async_checkpoint'"
     ]
    }
   ],
   "source": [
    "ckpt.save(file_prefix=\"weights\", options='tf.train.Checkpoint.Format.BINARY')"
   ]
  },
  {
   "cell_type": "code",
   "execution_count": 13,
   "id": "c3a3b789-e537-4677-931e-6688b2786be7",
   "metadata": {
    "ExecuteTime": {
     "end_time": "2023-01-10T19:36:34.119983Z",
     "start_time": "2023-01-10T19:36:34.105626Z"
    }
   },
   "outputs": [],
   "source": [
    "with open('fashionmnist_model.json', 'w') as json_file:\n",
    "    json_file.write(json_model)"
   ]
  },
  {
   "cell_type": "code",
   "execution_count": 14,
   "id": "14bd5eec-4991-4eed-ac6e-4d6d126a167d",
   "metadata": {
    "ExecuteTime": {
     "end_time": "2023-01-10T19:36:34.175076Z",
     "start_time": "2023-01-10T19:36:34.129672Z"
    }
   },
   "outputs": [],
   "source": [
    "lenet_5_model.save_weights('weights.ckpt')"
   ]
  },
  {
   "cell_type": "code",
   "execution_count": 15,
   "id": "e9388997",
   "metadata": {
    "ExecuteTime": {
     "end_time": "2023-01-10T19:36:34.220416Z",
     "start_time": "2023-01-10T19:36:34.191065Z"
    }
   },
   "outputs": [],
   "source": [
    "# 从 checkpoint 文件加载模型权重\n",
    "lenet_5_model.load_weights('weights.ckpt')\n",
    "\n",
    "# 获取所有权重张量的名称\n",
    "weights = lenet_5_model.weights\n",
    "weight_names = [weight.name for weight in weights]"
   ]
  },
  {
   "cell_type": "code",
   "execution_count": 16,
   "id": "ad63bd16",
   "metadata": {
    "ExecuteTime": {
     "end_time": "2023-01-10T19:36:34.274087Z",
     "start_time": "2023-01-10T19:36:34.245251Z"
    }
   },
   "outputs": [
    {
     "data": {
      "text/plain": [
       "[<tf.Variable 'conv2d/kernel:0' shape=(5, 5, 1, 6) dtype=float32, numpy=\n",
       " array([[[[-0.17677288, -0.10921274, -0.15609926,  0.03247928,\n",
       "            0.34055483, -0.2703137 ]],\n",
       " \n",
       "         [[ 0.004232  ,  0.00610211, -0.1781902 ,  0.05771052,\n",
       "            0.43934068, -0.00511643]],\n",
       " \n",
       "         [[ 0.2724311 ,  0.18561174, -0.25380275,  0.06364666,\n",
       "            0.3033185 ,  0.27767712]],\n",
       " \n",
       "         [[ 0.29368713,  0.25290108, -0.22573078,  0.29018977,\n",
       "            0.19587277,  0.46380758]],\n",
       " \n",
       "         [[ 0.23007998,  0.3159453 , -0.19296125,  0.34255853,\n",
       "           -0.07667477,  0.31314597]]],\n",
       " \n",
       " \n",
       "        [[[ 0.00443434, -0.2764881 , -0.40048715,  0.15493181,\n",
       "            0.3140753 , -0.17219238]],\n",
       " \n",
       "         [[ 0.06433327, -0.21251029, -0.07486624,  0.34991392,\n",
       "            0.29158202,  0.03271443]],\n",
       " \n",
       "         [[ 0.42875502,  0.21320513, -0.19064397,  0.20902725,\n",
       "            0.21087246,  0.40052408]],\n",
       " \n",
       "         [[ 0.61221   ,  0.1179068 , -0.14206386,  0.04253705,\n",
       "            0.1747878 ,  0.40371832]],\n",
       " \n",
       "         [[ 0.21638371,  0.13053747, -0.38634035,  0.182969  ,\n",
       "           -0.0380987 ,  0.33302194]]],\n",
       " \n",
       " \n",
       "        [[[-0.28597265, -0.273075  ,  0.1705441 ,  0.28392854,\n",
       "            0.38636115, -0.04505619]],\n",
       " \n",
       "         [[ 0.09487689,  0.01444577,  0.05305041,  0.23496261,\n",
       "            0.16195677,  0.09614402]],\n",
       " \n",
       "         [[ 0.31660086, -0.09866036,  0.2365295 ,  0.20853344,\n",
       "           -0.00826405,  0.39111707]],\n",
       " \n",
       "         [[ 0.37550333,  0.2729285 ,  0.2084737 ,  0.1393465 ,\n",
       "           -0.2373716 ,  0.14958312]],\n",
       " \n",
       "         [[ 0.04951379,  0.18771966, -0.13524528, -0.13398984,\n",
       "           -0.0720609 ,  0.05052989]]],\n",
       " \n",
       " \n",
       "        [[[-0.21100691, -0.11761333,  0.36720026, -0.03409573,\n",
       "           -0.10120232, -0.2420603 ]],\n",
       " \n",
       "         [[ 0.06185686, -0.2093189 ,  0.336724  , -0.4952045 ,\n",
       "           -0.31155553, -0.08559219]],\n",
       " \n",
       "         [[ 0.26839298,  0.11740249,  0.5756229 , -0.26853585,\n",
       "           -0.30408445,  0.06885638]],\n",
       " \n",
       "         [[ 0.27112967,  0.06921719,  0.4480211 , -0.57790273,\n",
       "           -0.30132896, -0.11391268]],\n",
       " \n",
       "         [[-0.25946304,  0.15213333,  0.21103708, -0.48357576,\n",
       "            0.00210496, -0.24625742]]],\n",
       " \n",
       " \n",
       "        [[[-0.12025028, -0.29443812,  0.0410987 , -0.6585818 ,\n",
       "           -0.22604528, -0.1668644 ]],\n",
       " \n",
       "         [[-0.00570802,  0.03991325,  0.2506059 , -0.7555342 ,\n",
       "           -0.32837638, -0.14815141]],\n",
       " \n",
       "         [[-0.08111259,  0.04139631,  0.06651921, -0.65532386,\n",
       "           -0.07913367, -0.4063561 ]],\n",
       " \n",
       "         [[ 0.01570529,  0.23591968,  0.07807519, -0.48014146,\n",
       "           -0.31721494, -0.40051118]],\n",
       " \n",
       "         [[-0.34031242,  0.21491018,  0.03116132, -0.0801432 ,\n",
       "           -0.1579349 , -0.29832676]]]], dtype=float32)>,\n",
       " <tf.Variable 'conv2d/bias:0' shape=(6,) dtype=float32, numpy=\n",
       " array([-0.08947999, -0.03880781,  0.02794386, -0.10687135, -0.02216485,\n",
       "        -0.06637917], dtype=float32)>,\n",
       " <tf.Variable 'conv2d_1/kernel:0' shape=(5, 5, 6, 16) dtype=float32, numpy=\n",
       " array([[[[-1.84700802e-01, -4.85027917e-02,  3.01261336e-01, ...,\n",
       "            7.58204609e-02,  9.58077535e-02, -3.17586735e-02],\n",
       "          [-9.52989459e-02, -1.11058377e-01,  9.02086124e-02, ...,\n",
       "            1.95012152e-01, -7.74642592e-03,  2.79989634e-02],\n",
       "          [ 2.26601623e-02,  1.92984283e-01,  2.33560145e-01, ...,\n",
       "           -2.22325437e-02,  2.02461332e-01,  2.46048093e-01],\n",
       "          [-7.65065476e-02, -8.29315186e-02, -2.82134861e-01, ...,\n",
       "            2.52744406e-01, -1.67292506e-01, -9.54529196e-02],\n",
       "          [-1.09375820e-01, -1.59217671e-01,  1.61400661e-01, ...,\n",
       "            1.84553176e-01,  1.67597979e-01, -4.29162048e-02],\n",
       "          [-4.59198393e-02, -1.41547173e-01,  2.89139062e-01, ...,\n",
       "            7.92039484e-02,  1.08634420e-02, -1.56187594e-01]],\n",
       " \n",
       "         [[-7.48279840e-02,  5.02759416e-04,  2.33808458e-01, ...,\n",
       "            2.24430382e-01, -7.39642140e-03, -2.64813807e-02],\n",
       "          [-2.36109152e-01, -7.69793317e-02, -6.75217584e-02, ...,\n",
       "           -3.25369909e-02, -2.62512248e-02,  8.46331567e-02],\n",
       "          [-1.58378750e-01,  2.08046958e-01,  2.10319713e-01, ...,\n",
       "           -2.78259546e-01,  3.69898118e-02,  3.70604545e-01],\n",
       "          [ 3.43014777e-01, -2.19452813e-01, -2.23029539e-01, ...,\n",
       "            2.30911598e-01, -1.41467601e-01, -3.49765033e-01],\n",
       "          [-2.26862375e-02, -2.00394839e-01,  2.88134545e-01, ...,\n",
       "            2.11499274e-01, -5.57589978e-02, -1.49630949e-01],\n",
       "          [-2.97707319e-02, -1.82235256e-01,  1.27469331e-01, ...,\n",
       "            1.56208545e-01, -1.28432244e-01, -1.32011235e-01]],\n",
       " \n",
       "         [[-1.31497234e-01, -6.67536771e-03,  2.74767005e-03, ...,\n",
       "            2.48436764e-01, -8.71208832e-02, -2.12875456e-01],\n",
       "          [-1.38496891e-01, -2.36146033e-01, -9.81728733e-02, ...,\n",
       "            5.86799234e-02,  6.35485202e-02, -2.03452677e-01],\n",
       "          [-5.24738669e-01, -2.40308251e-02,  2.92455982e-02, ...,\n",
       "           -3.22290927e-01, -3.97316925e-02,  3.35230112e-01],\n",
       "          [ 6.00660264e-01,  7.00265765e-02,  1.70012340e-01, ...,\n",
       "            3.01086992e-01,  1.11040674e-01, -4.81433302e-01],\n",
       "          [ 2.03134418e-01, -6.01553284e-02,  6.68808445e-02, ...,\n",
       "            3.63974512e-01, -1.31190956e-01, -1.42819002e-01],\n",
       "          [ 1.38234943e-02, -1.28749862e-01, -8.58768448e-02, ...,\n",
       "            4.30318028e-01, -9.04383212e-02, -3.40022713e-01]],\n",
       " \n",
       "         [[-1.09949179e-01, -1.36023089e-01,  7.03628361e-02, ...,\n",
       "            2.63672411e-01, -6.60675094e-02, -2.19963849e-01],\n",
       "          [ 1.65915117e-01, -2.05922291e-01,  8.57931674e-02, ...,\n",
       "            8.17315131e-02, -3.16824913e-02, -1.47052839e-01],\n",
       "          [-5.25554538e-01, -9.63105932e-02,  1.39225442e-02, ...,\n",
       "           -1.77191481e-01, -1.70835137e-01,  1.12193875e-01],\n",
       "          [ 6.86447859e-01,  1.23790853e-01,  1.41255006e-01, ...,\n",
       "            2.31776223e-01,  8.33412185e-02, -2.22819105e-01],\n",
       "          [ 2.45303243e-01,  1.19328439e-01,  1.88594721e-02, ...,\n",
       "            4.11419541e-01,  2.56072227e-02, -2.32986391e-01],\n",
       "          [ 2.82648988e-02,  1.31574169e-01, -1.93691939e-01, ...,\n",
       "            2.57076323e-01,  4.39630039e-02, -2.54646778e-01]],\n",
       " \n",
       "         [[-2.12378621e-01, -3.61836068e-02, -7.12149441e-02, ...,\n",
       "            7.34523907e-02,  1.06248952e-01,  2.45673582e-02],\n",
       "          [-2.83241160e-02,  1.78757608e-01, -5.36464714e-02, ...,\n",
       "            8.42761546e-02, -1.20048318e-02,  1.37285469e-03],\n",
       "          [-3.31549287e-01, -1.44233331e-01, -5.60211502e-02, ...,\n",
       "           -5.68749793e-02, -7.47508928e-02, -8.47200379e-02],\n",
       "          [ 4.90704656e-01,  1.87959790e-01,  2.67733514e-01, ...,\n",
       "            4.08647507e-02, -8.75671487e-03, -3.49616222e-02],\n",
       "          [ 1.79935992e-01, -5.57815433e-02, -7.87112415e-02, ...,\n",
       "            2.89914459e-01,  9.03067887e-02, -7.45308474e-02],\n",
       "          [-8.50475132e-02,  1.02777168e-01, -1.60508305e-01, ...,\n",
       "            3.89455520e-02,  6.64364323e-02, -4.56103571e-02]]],\n",
       " \n",
       " \n",
       "        [[[ 4.58177254e-02, -8.57582092e-02,  3.08962196e-01, ...,\n",
       "           -4.41949069e-02,  2.26253614e-01,  1.64214283e-01],\n",
       "          [-1.29610106e-01,  2.16823053e-02,  6.33669496e-02, ...,\n",
       "            1.73298255e-01,  1.01396911e-01, -5.32048568e-02],\n",
       "          [ 1.32798269e-01,  8.89088493e-03,  3.67056042e-01, ...,\n",
       "            1.15944423e-01,  5.88411987e-02, -2.67714292e-01],\n",
       "          [-7.19687045e-02, -3.17340307e-02, -3.78221095e-01, ...,\n",
       "           -3.70794050e-02, -2.58565694e-02,  2.27057651e-01],\n",
       "          [-2.63802730e-03,  1.79574490e-02,  5.06872013e-02, ...,\n",
       "            2.35636625e-03, -4.70542498e-02,  2.81895131e-01],\n",
       "          [-9.56426784e-02,  1.53681904e-01,  1.80588812e-01, ...,\n",
       "            7.44556934e-02,  1.48898482e-01,  2.74346292e-01]],\n",
       " \n",
       "         [[-7.56688938e-02,  1.10721231e-01,  4.79528233e-02, ...,\n",
       "           -1.38457492e-01,  1.92433417e-01,  2.36678541e-01],\n",
       "          [ 8.00822228e-02, -6.74232244e-02, -1.81909516e-01, ...,\n",
       "           -7.96747431e-02,  1.15584597e-01,  9.13088992e-02],\n",
       "          [ 1.25988305e-01, -1.53839678e-01,  2.49500021e-01, ...,\n",
       "            1.32057350e-02,  1.53348416e-01, -1.83771029e-02],\n",
       "          [ 4.93903533e-02,  6.61272705e-02, -2.03573368e-02, ...,\n",
       "           -4.27725948e-02,  1.09927766e-01,  1.30440682e-01],\n",
       "          [-1.53647557e-01,  1.00794315e-01,  1.89677417e-01, ...,\n",
       "            1.15780540e-01,  6.49486855e-02,  1.71595782e-01],\n",
       "          [-2.89837569e-01,  1.24793656e-01,  8.39321390e-02, ...,\n",
       "           -8.54266062e-02, -2.13703234e-02,  4.45650250e-01]],\n",
       " \n",
       "         [[-1.91842481e-01, -1.88895240e-01,  1.57803819e-02, ...,\n",
       "           -1.51347876e-01,  3.82728502e-02,  1.21961884e-01],\n",
       "          [ 5.86484484e-02, -3.19500506e-01, -2.21141249e-01, ...,\n",
       "            2.23076697e-02, -9.37320217e-02, -1.87924072e-01],\n",
       "          [-5.80520928e-02, -1.78695157e-01, -1.10162400e-01, ...,\n",
       "            2.33411975e-02,  2.40861535e-01,  8.43141377e-02],\n",
       "          [-7.33410241e-03,  2.98361123e-01,  4.46600676e-01, ...,\n",
       "            9.12234411e-02, -1.03506558e-02,  1.09043427e-01],\n",
       "          [-6.71748295e-02,  2.24077389e-01,  7.47121572e-02, ...,\n",
       "            1.14374042e-01, -7.63865262e-02,  1.73735708e-01],\n",
       "          [-5.44360578e-01,  1.66373461e-01,  4.94222119e-02, ...,\n",
       "           -1.23381674e-01, -2.03450426e-01,  1.98435262e-01]],\n",
       " \n",
       "         [[-1.75793171e-01, -2.21077815e-01, -1.26544069e-02, ...,\n",
       "           -9.77165028e-02, -3.65246385e-02, -1.74040139e-01],\n",
       "          [ 5.79137206e-02, -1.03194572e-01,  4.38411608e-02, ...,\n",
       "            1.00087792e-01, -6.35135472e-02, -7.41168112e-02],\n",
       "          [-8.25106576e-02, -1.97625205e-01, -3.05841893e-01, ...,\n",
       "            1.15941344e-02,  2.26889446e-01,  5.61288884e-03],\n",
       "          [-4.73143943e-02,  3.81270319e-01,  5.63557088e-01, ...,\n",
       "           -1.84879068e-03, -1.32454976e-01, -1.35883108e-01],\n",
       "          [-3.25103223e-01,  2.35941365e-01,  4.48241010e-02, ...,\n",
       "            1.42288376e-02, -1.00952558e-01,  1.29578948e-01],\n",
       "          [-2.73161709e-01, -7.39572495e-02,  1.46909073e-01, ...,\n",
       "           -2.13231117e-01, -1.67946458e-01, -1.38457194e-01]],\n",
       " \n",
       "         [[-1.89350426e-01,  1.34505285e-02, -7.03788921e-02, ...,\n",
       "            7.03123435e-02,  1.24772834e-02, -1.73021317e-01],\n",
       "          [-2.22930461e-02,  1.49374306e-01,  4.04113010e-02, ...,\n",
       "            4.22011912e-02,  8.85952786e-02, -1.90729037e-01],\n",
       "          [ 1.11795686e-01, -1.47790030e-01, -1.49658039e-01, ...,\n",
       "           -6.49251267e-02,  1.33065566e-01, -6.22054674e-02],\n",
       "          [-1.08183943e-01, -5.25277050e-04,  3.81240785e-01, ...,\n",
       "            3.39917047e-03, -2.21903007e-02, -1.44516796e-01],\n",
       "          [-3.44821900e-01, -1.23836227e-01,  6.92368485e-03, ...,\n",
       "           -8.09134170e-02, -1.92229226e-01, -2.10133027e-02],\n",
       "          [-4.64456975e-01,  2.06959900e-02, -1.34336203e-01, ...,\n",
       "            4.37388308e-02, -1.13565074e-02, -8.16422775e-02]]],\n",
       " \n",
       " \n",
       "        [[[ 1.72110498e-01, -5.12146540e-02,  2.37938225e-01, ...,\n",
       "            4.02884232e-03,  2.56167382e-01, -8.19107592e-02],\n",
       "          [-7.10813925e-02,  6.43340696e-04,  1.12311028e-01, ...,\n",
       "            4.94152233e-02,  9.77694988e-02,  9.48586538e-02],\n",
       "          [ 5.51888049e-02, -6.39369572e-03,  3.28051984e-01, ...,\n",
       "           -3.90562490e-02, -2.64350891e-01,  1.66540314e-02],\n",
       "          [ 2.15750672e-02, -1.70818985e-01, -2.11415235e-02, ...,\n",
       "           -1.14935234e-01,  4.78174686e-01,  8.41415673e-02],\n",
       "          [ 1.21441267e-01,  4.27411571e-02,  1.05663408e-02, ...,\n",
       "            4.54325005e-02,  5.55480480e-01, -1.26026496e-01],\n",
       "          [-1.52961254e-01, -2.36024499e-01,  3.96719605e-01, ...,\n",
       "            1.84400156e-01,  4.16106850e-01, -7.28291944e-02]],\n",
       " \n",
       "         [[ 4.60111052e-02,  1.85266696e-02,  3.67530771e-02, ...,\n",
       "           -7.99274892e-02,  1.81841120e-01, -1.24161579e-01],\n",
       "          [ 1.09964453e-01, -9.36512183e-03, -1.94670409e-02, ...,\n",
       "           -1.39100909e-01,  1.05889887e-01,  4.87495996e-02],\n",
       "          [ 1.85952887e-01, -3.48270610e-02, -1.38331532e-01, ...,\n",
       "            4.68542688e-02, -3.45097780e-01, -1.49447545e-01],\n",
       "          [-1.75472185e-01,  2.03822274e-02,  4.30550605e-01, ...,\n",
       "           -1.81980401e-01,  5.36990702e-01,  2.57811368e-01],\n",
       "          [-2.26654381e-01,  2.07199599e-03,  5.03768504e-01, ...,\n",
       "            1.98119432e-01,  5.98087668e-01, -2.86808368e-02],\n",
       "          [-2.38220498e-01,  1.83201060e-01,  9.82578918e-02, ...,\n",
       "           -1.16679855e-01,  4.59324032e-01,  6.58427924e-03]],\n",
       " \n",
       "         [[-1.04390725e-01, -4.16053921e-01, -9.74704772e-02, ...,\n",
       "           -9.95877236e-02,  1.33656815e-01, -7.39191249e-02],\n",
       "          [-1.40922964e-01, -3.90681207e-01,  1.32691205e-01, ...,\n",
       "           -2.03304365e-01,  2.10359693e-02,  3.64406630e-02],\n",
       "          [ 3.21812242e-01, -1.55952247e-02, -3.97879452e-01, ...,\n",
       "            6.08922280e-02, -9.76692736e-02, -1.61587089e-01],\n",
       "          [-1.15667656e-01,  4.76757288e-02,  5.17962873e-01, ...,\n",
       "           -2.18896642e-01,  4.25136417e-01, -1.04403002e-02],\n",
       "          [-2.60145932e-01,  4.02617961e-01,  2.04118043e-01, ...,\n",
       "            1.31254002e-01,  4.51642454e-01,  5.72517291e-02],\n",
       "          [-3.04352462e-01, -2.67362922e-01, -2.74114102e-01, ...,\n",
       "           -1.80944830e-01,  3.46651345e-01, -5.84382154e-02]],\n",
       " \n",
       "         [[ 3.56316380e-02, -3.55291247e-01, -2.47905143e-02, ...,\n",
       "           -6.51438162e-03,  5.97365834e-02,  4.28341962e-02],\n",
       "          [ 1.29738182e-01,  5.93799539e-02,  2.40119264e-01, ...,\n",
       "           -8.63414556e-02, -9.94588137e-02, -6.90431818e-02],\n",
       "          [ 8.79042745e-02, -5.67010827e-02, -1.92314550e-01, ...,\n",
       "            1.80989709e-02,  1.00007646e-01, -4.36731242e-02],\n",
       "          [ 1.18539803e-01, -6.87765628e-02,  1.64420888e-01, ...,\n",
       "           -3.09985597e-02,  1.81361526e-01, -8.92545730e-02],\n",
       "          [-3.16453338e-01, -1.02589659e-01, -1.03606105e-01, ...,\n",
       "           -1.70281425e-01,  1.13706276e-01,  2.63064876e-02],\n",
       "          [ 1.81501228e-02, -3.95348907e-01, -2.41665244e-01, ...,\n",
       "           -8.15778151e-02,  1.16567455e-01, -5.96941262e-02]],\n",
       " \n",
       "         [[-6.06477521e-02, -1.83837637e-01, -1.24208145e-01, ...,\n",
       "           -6.42803013e-02, -8.38105008e-02, -1.17937595e-01],\n",
       "          [ 1.50478199e-01,  1.29132628e-01,  7.44188949e-02, ...,\n",
       "           -1.15198195e-01, -2.78007751e-03, -4.38602157e-02],\n",
       "          [ 3.83959748e-02,  6.30364269e-02,  1.04877368e-01, ...,\n",
       "           -6.13124967e-02,  1.16672620e-01,  1.40443696e-02],\n",
       "          [ 2.71622449e-01, -1.09401934e-01, -3.07706762e-02, ...,\n",
       "            6.43062294e-02, -1.35360032e-01, -6.43840954e-02],\n",
       "          [-1.06346369e-01, -4.04103488e-01, -5.00157028e-02, ...,\n",
       "           -7.03809932e-02, -6.82596564e-02,  1.52207613e-01],\n",
       "          [-4.47046831e-02,  8.39634016e-02, -1.57729000e-01, ...,\n",
       "            8.56770873e-02,  7.58933276e-02, -6.64741397e-02]]],\n",
       " \n",
       " \n",
       "        [[[ 2.98578352e-01, -6.94401190e-02,  1.72915876e-01, ...,\n",
       "           -1.47692069e-01, -1.11550316e-01, -5.98976277e-02],\n",
       "          [ 1.20683312e-02, -7.10427389e-02, -1.08005308e-01, ...,\n",
       "            1.72277480e-01,  7.00782910e-02, -2.38914192e-01],\n",
       "          [-1.19208224e-01,  1.90378696e-01, -6.22654855e-02, ...,\n",
       "            3.19376774e-02, -2.93902934e-01,  1.46327183e-01],\n",
       "          [ 4.57109958e-02, -1.48845792e-01,  2.26175129e-01, ...,\n",
       "           -3.14496577e-01,  1.36705041e-01,  1.70640677e-01],\n",
       "          [ 1.86223313e-01, -1.96253672e-01,  3.34758133e-01, ...,\n",
       "           -5.38955107e-02,  1.80827931e-01, -1.06332928e-01],\n",
       "          [ 2.71559536e-01, -7.38789211e-04,  2.14012802e-01, ...,\n",
       "           -1.08821712e-01, -2.06527531e-01, -2.24344954e-01]],\n",
       " \n",
       "         [[ 3.74972433e-01, -3.69720161e-02, -2.15290204e-01, ...,\n",
       "           -9.73501951e-02,  3.48801725e-02, -2.69819677e-01],\n",
       "          [ 1.99492455e-01, -1.98331609e-01,  6.68580756e-02, ...,\n",
       "            4.29148749e-02,  6.50084019e-02, -1.76416367e-01],\n",
       "          [-1.67665407e-01,  1.51944444e-01, -1.24594338e-01, ...,\n",
       "            1.76464140e-01, -2.79489517e-01,  3.38492803e-02],\n",
       "          [ 2.25462243e-01,  6.32432289e-03,  1.46714091e-01, ...,\n",
       "           -2.08107427e-01,  1.45650506e-01, -1.47960559e-02],\n",
       "          [ 1.20208345e-01,  8.80920440e-02,  1.56967103e-01, ...,\n",
       "           -1.72600403e-01, -3.66048589e-02, -2.75581956e-01],\n",
       "          [ 4.91035908e-01,  6.11617230e-02, -4.11757171e-01, ...,\n",
       "           -3.40778977e-01, -1.11836039e-01, -2.72650689e-01]],\n",
       " \n",
       "         [[ 1.94221631e-01, -4.87664551e-01,  1.15923686e-02, ...,\n",
       "           -2.19626114e-01, -5.65700717e-02, -7.18798190e-02],\n",
       "          [ 9.88621861e-02, -4.38038051e-01,  1.64970040e-01, ...,\n",
       "           -1.61078706e-01,  7.35563040e-02, -3.90269123e-02],\n",
       "          [-1.22523092e-01, -1.55104220e-01,  2.15321392e-01, ...,\n",
       "            8.06004405e-02, -3.00089538e-01,  2.51387596e-01],\n",
       "          [ 3.31687629e-01,  1.54481567e-02, -2.98723523e-02, ...,\n",
       "           -2.60024071e-01,  2.60818332e-01, -2.42843062e-01],\n",
       "          [ 3.08652163e-01,  1.09838039e-01, -3.69822174e-01, ...,\n",
       "           -2.32489586e-01,  1.93655640e-01, -3.76101851e-01],\n",
       "          [ 2.63929218e-01, -3.38454068e-01, -3.85547936e-01, ...,\n",
       "           -2.45732605e-01,  1.65320098e-01, -1.76633582e-01]],\n",
       " \n",
       "         [[ 8.95967335e-02, -1.60673231e-01, -1.35841057e-01, ...,\n",
       "           -2.03987032e-01,  1.02768265e-01, -6.05437458e-02],\n",
       "          [ 1.09305643e-01,  2.13721037e-01,  4.61775716e-03, ...,\n",
       "            6.38260767e-02,  7.32050017e-02, -5.05601875e-02],\n",
       "          [-8.21938738e-02, -1.50787130e-01,  1.20714158e-01, ...,\n",
       "            3.04320138e-02, -2.50127703e-01,  2.67479211e-01],\n",
       "          [ 2.18603179e-01,  1.26720769e-02, -9.49026123e-02, ...,\n",
       "           -2.97596037e-01,  1.55784085e-01, -1.75786242e-01],\n",
       "          [ 2.96141624e-01, -2.42716119e-01, -1.85755596e-01, ...,\n",
       "           -2.11204633e-01,  2.42907807e-01, -2.59405285e-01],\n",
       "          [ 1.53897181e-01,  7.62652010e-02, -1.83140606e-01, ...,\n",
       "           -1.63136110e-01,  2.29524687e-01, -1.58276204e-02]],\n",
       " \n",
       "         [[ 5.75912111e-02, -3.16086300e-02,  8.32644626e-02, ...,\n",
       "           -1.99320957e-01,  4.21493910e-02, -1.92936093e-01],\n",
       "          [ 1.37612045e-01,  1.62394971e-01,  5.49940094e-02, ...,\n",
       "           -1.02533303e-01,  6.49054423e-02, -1.57771990e-01],\n",
       "          [-1.73163787e-01,  1.01878487e-01,  1.83166265e-02, ...,\n",
       "           -2.67264992e-02, -1.17783155e-03, -5.37671000e-02],\n",
       "          [ 2.06792280e-01,  5.36354482e-02, -6.00637645e-02, ...,\n",
       "           -3.14329326e-01, -1.47664919e-01, -1.53729552e-02],\n",
       "          [ 7.53346086e-02, -3.06483591e-03, -2.13366896e-01, ...,\n",
       "           -1.70221731e-01, -9.65711847e-03, -2.28172727e-02],\n",
       "          [-8.98595005e-02,  3.10126930e-01, -3.45669128e-02, ...,\n",
       "           -2.48272583e-01,  2.21537024e-01,  6.27660826e-02]]],\n",
       " \n",
       " \n",
       "        [[[ 2.07672641e-02, -3.76421139e-02,  3.28376554e-02, ...,\n",
       "           -3.45619880e-02, -1.06827922e-01, -1.46051005e-01],\n",
       "          [-6.53743697e-03, -1.07910194e-01, -1.38877660e-01, ...,\n",
       "           -4.19293763e-03, -9.15918872e-03, -1.55385062e-01],\n",
       "          [-2.18026236e-01,  2.09963564e-02, -2.37568811e-01, ...,\n",
       "            1.06965184e-01,  3.50063562e-01, -9.52429175e-02],\n",
       "          [ 2.74397731e-01,  7.19844103e-02,  1.79831520e-01, ...,\n",
       "           -1.49073392e-01, -2.67072856e-01,  1.82677016e-01],\n",
       "          [ 2.88437307e-01,  1.17587648e-01,  2.54430115e-01, ...,\n",
       "           -2.52774596e-01, -5.28064311e-01,  8.72292817e-02],\n",
       "          [ 5.95597774e-02,  1.94093376e-01, -1.26679530e-02, ...,\n",
       "           -2.33623926e-02, -2.57954061e-01, -9.10587534e-02]],\n",
       " \n",
       "         [[ 1.89077631e-02, -2.16342539e-01, -3.45036089e-02, ...,\n",
       "            7.34008923e-02, -1.60569221e-01, -6.81926729e-03],\n",
       "          [ 1.64744016e-02, -2.02158958e-01,  1.53479248e-01, ...,\n",
       "            1.27521728e-03, -1.95348650e-01, -7.49983713e-02],\n",
       "          [-2.72015750e-01, -1.17889987e-02, -6.60312325e-02, ...,\n",
       "            1.69853613e-01,  6.48730397e-02, -8.74170735e-02],\n",
       "          [ 3.78856152e-01, -1.60047293e-01, -4.74282280e-02, ...,\n",
       "           -5.01125008e-02, -8.69100913e-02, -9.38240159e-03],\n",
       "          [ 2.73094296e-01,  6.46351278e-02, -4.49114508e-04, ...,\n",
       "           -5.97990826e-02, -3.92185926e-01, -2.83822212e-02],\n",
       "          [ 7.39578009e-02, -1.26304537e-01,  4.04174589e-02, ...,\n",
       "            6.01882227e-02, -2.92211026e-01, -5.03949588e-03]],\n",
       " \n",
       "         [[ 4.55952995e-02, -3.12658012e-01,  8.85822326e-02, ...,\n",
       "            7.87774473e-02, -1.88343689e-01, -5.25686555e-02],\n",
       "          [ 1.55062735e-01, -3.11194539e-01,  1.06202811e-01, ...,\n",
       "           -6.70320392e-02, -1.16593599e-01,  5.10234535e-02],\n",
       "          [-2.68709004e-01,  1.83875989e-02, -5.22158407e-02, ...,\n",
       "            2.90008690e-02, -2.29830556e-02,  6.61909357e-02],\n",
       "          [ 2.84784645e-01,  8.80277529e-02,  4.79440875e-02, ...,\n",
       "            5.77861369e-02,  1.48461491e-01, -1.79780871e-01],\n",
       "          [ 2.78852075e-01, -1.07856110e-01, -2.37800069e-02, ...,\n",
       "           -6.32828698e-02, -2.15262666e-01, -1.42562598e-01],\n",
       "          [-4.49528731e-03, -2.54369527e-01,  1.58125579e-01, ...,\n",
       "            1.81306303e-01, -7.99110830e-02,  2.32094541e-01]],\n",
       " \n",
       "         [[ 1.34163260e-01,  5.73259257e-02,  2.75962264e-03, ...,\n",
       "           -6.28802255e-02, -1.37340426e-01,  8.39563608e-02],\n",
       "          [-1.26277534e-02,  9.42274556e-02,  6.65527582e-02, ...,\n",
       "           -1.48038313e-01,  9.29570198e-02, -1.85801446e-01],\n",
       "          [ 1.42847495e-02, -1.99203655e-01,  1.08636664e-02, ...,\n",
       "            2.26310149e-01, -2.26681232e-01,  1.04742363e-01],\n",
       "          [ 4.76911180e-02,  1.42904058e-01,  1.84583113e-01, ...,\n",
       "           -1.69189245e-01,  1.20447725e-01, -1.59705337e-02],\n",
       "          [ 5.35808653e-02, -1.57485589e-01,  1.57915592e-01, ...,\n",
       "           -7.39494711e-02, -1.35292292e-01,  8.86696652e-02],\n",
       "          [-3.20100561e-02,  1.58130884e-01,  8.75669569e-02, ...,\n",
       "            1.25785246e-01,  7.64177963e-02,  2.66598556e-02]],\n",
       " \n",
       "         [[-5.68883605e-02,  9.49707106e-02,  7.86526203e-02, ...,\n",
       "           -3.81943658e-02,  6.37638494e-02, -1.74272746e-01],\n",
       "          [ 1.36784330e-01,  9.24574770e-03,  1.68187201e-01, ...,\n",
       "           -1.15055323e-01,  1.42629877e-01, -7.63031468e-02],\n",
       "          [ 1.18844911e-01, -5.68740964e-02, -7.36278519e-02, ...,\n",
       "            2.98676848e-01,  4.82211001e-02, -2.93208063e-02],\n",
       "          [-6.26757368e-02,  1.68703645e-01,  1.53487295e-01, ...,\n",
       "           -2.78548092e-01, -1.92900524e-01,  7.58870738e-03],\n",
       "          [-1.50301561e-01,  2.16240004e-01,  8.27544034e-02, ...,\n",
       "           -4.68760394e-02,  2.35908339e-03,  1.83593154e-01],\n",
       "          [-2.17269719e-01,  1.67761981e-01,  1.35841340e-01, ...,\n",
       "            6.11304939e-02,  1.78173780e-01, -2.12405711e-01]]]],\n",
       "       dtype=float32)>,\n",
       " <tf.Variable 'conv2d_1/bias:0' shape=(16,) dtype=float32, numpy=\n",
       " array([-0.06482894, -0.03364062,  0.10179098,  0.07356903, -0.03183591,\n",
       "        -0.02361033, -0.06370069,  0.04960668,  0.00325037, -0.04519201,\n",
       "         0.03319359,  0.10889912, -0.03353778, -0.03929194, -0.03880491,\n",
       "         0.06791266], dtype=float32)>,\n",
       " <tf.Variable 'dense/kernel:0' shape=(400, 120) dtype=float32, numpy=\n",
       " array([[ 0.06180053,  0.03106354,  0.10846754, ..., -0.07814905,\n",
       "          0.17413284,  0.2336919 ],\n",
       "        [ 0.05522352, -0.01302661, -0.06970659, ...,  0.02780253,\n",
       "          0.03872918, -0.12353998],\n",
       "        [ 0.13254498, -0.15802662,  0.00636075, ...,  0.10216692,\n",
       "         -0.1591526 ,  0.03450255],\n",
       "        ...,\n",
       "        [ 0.00687074,  0.05638697,  0.04119651, ..., -0.34726584,\n",
       "         -0.06238504,  0.1336706 ],\n",
       "        [-0.03898704,  0.16250648, -0.08966655, ..., -0.00769809,\n",
       "          0.02607173, -0.15176928],\n",
       "        [ 0.08832415,  0.06179095, -0.01371877, ..., -0.09423327,\n",
       "          0.07169689,  0.15983963]], dtype=float32)>,\n",
       " <tf.Variable 'dense/bias:0' shape=(120,) dtype=float32, numpy=\n",
       " array([-0.10919303,  0.04428663, -0.02331911, -0.02712689,  0.01910837,\n",
       "        -0.02171723,  0.03127036, -0.00485368,  0.01326334,  0.06579958,\n",
       "         0.08462611, -0.09525481, -0.10867093, -0.07041102,  0.02147932,\n",
       "        -0.04195422,  0.06020148,  0.08370946,  0.01989002,  0.0090106 ,\n",
       "         0.02320678, -0.02993448, -0.04952047,  0.1803677 ,  0.01155491,\n",
       "        -0.00490378,  0.09992624, -0.05336897,  0.1271439 , -0.14884098,\n",
       "        -0.00232766,  0.06850486,  0.04396652, -0.05590562,  0.0287899 ,\n",
       "        -0.02456941, -0.00321665,  0.09400461,  0.19634259,  0.04738455,\n",
       "        -0.08037163, -0.09574813,  0.07587586, -0.05672413, -0.13849057,\n",
       "         0.01340816,  0.03344377,  0.01609373,  0.01177471,  0.04252523,\n",
       "         0.0125308 , -0.06285151, -0.14804983, -0.12304991, -0.03886131,\n",
       "         0.00321208,  0.10387316, -0.05749528,  0.05522741,  0.05741492,\n",
       "         0.11926923, -0.08146585, -0.07206572, -0.02468195, -0.09333001,\n",
       "        -0.05947981, -0.1039467 , -0.12779525, -0.05883356, -0.0412432 ,\n",
       "        -0.09412292, -0.01220917,  0.01215556,  0.09434044, -0.03215371,\n",
       "         0.01141257,  0.00922404,  0.10758349, -0.00870534,  0.11960588,\n",
       "         0.03027139,  0.04928652, -0.01683578, -0.11819103,  0.01671103,\n",
       "        -0.07519636, -0.10808188, -0.00067774,  0.01039463,  0.1859314 ,\n",
       "        -0.00536672,  0.0789314 , -0.04176222, -0.0609277 ,  0.123323  ,\n",
       "         0.09225269, -0.01509561,  0.09549691, -0.07916533,  0.13172497,\n",
       "         0.03680647, -0.03896975,  0.06290304, -0.09257581,  0.02834682,\n",
       "         0.03223518,  0.06465652,  0.00605091,  0.08666389,  0.06778135,\n",
       "        -0.05621839, -0.05149533,  0.06074231,  0.13783857,  0.0718995 ,\n",
       "         0.06214136, -0.07771441, -0.06109978,  0.09769428, -0.03069474],\n",
       "       dtype=float32)>,\n",
       " <tf.Variable 'dense_1/kernel:0' shape=(120, 84) dtype=float32, numpy=\n",
       " array([[ 0.3314452 ,  0.19439474,  0.07466248, ...,  0.3220733 ,\n",
       "          0.24814516,  0.04683796],\n",
       "        [ 0.18640204,  0.09611803, -0.11649606, ..., -0.10278395,\n",
       "         -0.20920683, -0.19693035],\n",
       "        [ 0.05750023,  0.15457995, -0.14940442, ..., -0.08468079,\n",
       "          0.0953889 ,  0.2393754 ],\n",
       "        ...,\n",
       "        [-0.05181487, -0.17096078, -0.09768016, ..., -0.1259582 ,\n",
       "         -0.1724665 , -0.0012945 ],\n",
       "        [-0.10416403,  0.17457472,  0.0943839 , ..., -0.23975304,\n",
       "          0.03350914, -0.03312328],\n",
       "        [ 0.01326953, -0.03640879,  0.08278569, ..., -0.21821786,\n",
       "         -0.07769041, -0.04996772]], dtype=float32)>,\n",
       " <tf.Variable 'dense_1/bias:0' shape=(84,) dtype=float32, numpy=\n",
       " array([-0.08954936, -0.01870767,  0.05584066,  0.02907296,  0.0439343 ,\n",
       "        -0.0420498 , -0.14821136, -0.05321484, -0.01342551, -0.02665531,\n",
       "         0.1008711 , -0.01095209,  0.07967296, -0.09233405, -0.07148927,\n",
       "         0.06733131,  0.00311806,  0.05743723, -0.10759509,  0.04517365,\n",
       "         0.02430726,  0.15549603,  0.03560432,  0.00242635,  0.19066171,\n",
       "        -0.0326298 , -0.05225338, -0.08825881, -0.01055623, -0.07020783,\n",
       "        -0.03219055, -0.02826075, -0.11273635,  0.02940318, -0.10201812,\n",
       "        -0.05487639, -0.02432305,  0.04280811,  0.00059485, -0.00999016,\n",
       "        -0.10691148,  0.02483673, -0.16402476,  0.02968084, -0.00068368,\n",
       "        -0.07799608, -0.10634435, -0.01578277,  0.10303587,  0.0240728 ,\n",
       "        -0.12927665,  0.05476979,  0.04215859,  0.14496773,  0.06119262,\n",
       "         0.09125979,  0.04977145, -0.22523883,  0.03994587, -0.05383406,\n",
       "        -0.10406735,  0.02195052, -0.04451533, -0.02416929, -0.06402805,\n",
       "        -0.02152528,  0.11063567, -0.03445987,  0.09991933,  0.00547719,\n",
       "        -0.00194388, -0.03028142,  0.00810239, -0.02036865, -0.06774209,\n",
       "         0.06201399, -0.13617997,  0.08030252,  0.02961975,  0.01287981,\n",
       "         0.16592678, -0.02796243,  0.04919872, -0.06232582], dtype=float32)>,\n",
       " <tf.Variable 'dense_2/kernel:0' shape=(84, 10) dtype=float32, numpy=\n",
       " array([[-3.92584056e-01, -3.60655695e-01, -2.16444880e-01,\n",
       "         -1.25327930e-01,  3.19642603e-01,  2.36473367e-01,\n",
       "          3.68757427e-01, -3.80379409e-01,  7.37880245e-02,\n",
       "          4.98472303e-02],\n",
       "        [ 2.87349880e-01, -1.83275044e-01, -2.83216983e-01,\n",
       "          1.77257717e-01, -4.24134463e-01,  3.94467026e-01,\n",
       "          2.82308906e-01,  9.12280828e-02, -1.08575404e-01,\n",
       "         -1.67268068e-01],\n",
       "        [-4.74230170e-01, -3.08792740e-02,  2.93670595e-01,\n",
       "         -2.21308485e-01,  2.26722807e-01, -4.31427568e-01,\n",
       "         -4.81807254e-02,  3.56726617e-01, -1.52771279e-01,\n",
       "          1.99547485e-01],\n",
       "        [-9.86305028e-02,  1.74216256e-01, -4.45143104e-01,\n",
       "          2.84168243e-01, -8.52171704e-02, -1.97786435e-01,\n",
       "         -2.64155954e-01,  2.81021863e-01, -9.07130614e-02,\n",
       "         -2.17628077e-01],\n",
       "        [-3.73755068e-01,  3.59583855e-01,  3.57637070e-02,\n",
       "         -1.58091396e-01, -1.67835549e-01,  2.39052072e-01,\n",
       "          3.54172707e-01, -2.41856813e-01, -5.40173464e-02,\n",
       "         -1.26648515e-01],\n",
       "        [ 2.72742081e-02,  2.00413149e-02,  1.74250171e-01,\n",
       "          1.96332753e-01, -3.96252275e-01, -3.96383226e-01,\n",
       "          1.69976622e-01, -1.69615094e-02,  4.21118975e-01,\n",
       "         -3.98501843e-01],\n",
       "        [-1.61464646e-01,  3.42632473e-01, -2.26359650e-01,\n",
       "          1.50396019e-01,  1.69608384e-01,  1.18211277e-01,\n",
       "         -3.18391114e-01, -1.40818506e-01,  4.28581268e-01,\n",
       "          2.92261273e-01],\n",
       "        [ 4.70274240e-01, -3.18729043e-01,  3.68343264e-01,\n",
       "         -6.23618104e-02, -3.10050845e-01, -3.11293244e-01,\n",
       "         -3.65231000e-02, -3.43238056e-01,  1.44943267e-01,\n",
       "          3.88148695e-01],\n",
       "        [-1.99545529e-02, -4.12424713e-01, -2.01168641e-01,\n",
       "          1.48356870e-01, -9.65458453e-02,  3.46770704e-01,\n",
       "          7.30689475e-03, -1.27657130e-02,  3.41397017e-01,\n",
       "         -2.29399636e-01],\n",
       "        [-1.42643064e-01, -3.55980426e-01, -2.66889095e-01,\n",
       "          2.56614476e-01, -2.99482673e-01, -6.38523549e-02,\n",
       "          4.08915788e-01,  3.71217757e-01,  1.07946202e-01,\n",
       "          1.88110948e-01],\n",
       "        [ 6.14681630e-05,  2.17260540e-01, -3.49219203e-01,\n",
       "          2.79422909e-01, -3.83031934e-01,  8.92173573e-02,\n",
       "          7.19093485e-03,  2.80674279e-01, -1.31827384e-01,\n",
       "          2.23012298e-01],\n",
       "        [ 3.95025462e-02,  4.17083323e-01,  3.52639675e-01,\n",
       "          2.78588533e-01,  2.19075143e-01, -4.76688385e-01,\n",
       "         -3.45456690e-01,  3.79974358e-02,  1.67960271e-01,\n",
       "          7.52800405e-02],\n",
       "        [-4.23098415e-01,  3.78056645e-01, -1.70388415e-01,\n",
       "          1.51237369e-01, -1.02521725e-01,  1.55644998e-01,\n",
       "         -6.64543331e-01, -1.32913664e-01,  1.48651361e-01,\n",
       "         -1.33315176e-01],\n",
       "        [ 2.98552066e-01, -2.94632286e-01, -1.64835587e-01,\n",
       "         -1.07138954e-01,  2.05461904e-01,  1.29891500e-01,\n",
       "         -6.75266981e-02,  2.15566337e-01, -1.31121099e-01,\n",
       "         -9.69901085e-02],\n",
       "        [-3.40786427e-01, -1.36053085e-01,  1.64899126e-01,\n",
       "          1.80594716e-02,  1.83202460e-01, -2.08485141e-01,\n",
       "          1.48673087e-01, -1.50834575e-01,  4.48073119e-01,\n",
       "         -2.72020348e-03],\n",
       "        [-2.97940951e-02,  5.12639135e-02,  1.92320213e-01,\n",
       "          1.48806185e-01, -2.77728289e-01,  3.43523055e-01,\n",
       "         -4.21730906e-01, -2.61575669e-01,  1.61568001e-01,\n",
       "          3.36613685e-01],\n",
       "        [-7.08755553e-02, -3.53972584e-01,  2.33521864e-01,\n",
       "          3.99280638e-01,  1.33988112e-01,  1.94385841e-01,\n",
       "          3.45232159e-01,  5.17150611e-02,  2.77514845e-01,\n",
       "          6.51126280e-02],\n",
       "        [ 1.94525093e-01, -3.43247741e-01, -1.27685487e-01,\n",
       "          9.11292061e-02, -2.29499098e-02,  3.41276944e-01,\n",
       "         -7.78074637e-02,  3.17685366e-01, -1.68563932e-01,\n",
       "         -9.42825079e-02],\n",
       "        [-9.99937505e-02, -3.58197570e-01,  2.01931253e-01,\n",
       "          2.17374250e-01,  3.02187145e-01, -2.52483696e-01,\n",
       "         -1.97721645e-01, -5.63610137e-01,  2.70413816e-01,\n",
       "          2.18693703e-01],\n",
       "        [-5.43327630e-02, -8.64650011e-02,  3.86694103e-01,\n",
       "          1.83722198e-01,  2.92560905e-01,  1.46419272e-01,\n",
       "          4.74985749e-01,  2.57521421e-01, -3.99392955e-02,\n",
       "          3.29322927e-02],\n",
       "        [-2.58018017e-01,  4.08652514e-01,  2.42304549e-01,\n",
       "         -5.24172604e-01,  2.28014171e-01, -5.71259260e-01,\n",
       "          2.64035165e-01,  4.24365047e-03, -1.05147064e-01,\n",
       "         -6.58505484e-02],\n",
       "        [ 1.24470621e-01, -4.64226186e-01,  1.58444509e-01,\n",
       "         -2.81198829e-01, -1.37659490e-01,  1.50742322e-01,\n",
       "         -2.96893083e-02,  3.16498637e-01, -3.35408956e-01,\n",
       "         -3.94064970e-02],\n",
       "        [ 2.14146242e-01,  3.75448555e-01,  2.82775670e-01,\n",
       "         -1.57064393e-01,  1.72794834e-01,  3.18515971e-02,\n",
       "          4.06759456e-02, -4.68807042e-01, -2.40671366e-01,\n",
       "         -5.20843733e-03],\n",
       "        [ 3.07492018e-01, -3.93389091e-02,  3.24445307e-01,\n",
       "          1.13129608e-01, -1.41871855e-01, -3.13524604e-01,\n",
       "          4.93951976e-01, -9.03098211e-02, -4.19571921e-02,\n",
       "         -2.50723332e-01],\n",
       "        [ 8.35130513e-02, -3.58806625e-02,  3.70872289e-01,\n",
       "          1.12637840e-01, -3.66078883e-01,  3.24034274e-01,\n",
       "          1.07379975e-02, -6.37989864e-02, -5.16868345e-02,\n",
       "         -2.25847196e-02],\n",
       "        [-1.25977695e-01, -1.64725214e-01,  5.11459857e-02,\n",
       "         -1.04320325e-01, -8.84285122e-02, -3.68280113e-01,\n",
       "         -7.21524004e-03,  1.24103911e-01, -7.14472085e-02,\n",
       "          2.99133241e-01],\n",
       "        [-1.71555430e-01, -1.95352972e-01, -4.08421457e-01,\n",
       "          3.35086286e-01,  1.71467423e-01, -3.49865016e-03,\n",
       "          1.97136458e-02,  3.78905125e-02,  9.99313034e-03,\n",
       "          2.90982723e-01],\n",
       "        [-4.35403511e-02, -2.45582521e-01, -1.83251083e-01,\n",
       "          4.15066369e-02,  3.02790493e-01, -1.27921730e-01,\n",
       "          1.56644717e-01,  4.36689705e-01, -8.32140073e-02,\n",
       "          2.39679620e-01],\n",
       "        [ 1.38569266e-01, -2.95357019e-01, -5.37358038e-03,\n",
       "          8.99632555e-03,  1.79546550e-01,  3.25677812e-01,\n",
       "          1.88219175e-01, -1.64476290e-01,  1.16089080e-02,\n",
       "         -3.84856999e-01],\n",
       "        [-4.77871299e-02, -1.37330025e-01, -9.66790318e-03,\n",
       "          2.98197389e-01, -4.00578916e-01,  1.91342816e-01,\n",
       "          1.33572370e-01, -5.03116667e-01,  2.23203838e-01,\n",
       "          2.00006917e-01],\n",
       "        [-2.33730420e-01, -2.74647772e-01, -2.27203429e-01,\n",
       "         -3.32034022e-01,  6.01406544e-02,  3.48064929e-01,\n",
       "          1.44479528e-01,  1.65399946e-02,  1.92379251e-01,\n",
       "          3.09491336e-01],\n",
       "        [ 2.30345991e-03,  4.27702695e-01, -1.41144246e-01,\n",
       "         -1.54623808e-02,  3.66912186e-01, -8.39431509e-02,\n",
       "          2.03241661e-01, -3.22935700e-01, -1.17520340e-01,\n",
       "         -2.64704257e-01],\n",
       "        [ 2.92083970e-03, -1.03505708e-01, -1.87825963e-01,\n",
       "         -3.40915501e-01,  8.08205977e-02,  1.56416580e-01,\n",
       "          2.33837083e-01, -4.21463639e-01,  7.82618746e-02,\n",
       "          1.52536169e-01],\n",
       "        [ 1.52776480e-01, -1.77509725e-01, -1.45541266e-01,\n",
       "         -3.46756190e-01, -1.99970976e-01,  2.36570328e-01,\n",
       "          2.99946014e-02, -8.79217014e-02,  4.61936295e-02,\n",
       "          1.84940368e-01],\n",
       "        [-1.53477848e-01, -1.24925606e-01,  1.27647549e-01,\n",
       "          1.44963950e-01,  4.42114413e-01, -7.21589625e-02,\n",
       "         -1.02627631e-02, -2.76645899e-01,  3.53329509e-01,\n",
       "         -4.02532071e-01],\n",
       "        [-1.22589782e-01,  7.47619644e-02, -2.53592134e-01,\n",
       "         -1.08205020e-01,  1.10758599e-02,  5.68453632e-02,\n",
       "         -1.87460318e-01,  1.90477565e-01,  2.50550240e-01,\n",
       "         -1.74849108e-01],\n",
       "        [ 5.08183599e-01,  9.81938392e-02, -2.02157035e-01,\n",
       "         -4.74761575e-01,  3.14609230e-01, -2.48095363e-01,\n",
       "         -3.35001722e-02,  3.49208117e-01, -1.84528425e-01,\n",
       "          3.44096571e-01],\n",
       "        [ 6.47054836e-02,  4.32108432e-01, -2.30364189e-01,\n",
       "         -3.19178313e-01, -3.10831338e-01, -2.20884204e-01,\n",
       "         -3.61649282e-02,  3.45808774e-01,  3.11321676e-01,\n",
       "         -2.50084430e-01],\n",
       "        [ 1.44268453e-01, -2.12462425e-01,  3.99049371e-01,\n",
       "          2.88331360e-01,  5.74534647e-02, -9.58712175e-02,\n",
       "         -4.39890474e-01, -2.05950752e-01,  2.65054554e-02,\n",
       "          9.82188508e-02],\n",
       "        [ 1.91577792e-01, -8.66750702e-02,  7.39879608e-02,\n",
       "         -2.15109259e-01,  2.64463514e-01,  3.27477157e-01,\n",
       "         -3.31659056e-02, -9.98167470e-02,  1.02425918e-01,\n",
       "         -4.07612741e-01],\n",
       "        [-5.29320426e-02, -1.47155821e-01,  4.50933129e-01,\n",
       "          2.29214743e-01,  8.74225646e-02, -6.14248753e-01,\n",
       "         -2.31541306e-01, -1.43188611e-01,  2.80673325e-01,\n",
       "          8.58850181e-02],\n",
       "        [-1.17773227e-01, -5.86820878e-02,  4.20925826e-01,\n",
       "         -7.57290348e-02, -4.93841134e-02, -2.88367160e-02,\n",
       "         -3.72978836e-01, -1.52974978e-01,  3.59198153e-01,\n",
       "         -2.63649642e-01],\n",
       "        [ 1.09218232e-01, -2.58100003e-01, -3.99345577e-01,\n",
       "         -3.49924006e-02,  1.41171664e-01,  1.70627937e-01,\n",
       "          1.12749040e-01, -3.83739650e-01,  2.63037235e-01,\n",
       "          2.67059118e-01],\n",
       "        [ 2.36648992e-01, -7.30355158e-02,  2.84612149e-01,\n",
       "          2.10706666e-01,  1.49205923e-01, -2.12407157e-01,\n",
       "         -4.16482538e-01,  3.20707560e-01, -9.26294476e-02,\n",
       "         -5.50373495e-02],\n",
       "        [ 6.49504960e-02,  4.52122480e-01,  1.75310582e-01,\n",
       "         -3.25051576e-01,  3.53001714e-01,  1.50716320e-01,\n",
       "          1.55244932e-01, -1.21230185e-01, -3.98584127e-01,\n",
       "          8.52112100e-02],\n",
       "        [ 2.22062796e-01, -1.49345815e-01, -3.04268718e-01,\n",
       "         -3.33399177e-01, -3.49582493e-01,  3.21944594e-01,\n",
       "          1.38764635e-01, -1.69532105e-01,  3.54246795e-01,\n",
       "          8.90302658e-02],\n",
       "        [-1.11423768e-01,  2.40938663e-01, -8.07019398e-02,\n",
       "          9.32359025e-02,  3.28794330e-01, -4.17066336e-01,\n",
       "          3.31434339e-01, -1.99516311e-01, -1.10366143e-01,\n",
       "          1.92015111e-01],\n",
       "        [ 3.36260527e-01,  4.30500984e-01,  3.26769233e-01,\n",
       "         -4.40225542e-01, -2.86079884e-01, -4.25026953e-01,\n",
       "          2.60111034e-01,  1.83182314e-01,  1.71290889e-01,\n",
       "         -9.92237031e-02],\n",
       "        [-4.23794597e-01, -2.34934136e-01,  3.18726987e-01,\n",
       "          1.34898141e-01,  1.81431115e-01,  2.00848758e-01,\n",
       "         -5.23156226e-01, -3.47604305e-01, -3.30829442e-01,\n",
       "          5.82611412e-02],\n",
       "        [-1.29490660e-03,  3.94784838e-01,  1.23534076e-01,\n",
       "          7.88631141e-02,  3.34277034e-01,  3.67749661e-01,\n",
       "          6.71274215e-02, -2.11359444e-03, -1.30756229e-01,\n",
       "         -3.66084725e-01],\n",
       "        [ 2.33466804e-01, -2.37795681e-01, -4.45130736e-01,\n",
       "         -1.85776904e-01, -3.41761947e-01, -1.66809514e-01,\n",
       "          9.15261731e-02, -4.73816365e-01,  3.27862769e-01,\n",
       "          4.13708687e-01],\n",
       "        [ 2.74453074e-01,  1.52479514e-01,  5.10502040e-01,\n",
       "         -4.29781586e-01,  6.21037036e-02, -1.73114732e-01,\n",
       "          1.34586573e-01,  1.33344978e-01, -7.35931620e-02,\n",
       "         -7.02132052e-03],\n",
       "        [-2.69632697e-01,  4.22557861e-01,  4.13493007e-01,\n",
       "         -2.51483351e-01,  1.44773498e-02,  9.81210843e-02,\n",
       "          3.65858644e-01, -1.90663591e-01, -3.19060534e-01,\n",
       "         -1.11237943e-01],\n",
       "        [-1.21663529e-02,  7.09883049e-02,  6.52661175e-03,\n",
       "          2.62792647e-01, -5.51794432e-02,  2.33724490e-01,\n",
       "         -2.71370053e-01,  2.05871522e-01, -4.55898643e-01,\n",
       "         -3.00089419e-01],\n",
       "        [-2.32177079e-01, -2.23001853e-01, -9.30605829e-02,\n",
       "         -2.03882322e-01,  1.99692309e-01,  3.61999393e-01,\n",
       "         -4.91270125e-01,  2.85028785e-01, -3.57367516e-01,\n",
       "          2.25206539e-01],\n",
       "        [-2.49419093e-01,  4.31977510e-01,  3.49731475e-01,\n",
       "         -1.03208944e-01, -4.31718856e-01,  2.78733760e-01,\n",
       "         -3.09462100e-02,  1.36865139e-01,  3.25303376e-01,\n",
       "          8.86872178e-04],\n",
       "        [-2.46713698e-01,  2.59770960e-01,  2.47509062e-01,\n",
       "          2.46805638e-01,  2.26048976e-02, -6.14505596e-02,\n",
       "         -1.17769867e-01, -2.21024618e-01,  2.99462061e-02,\n",
       "         -3.91292185e-01],\n",
       "        [ 3.00135255e-01, -3.85989308e-01, -1.17953449e-01,\n",
       "          7.83446953e-02,  1.19323514e-01, -2.02753946e-01,\n",
       "          2.05320314e-01, -3.53942186e-01,  3.09671849e-01,\n",
       "          2.93793857e-01],\n",
       "        [-4.85334754e-01, -1.47636369e-01,  2.09496826e-01,\n",
       "          2.51421649e-02,  3.34434628e-01, -1.88196167e-01,\n",
       "         -4.22431439e-01, -1.43763423e-01, -2.80639261e-01,\n",
       "          1.57535017e-01],\n",
       "        [ 5.95861733e-01,  2.74387240e-01,  3.26254874e-01,\n",
       "         -9.81894881e-02,  2.07544491e-01, -3.56709778e-01,\n",
       "          7.72078782e-02, -2.03868732e-01, -2.75354922e-01,\n",
       "         -1.41812965e-01],\n",
       "        [ 4.97969747e-01,  9.22180712e-03,  1.94261476e-01,\n",
       "         -2.14330629e-01,  1.25123024e-01, -4.51961637e-01,\n",
       "         -2.17283547e-01, -4.89962667e-01,  5.75442314e-02,\n",
       "          3.86792034e-01],\n",
       "        [ 2.73675829e-01,  2.45273724e-01,  2.45247319e-01,\n",
       "         -1.56189620e-01, -1.99609935e-01,  2.40761135e-03,\n",
       "          3.26301277e-01, -3.92546862e-01, -2.75839806e-01,\n",
       "          2.00806156e-01],\n",
       "        [ 8.10150281e-02, -2.58737057e-01,  4.64333862e-01,\n",
       "         -3.23635906e-01, -1.32364139e-01,  4.30394076e-02,\n",
       "          1.95064053e-01, -1.31677151e-01,  5.03320575e-01,\n",
       "         -2.45852694e-01],\n",
       "        [-1.04901440e-01,  2.60861628e-02,  1.90987021e-01,\n",
       "          4.99488637e-02, -5.01111865e-01, -1.67222068e-01,\n",
       "          5.03123641e-01, -2.70072132e-01,  2.77042180e-01,\n",
       "         -2.68464267e-01],\n",
       "        [ 9.23917145e-02,  1.32205442e-01, -2.78742820e-01,\n",
       "          5.49272113e-02, -1.78031027e-01, -2.66734987e-01,\n",
       "         -4.65242475e-01,  3.54545385e-01,  4.09368306e-01,\n",
       "         -8.32677484e-02],\n",
       "        [-3.39380682e-01,  1.77092031e-01, -5.82216263e-01,\n",
       "          2.51568824e-01, -1.31714106e-01,  3.37158352e-01,\n",
       "          2.37474248e-01, -3.25944692e-01,  1.63575143e-01,\n",
       "          3.16472381e-01],\n",
       "        [ 2.36433044e-01, -1.50911495e-01,  2.07796901e-01,\n",
       "          1.98341429e-01, -2.02029020e-01,  1.76828161e-01,\n",
       "         -6.34357557e-02,  2.49563411e-01, -2.88211346e-01,\n",
       "          2.59098053e-01],\n",
       "        [ 9.66277868e-02, -2.03566372e-01,  4.97155398e-01,\n",
       "          6.09648265e-02,  2.60643393e-01, -4.57213521e-01,\n",
       "         -5.42433560e-01, -8.92968848e-02, -1.61800265e-01,\n",
       "          3.67024839e-01],\n",
       "        [-3.64261836e-01, -6.42518103e-02,  2.41511524e-01,\n",
       "          3.92602146e-01, -4.31483358e-01, -6.13625236e-02,\n",
       "          6.58539683e-02,  3.02495778e-01, -1.47191629e-01,\n",
       "         -2.74134994e-01],\n",
       "        [ 4.72345501e-01, -9.36909318e-02,  1.15265504e-01,\n",
       "          4.88124490e-02,  1.62467316e-01, -2.26728290e-01,\n",
       "         -1.02178797e-01,  5.94934262e-02, -3.71925235e-01,\n",
       "          3.28613110e-02],\n",
       "        [-2.02903539e-01, -3.75687718e-01,  4.71571609e-02,\n",
       "          2.84175783e-01, -8.52866471e-02,  3.20603997e-01,\n",
       "          4.48285826e-02, -5.33485264e-02,  1.95996508e-01,\n",
       "          2.23289520e-01],\n",
       "        [-2.63172090e-01, -2.16772094e-01, -6.41519800e-02,\n",
       "          1.49539439e-02, -2.32749358e-01, -1.95808783e-02,\n",
       "          3.00100356e-01, -9.01199058e-02,  1.87690798e-02,\n",
       "          4.61522758e-01],\n",
       "        [ 3.03902805e-01, -1.13835141e-01, -2.75905550e-01,\n",
       "         -3.01861376e-01,  4.52083796e-01,  1.73824519e-01,\n",
       "         -6.71545640e-02, -3.20442080e-01, -3.22080702e-01,\n",
       "          1.45269990e-01],\n",
       "        [-2.36950949e-01, -2.35964388e-01, -2.07992777e-01,\n",
       "         -3.03894252e-01,  9.83755365e-02,  6.14796281e-02,\n",
       "          2.23165393e-01,  2.04458773e-01,  1.75022006e-01,\n",
       "          2.55918264e-01],\n",
       "        [ 5.85603476e-01,  7.54120350e-02,  1.22229815e-01,\n",
       "         -2.30013490e-01, -1.66687399e-01, -1.29037037e-01,\n",
       "          3.30509841e-01,  1.29633234e-03,  4.61914957e-01,\n",
       "         -2.60223299e-01],\n",
       "        [-7.07519203e-02,  2.64170825e-01, -2.10174501e-01,\n",
       "         -1.77437246e-01,  1.52107611e-01, -1.10074058e-01,\n",
       "          3.50091338e-01,  8.88946354e-02, -4.25058037e-01,\n",
       "          3.52702737e-01],\n",
       "        [ 3.82648170e-01,  3.38963360e-01, -4.16101307e-01,\n",
       "         -2.05411643e-01,  1.12835974e-01, -2.60574937e-01,\n",
       "          4.30265546e-01, -1.09986506e-01, -9.18712169e-02,\n",
       "         -3.89774255e-02],\n",
       "        [-2.11853653e-01,  4.16256577e-01, -2.84549773e-01,\n",
       "          2.02342914e-03,  1.47888185e-02,  3.81132871e-01,\n",
       "          1.30964577e-01, -3.45803440e-01, -1.69589117e-01,\n",
       "          7.32372031e-02],\n",
       "        [-1.06901385e-01, -2.80847788e-01, -1.23614244e-01,\n",
       "          1.49650559e-01, -3.94797139e-02,  3.10932040e-01,\n",
       "         -1.41139001e-01, -3.92940134e-01, -1.82417199e-01,\n",
       "          2.19725475e-01],\n",
       "        [ 2.39315540e-01,  2.44929612e-01,  2.15623572e-01,\n",
       "         -6.25324428e-01,  1.51129007e-01,  2.13012055e-01,\n",
       "          1.74429528e-02, -3.85226309e-01,  2.82181144e-01,\n",
       "          1.82035901e-02],\n",
       "        [-4.35242951e-01,  2.91162729e-01,  4.73418944e-02,\n",
       "          2.79300958e-01, -1.35901704e-01,  4.39174205e-01,\n",
       "          1.19528130e-01, -7.59169608e-02, -2.10087076e-01,\n",
       "         -2.40609080e-01],\n",
       "        [-3.15924615e-01,  2.14372933e-01,  1.87301084e-01,\n",
       "         -1.54720530e-01,  2.49122545e-01,  2.59537876e-01,\n",
       "          4.73071933e-01, -2.78085679e-01,  1.16901219e-01,\n",
       "         -4.20305073e-01],\n",
       "        [-1.95814013e-01, -2.19064504e-01,  2.20898926e-01,\n",
       "         -3.37133288e-01,  8.05576518e-02, -1.81666408e-02,\n",
       "          1.36373326e-01,  1.46507218e-01, -2.93603629e-01,\n",
       "          2.51301765e-01],\n",
       "        [ 1.70450106e-01,  2.56052732e-01, -8.31277147e-02,\n",
       "          3.19464169e-02, -4.13482338e-01,  2.69353390e-01,\n",
       "         -1.24048062e-01,  2.23709658e-01,  2.39352658e-01,\n",
       "          3.66966307e-01]], dtype=float32)>,\n",
       " <tf.Variable 'dense_2/bias:0' shape=(10,) dtype=float32, numpy=\n",
       " array([-0.10259303,  0.08234204,  0.08179464, -0.01441831, -0.06382005,\n",
       "         0.12897405, -0.08239656,  0.09745015, -0.14551678, -0.01024322],\n",
       "       dtype=float32)>]"
      ]
     },
     "execution_count": 16,
     "metadata": {},
     "output_type": "execute_result"
    }
   ],
   "source": [
    "weights"
   ]
  },
  {
   "cell_type": "code",
   "execution_count": 17,
   "id": "d6b1e490",
   "metadata": {
    "ExecuteTime": {
     "end_time": "2023-01-10T19:36:34.320535Z",
     "start_time": "2023-01-10T19:36:34.309553Z"
    }
   },
   "outputs": [
    {
     "data": {
      "text/plain": [
       "['conv2d/kernel:0',\n",
       " 'conv2d/bias:0',\n",
       " 'conv2d_1/kernel:0',\n",
       " 'conv2d_1/bias:0',\n",
       " 'dense/kernel:0',\n",
       " 'dense/bias:0',\n",
       " 'dense_1/kernel:0',\n",
       " 'dense_1/bias:0',\n",
       " 'dense_2/kernel:0',\n",
       " 'dense_2/bias:0']"
      ]
     },
     "execution_count": 17,
     "metadata": {},
     "output_type": "execute_result"
    }
   ],
   "source": [
    "weight_names"
   ]
  },
  {
   "cell_type": "code",
   "execution_count": 29,
   "id": "53c9c930",
   "metadata": {
    "ExecuteTime": {
     "end_time": "2023-01-10T20:10:45.497583Z",
     "start_time": "2023-01-10T20:10:45.489587Z"
    }
   },
   "outputs": [],
   "source": [
    "str1 = ['conv2d_kernel',\n",
    "'pool1',\n",
    " 'conv2d_1_kernel',\n",
    "'pool2',\n",
    " 'flatten',   \n",
    " 'dense_kernel',\n",
    "\n",
    " 'dense_1_kernel',\n",
    "\n",
    " 'dense_2_kernel',\n",
    "]"
   ]
  },
  {
   "cell_type": "code",
   "execution_count": 31,
   "id": "7bc623da",
   "metadata": {
    "ExecuteTime": {
     "end_time": "2023-01-10T20:11:31.605096Z",
     "start_time": "2023-01-10T20:11:31.594717Z"
    }
   },
   "outputs": [],
   "source": [
    "# 使用 Python 的 open 函数创建一个 txt 文件\n",
    "for i in range(len(lenet_5_model.layers)):\n",
    "    \n",
    "    filename = str1[i] + '.bin'\n",
    "    \n",
    "    with open(filename, 'w') as f:\n",
    "   \n",
    "        weight_value = lenet_5_model.layers[i].get_weights()\n",
    "        #byte_weight = np.array(weight_value)\n",
    "        #byte_weight = byte_weight.tobytes()\n",
    "        # 将权重张量的名称和值写入文件\n",
    "\n",
    "        f.write(str(byte_weight))"
   ]
  },
  {
   "cell_type": "code",
   "execution_count": null,
   "id": "52b0bc3b",
   "metadata": {
    "ExecuteTime": {
     "end_time": "2023-01-10T16:03:06.150321Z",
     "start_time": "2023-01-10T16:03:06.140410Z"
    }
   },
   "outputs": [],
   "source": [
    "len(lenet_5_model.layers)"
   ]
  },
  {
   "cell_type": "code",
   "execution_count": 22,
   "id": "3d9d9bfe",
   "metadata": {
    "ExecuteTime": {
     "end_time": "2023-01-10T16:11:58.703307Z",
     "start_time": "2023-01-10T16:11:58.690189Z"
    }
   },
   "outputs": [
    {
     "data": {
      "text/plain": [
       "[<keras.layers.convolutional.conv2d.Conv2D at 0x20ce378d910>,\n",
       " <keras.layers.pooling.average_pooling2d.AveragePooling2D at 0x20ce37a5a60>,\n",
       " <keras.layers.convolutional.conv2d.Conv2D at 0x20ce25602b0>,\n",
       " <keras.layers.pooling.average_pooling2d.AveragePooling2D at 0x20ce25a4760>,\n",
       " <keras.layers.reshaping.flatten.Flatten at 0x20ce25a4580>,\n",
       " <keras.layers.core.dense.Dense at 0x20ce25a4c10>,\n",
       " <keras.layers.core.dense.Dense at 0x20ce25a4d30>,\n",
       " <keras.layers.core.dense.Dense at 0x20ce25a4fa0>]"
      ]
     },
     "execution_count": 22,
     "metadata": {},
     "output_type": "execute_result"
    }
   ],
   "source": [
    "lenet_5_model.layers"
   ]
  },
  {
   "cell_type": "code",
   "execution_count": 20,
   "id": "929aed57-808a-4df6-a9f7-ce9eec9d4ba1",
   "metadata": {
    "ExecuteTime": {
     "end_time": "2023-01-10T19:39:15.255526Z",
     "start_time": "2023-01-10T19:39:15.239479Z"
    }
   },
   "outputs": [
    {
     "data": {
      "text/plain": [
       "[array([[[[-0.17677288, -0.10921274, -0.15609926,  0.03247928,\n",
       "            0.34055483, -0.2703137 ]],\n",
       " \n",
       "         [[ 0.004232  ,  0.00610211, -0.1781902 ,  0.05771052,\n",
       "            0.43934068, -0.00511643]],\n",
       " \n",
       "         [[ 0.2724311 ,  0.18561174, -0.25380275,  0.06364666,\n",
       "            0.3033185 ,  0.27767712]],\n",
       " \n",
       "         [[ 0.29368713,  0.25290108, -0.22573078,  0.29018977,\n",
       "            0.19587277,  0.46380758]],\n",
       " \n",
       "         [[ 0.23007998,  0.3159453 , -0.19296125,  0.34255853,\n",
       "           -0.07667477,  0.31314597]]],\n",
       " \n",
       " \n",
       "        [[[ 0.00443434, -0.2764881 , -0.40048715,  0.15493181,\n",
       "            0.3140753 , -0.17219238]],\n",
       " \n",
       "         [[ 0.06433327, -0.21251029, -0.07486624,  0.34991392,\n",
       "            0.29158202,  0.03271443]],\n",
       " \n",
       "         [[ 0.42875502,  0.21320513, -0.19064397,  0.20902725,\n",
       "            0.21087246,  0.40052408]],\n",
       " \n",
       "         [[ 0.61221   ,  0.1179068 , -0.14206386,  0.04253705,\n",
       "            0.1747878 ,  0.40371832]],\n",
       " \n",
       "         [[ 0.21638371,  0.13053747, -0.38634035,  0.182969  ,\n",
       "           -0.0380987 ,  0.33302194]]],\n",
       " \n",
       " \n",
       "        [[[-0.28597265, -0.273075  ,  0.1705441 ,  0.28392854,\n",
       "            0.38636115, -0.04505619]],\n",
       " \n",
       "         [[ 0.09487689,  0.01444577,  0.05305041,  0.23496261,\n",
       "            0.16195677,  0.09614402]],\n",
       " \n",
       "         [[ 0.31660086, -0.09866036,  0.2365295 ,  0.20853344,\n",
       "           -0.00826405,  0.39111707]],\n",
       " \n",
       "         [[ 0.37550333,  0.2729285 ,  0.2084737 ,  0.1393465 ,\n",
       "           -0.2373716 ,  0.14958312]],\n",
       " \n",
       "         [[ 0.04951379,  0.18771966, -0.13524528, -0.13398984,\n",
       "           -0.0720609 ,  0.05052989]]],\n",
       " \n",
       " \n",
       "        [[[-0.21100691, -0.11761333,  0.36720026, -0.03409573,\n",
       "           -0.10120232, -0.2420603 ]],\n",
       " \n",
       "         [[ 0.06185686, -0.2093189 ,  0.336724  , -0.4952045 ,\n",
       "           -0.31155553, -0.08559219]],\n",
       " \n",
       "         [[ 0.26839298,  0.11740249,  0.5756229 , -0.26853585,\n",
       "           -0.30408445,  0.06885638]],\n",
       " \n",
       "         [[ 0.27112967,  0.06921719,  0.4480211 , -0.57790273,\n",
       "           -0.30132896, -0.11391268]],\n",
       " \n",
       "         [[-0.25946304,  0.15213333,  0.21103708, -0.48357576,\n",
       "            0.00210496, -0.24625742]]],\n",
       " \n",
       " \n",
       "        [[[-0.12025028, -0.29443812,  0.0410987 , -0.6585818 ,\n",
       "           -0.22604528, -0.1668644 ]],\n",
       " \n",
       "         [[-0.00570802,  0.03991325,  0.2506059 , -0.7555342 ,\n",
       "           -0.32837638, -0.14815141]],\n",
       " \n",
       "         [[-0.08111259,  0.04139631,  0.06651921, -0.65532386,\n",
       "           -0.07913367, -0.4063561 ]],\n",
       " \n",
       "         [[ 0.01570529,  0.23591968,  0.07807519, -0.48014146,\n",
       "           -0.31721494, -0.40051118]],\n",
       " \n",
       "         [[-0.34031242,  0.21491018,  0.03116132, -0.0801432 ,\n",
       "           -0.1579349 , -0.29832676]]]], dtype=float32),\n",
       " array([-0.08947999, -0.03880781,  0.02794386, -0.10687135, -0.02216485,\n",
       "        -0.06637917], dtype=float32)]"
      ]
     },
     "execution_count": 20,
     "metadata": {},
     "output_type": "execute_result"
    }
   ],
   "source": [
    "lenet_5_model.layers[0].get_weights()"
   ]
  },
  {
   "cell_type": "code",
   "execution_count": null,
   "id": "94c8d0cc",
   "metadata": {},
   "outputs": [],
   "source": []
  },
  {
   "cell_type": "code",
   "execution_count": null,
   "id": "8048c76c",
   "metadata": {},
   "outputs": [],
   "source": []
  }
 ],
 "metadata": {
  "kernelspec": {
   "display_name": "Python 3 (ipykernel)",
   "language": "python",
   "name": "python3"
  },
  "language_info": {
   "codemirror_mode": {
    "name": "ipython",
    "version": 3
   },
   "file_extension": ".py",
   "mimetype": "text/x-python",
   "name": "python",
   "nbconvert_exporter": "python",
   "pygments_lexer": "ipython3",
   "version": "3.9.13"
  },
  "toc": {
   "base_numbering": 1,
   "nav_menu": {},
   "number_sections": true,
   "sideBar": true,
   "skip_h1_title": false,
   "title_cell": "Table of Contents",
   "title_sidebar": "Contents",
   "toc_cell": false,
   "toc_position": {},
   "toc_section_display": true,
   "toc_window_display": false
  },
  "varInspector": {
   "cols": {
    "lenName": 16,
    "lenType": 16,
    "lenVar": 40
   },
   "kernels_config": {
    "python": {
     "delete_cmd_postfix": "",
     "delete_cmd_prefix": "del ",
     "library": "var_list.py",
     "varRefreshCmd": "print(var_dic_list())"
    },
    "r": {
     "delete_cmd_postfix": ") ",
     "delete_cmd_prefix": "rm(",
     "library": "var_list.r",
     "varRefreshCmd": "cat(var_dic_list()) "
    }
   },
   "types_to_exclude": [
    "module",
    "function",
    "builtin_function_or_method",
    "instance",
    "_Feature"
   ],
   "window_display": false
  }
 },
 "nbformat": 4,
 "nbformat_minor": 5
}
