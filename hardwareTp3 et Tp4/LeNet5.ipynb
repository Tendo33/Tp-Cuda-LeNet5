{
 "cells": [
  {
   "cell_type": "code",
   "execution_count": 1,
   "id": "a490f7a0-cb6d-4048-87e6-3fa66ee45232",
   "metadata": {
    "ExecuteTime": {
     "end_time": "2023-01-10T16:10:10.887512Z",
     "start_time": "2023-01-10T16:10:08.443805Z"
    }
   },
   "outputs": [],
   "source": [
    "import tensorflow as tf\n",
    "from tensorflow import keras\n",
    "import numpy as np\n",
    "from matplotlib import pyplot\n",
    "from keras.models import model_from_json\n",
    "import os"
   ]
  },
  {
   "cell_type": "code",
   "execution_count": 4,
   "id": "93d3031b-4533-4aec-a39f-02e28c2e70a7",
   "metadata": {
    "ExecuteTime": {
     "end_time": "2023-01-10T16:10:14.355783Z",
     "start_time": "2023-01-10T16:10:14.063560Z"
    }
   },
   "outputs": [
    {
     "data": {
      "text/plain": [
       "(60000, 28, 28)"
      ]
     },
     "execution_count": 4,
     "metadata": {},
     "output_type": "execute_result"
    }
   ],
   "source": [
    "(train_x, train_y), (test_x, test_y) = keras.datasets.mnist.load_data()\n",
    "train_x = train_x / 255.0\n",
    "test_x = test_x / 255.0\n",
    "train_x.shape"
   ]
  },
  {
   "cell_type": "code",
   "execution_count": 5,
   "id": "f25fabb6-19d5-49a4-9598-085544a8aab2",
   "metadata": {
    "ExecuteTime": {
     "end_time": "2023-01-10T16:10:15.184109Z",
     "start_time": "2023-01-10T16:10:14.454301Z"
    }
   },
   "outputs": [
    {
     "data": {
      "text/plain": [
       "TensorShape([60000, 28, 28, 1])"
      ]
     },
     "execution_count": 5,
     "metadata": {},
     "output_type": "execute_result"
    }
   ],
   "source": [
    "train_x = tf.expand_dims(train_x, 3)\n",
    "test_x = tf.expand_dims(test_x, 3)\n",
    "val_x = train_x[:5000]\n",
    "val_y = train_y[:5000]\n",
    "train_x.shape"
   ]
  },
  {
   "cell_type": "code",
   "execution_count": 6,
   "id": "932346b8-8227-448e-aa93-8912ca971962",
   "metadata": {
    "ExecuteTime": {
     "end_time": "2023-01-10T16:10:15.687506Z",
     "start_time": "2023-01-10T16:10:15.590989Z"
    }
   },
   "outputs": [],
   "source": [
    "lenet_5_model = keras.models.Sequential([\n",
    "    keras.layers.Conv2D(6, kernel_size=5, strides=1,  activation='tanh', input_shape=train_x[0].shape, padding='same'), #C1\n",
    "    keras.layers.AveragePooling2D(), #S2\n",
    "    keras.layers.Conv2D(16, kernel_size=5, strides=1, activation='tanh', padding='valid'), #C3\n",
    "    keras.layers.AveragePooling2D(), #S4\n",
    "    keras.layers.Flatten(), #Flatten\n",
    "    keras.layers.Dense(120, activation='tanh'), #C5\n",
    "    keras.layers.Dense(84, activation='tanh'), #F6\n",
    "    keras.layers.Dense(10, activation='softmax') #Output layer\n",
    "])"
   ]
  },
  {
   "cell_type": "code",
   "execution_count": 7,
   "id": "0f9c7fb0-964d-4279-8347-1533097d7c66",
   "metadata": {
    "ExecuteTime": {
     "end_time": "2023-01-10T16:10:15.923435Z",
     "start_time": "2023-01-10T16:10:15.898414Z"
    }
   },
   "outputs": [],
   "source": [
    "lenet_5_model.compile(optimizer='adam',loss=keras.losses.sparse_categorical_crossentropy, metrics=['accuracy'])"
   ]
  },
  {
   "cell_type": "code",
   "execution_count": 8,
   "id": "c1dadc66-075f-4398-9849-4dc87647163f",
   "metadata": {
    "ExecuteTime": {
     "end_time": "2023-01-10T16:10:43.911889Z",
     "start_time": "2023-01-10T16:10:16.152796Z"
    }
   },
   "outputs": [
    {
     "name": "stdout",
     "output_type": "stream",
     "text": [
      "Epoch 1/5\n",
      "1875/1875 [==============================] - 9s 3ms/step - loss: 0.2303 - accuracy: 0.9306 - val_loss: 0.0962 - val_accuracy: 0.9734\n",
      "Epoch 2/5\n",
      "1875/1875 [==============================] - 5s 3ms/step - loss: 0.0878 - accuracy: 0.9732 - val_loss: 0.0595 - val_accuracy: 0.9820\n",
      "Epoch 3/5\n",
      "1875/1875 [==============================] - 5s 2ms/step - loss: 0.0601 - accuracy: 0.9819 - val_loss: 0.0503 - val_accuracy: 0.9852\n",
      "Epoch 4/5\n",
      "1875/1875 [==============================] - 5s 3ms/step - loss: 0.0481 - accuracy: 0.9853 - val_loss: 0.0355 - val_accuracy: 0.9906\n",
      "Epoch 5/5\n",
      "1875/1875 [==============================] - 5s 2ms/step - loss: 0.0371 - accuracy: 0.9885 - val_loss: 0.0263 - val_accuracy: 0.9922\n"
     ]
    },
    {
     "data": {
      "text/plain": [
       "<keras.callbacks.History at 0x20c935eaaf0>"
      ]
     },
     "execution_count": 8,
     "metadata": {},
     "output_type": "execute_result"
    }
   ],
   "source": [
    "lenet_5_model.fit(train_x, train_y, epochs=5, validation_data=(val_x, val_y))"
   ]
  },
  {
   "cell_type": "code",
   "execution_count": 9,
   "id": "b9886896-43dc-4831-a595-7f040928b87f",
   "metadata": {
    "ExecuteTime": {
     "end_time": "2023-01-10T16:10:44.551340Z",
     "start_time": "2023-01-10T16:10:43.976423Z"
    }
   },
   "outputs": [
    {
     "name": "stdout",
     "output_type": "stream",
     "text": [
      "313/313 [==============================] - 1s 2ms/step - loss: 0.0456 - accuracy: 0.9847\n"
     ]
    },
    {
     "data": {
      "text/plain": [
       "[0.04555758833885193, 0.9847000241279602]"
      ]
     },
     "execution_count": 9,
     "metadata": {},
     "output_type": "execute_result"
    }
   ],
   "source": [
    "lenet_5_model.evaluate(test_x, test_y)"
   ]
  },
  {
   "cell_type": "code",
   "execution_count": 10,
   "id": "e6e8ca62-f863-4e73-acac-25cd7c8d91f9",
   "metadata": {
    "ExecuteTime": {
     "end_time": "2023-01-10T16:10:44.752907Z",
     "start_time": "2023-01-10T16:10:44.613636Z"
    }
   },
   "outputs": [
    {
     "data": {
      "image/png": "[encoded data removed]",
      "text/plain": [
       "<Figure size 640x480 with 1 Axes>"
      ]
     },
     "metadata": {},
     "output_type": "display_data"
    },
    {
     "data": {
      "image/png": "[encoded data removed]",
      "text/plain": [
       "<Figure size 640x480 with 1 Axes>"
      ]
     },
     "metadata": {},
     "output_type": "display_data"
    },
    {
     "data": {
      "image/png": "[encoded data removed]",
      "text/plain": [
       "<Figure size 640x480 with 1 Axes>"
      ]
     },
     "metadata": {},
     "output_type": "display_data"
    }
   ],
   "source": [
    "for i in range(3):  \n",
    "    pyplot.subplot(330 + 1 + i)\n",
    "    pyplot.imshow(train_x[i], cmap=pyplot.get_cmap('gray'))\n",
    "    pyplot.show()"
   ]
  },
  {
   "cell_type": "code",
   "execution_count": 11,
   "id": "329cc15c-9b02-462d-b4e3-5b9d4c765bd8",
   "metadata": {
    "ExecuteTime": {
     "end_time": "2023-01-10T16:10:45.905615Z",
     "start_time": "2023-01-10T16:10:44.816204Z"
    }
   },
   "outputs": [
    {
     "name": "stderr",
     "output_type": "stream",
     "text": [
      "WARNING:absl:Found untraced functions such as _jit_compiled_convolution_op, _jit_compiled_convolution_op while saving (showing 2 of 2). These functions will not be directly callable after loading.\n"
     ]
    },
    {
     "name": "stdout",
     "output_type": "stream",
     "text": [
      "INFO:tensorflow:Assets written to: lenet_5_model\\assets\n"
     ]
    },
    {
     "name": "stderr",
     "output_type": "stream",
     "text": [
      "INFO:tensorflow:Assets written to: lenet_5_model\\assets\n"
     ]
    },
    {
     "name": "stdout",
     "output_type": "stream",
     "text": [
      "['assets', 'keras_metadata.pb', 'saved_model.pb', 'variables']\n"
     ]
    }
   ],
   "source": [
    "lenet_5_model.save('lenet_5_model')\n",
    "print(os.listdir('lenet_5_model'))"
   ]
  },
  {
   "cell_type": "code",
   "execution_count": 12,
   "id": "d883f56b-b134-4d81-aedb-1a0213cf2e5a",
   "metadata": {
    "ExecuteTime": {
     "end_time": "2023-01-10T16:10:45.998281Z",
     "start_time": "2023-01-10T16:10:45.967806Z"
    }
   },
   "outputs": [],
   "source": [
    "lenet_5_model.save(\"my.h5\")"
   ]
  },
  {
   "cell_type": "code",
   "execution_count": 13,
   "id": "e4039b16-8b65-4686-8e77-d8933555c2b1",
   "metadata": {
    "ExecuteTime": {
     "end_time": "2023-01-10T16:10:46.076770Z",
     "start_time": "2023-01-10T16:10:46.061860Z"
    }
   },
   "outputs": [
    {
     "name": "stdout",
     "output_type": "stream",
     "text": [
      "Model: \"sequential\"\n",
      "_________________________________________________________________\n",
      " Layer (type)                Output Shape              Param #   \n",
      "=================================================================\n",
      " conv2d (Conv2D)             (None, 28, 28, 6)         156       \n",
      "                                                                 \n",
      " average_pooling2d (AverageP  (None, 14, 14, 6)        0         \n",
      " ooling2D)                                                       \n",
      "                                                                 \n",
      " conv2d_1 (Conv2D)           (None, 10, 10, 16)        2416      \n",
      "                                                                 \n",
      " average_pooling2d_1 (Averag  (None, 5, 5, 16)         0         \n",
      " ePooling2D)                                                     \n",
      "                                                                 \n",
      " flatten (Flatten)           (None, 400)               0         \n",
      "                                                                 \n",
      " dense (Dense)               (None, 120)               48120     \n",
      "                                                                 \n",
      " dense_1 (Dense)             (None, 84)                10164     \n",
      "                                                                 \n",
      " dense_2 (Dense)             (None, 10)                850       \n",
      "                                                                 \n",
      "=================================================================\n",
      "Total params: 61,706\n",
      "Trainable params: 61,706\n",
      "Non-trainable params: 0\n",
      "_________________________________________________________________\n"
     ]
    }
   ],
   "source": [
    "lenet_5_model.summary()"
   ]
  },
  {
   "cell_type": "code",
   "execution_count": 14,
   "id": "24d1a878-c7a2-4688-9dca-35ab8c5edd2c",
   "metadata": {
    "ExecuteTime": {
     "end_time": "2023-01-10T16:10:46.153368Z",
     "start_time": "2023-01-10T16:10:46.139349Z"
    }
   },
   "outputs": [],
   "source": [
    "json_model = lenet_5_model.to_json()"
   ]
  },
  {
   "cell_type": "code",
   "execution_count": 15,
   "id": "c3a3b789-e537-4677-931e-6688b2786be7",
   "metadata": {
    "ExecuteTime": {
     "end_time": "2023-01-10T16:10:46.231216Z",
     "start_time": "2023-01-10T16:10:46.216410Z"
    }
   },
   "outputs": [],
   "source": [
    "with open('fashionmnist_model.json', 'w') as json_file:\n",
    "    json_file.write(json_model)"
   ]
  },
  {
   "cell_type": "code",
   "execution_count": 16,
   "id": "14bd5eec-4991-4eed-ac6e-4d6d126a167d",
   "metadata": {
    "ExecuteTime": {
     "end_time": "2023-01-10T16:10:46.354099Z",
     "start_time": "2023-01-10T16:10:46.294386Z"
    }
   },
   "outputs": [],
   "source": [
    "lenet_5_model.save_weights('weights.ckpt')"
   ]
  },
  {
   "cell_type": "code",
   "execution_count": 17,
   "id": "e9388997",
   "metadata": {
    "ExecuteTime": {
     "end_time": "2023-01-10T16:10:46.462627Z",
     "start_time": "2023-01-10T16:10:46.418512Z"
    }
   },
   "outputs": [],
   "source": [
    "# 从 checkpoint 文件加载模型权重\n",
    "lenet_5_model.load_weights('weights.ckpt')\n",
    "\n",
    "# 获取所有权重张量的名称\n",
    "weights = lenet_5_model.weights\n",
    "weight_names = [weight.name for weight in weights]"
   ]
  },
  {
   "cell_type": "code",
   "execution_count": 18,
   "id": "ad63bd16",
   "metadata": {
    "ExecuteTime": {
     "end_time": "2023-01-10T16:10:46.618276Z",
     "start_time": "2023-01-10T16:10:46.589053Z"
    }
   },
   "outputs": [
    {
     "data": {
      "text/plain": [
       "[<tf.Variable 'conv2d/kernel:0' shape=(5, 5, 1, 6) dtype=float32, numpy=\n",
       " array([[[[-0.34106803,  0.21361455, -0.19214511, -0.18248402,\n",
       "           -0.2068406 , -0.13348058]],\n",
       " \n",
       "         [[-0.1616025 ,  0.3294949 , -0.54670906, -0.11305622,\n",
       "           -0.15251663, -0.18840581]],\n",
       " \n",
       "         [[-0.3517927 ,  0.14860275, -0.6073522 , -0.37506938,\n",
       "           -0.29900217, -0.10690773]],\n",
       " \n",
       "         [[-0.328942  ,  0.29658592, -0.26363355, -0.07388994,\n",
       "           -0.19364461, -0.23510529]],\n",
       " \n",
       "         [[-0.32862207,  0.4061173 ,  0.20131439, -0.02836337,\n",
       "           -0.5027891 ,  0.01250314]]],\n",
       " \n",
       " \n",
       "        [[[-0.39147696,  0.10522471, -0.21439181, -0.38978204,\n",
       "            0.21289885, -0.09012283]],\n",
       " \n",
       "         [[-0.16379537,  0.12817363, -0.63348573, -0.5414427 ,\n",
       "            0.4206951 , -0.11187112]],\n",
       " \n",
       "         [[-0.14083704,  0.16047513, -0.51316166, -0.29537237,\n",
       "            0.12495682, -0.02014351]],\n",
       " \n",
       "         [[ 0.14618957, -0.00943979, -0.03967495,  0.06753742,\n",
       "           -0.15755579,  0.30621624]],\n",
       " \n",
       "         [[ 0.1451043 , -0.07503457,  0.23680021, -0.11664579,\n",
       "           -0.50955373,  0.36209556]]],\n",
       " \n",
       " \n",
       "        [[[-0.13442239, -0.008633  ,  0.08507971, -0.28234175,\n",
       "            0.2399399 , -0.04378962]],\n",
       " \n",
       "         [[ 0.15584002, -0.22949898, -0.20308395, -0.46020263,\n",
       "            0.5246987 , -0.0602925 ]],\n",
       " \n",
       "         [[ 0.40973043, -0.2794644 , -0.23199883, -0.01376082,\n",
       "            0.49146792,  0.07812201]],\n",
       " \n",
       "         [[ 0.4188469 , -0.18442976,  0.20594849,  0.10577858,\n",
       "            0.17759827,  0.62539464]],\n",
       " \n",
       "         [[ 0.45751455, -0.23009817,  0.05048884, -0.07807405,\n",
       "           -0.3504858 ,  0.5388296 ]]],\n",
       " \n",
       " \n",
       "        [[[ 0.10574558, -0.35246232,  0.15395458,  0.04895578,\n",
       "            0.20888636,  0.01079196]],\n",
       " \n",
       "         [[ 0.3312484 , -0.25009096,  0.15166262,  0.2797177 ,\n",
       "            0.23986466, -0.05604099]],\n",
       " \n",
       "         [[ 0.6875401 , -0.52162653,  0.12156495,  0.1651325 ,\n",
       "            0.29421568, -0.03072459]],\n",
       " \n",
       "         [[ 0.45668894, -0.6741219 ,  0.2923419 ,  0.18730555,\n",
       "           -0.15760931,  0.39589983]],\n",
       " \n",
       "         [[ 0.3130895 , -0.40630606,  0.2986909 ,  0.05512116,\n",
       "            0.11209533,  0.33287045]]],\n",
       " \n",
       " \n",
       "        [[[ 0.15625288,  0.01493782,  0.14363965,  0.26113322,\n",
       "           -0.2583243 , -0.25244123]],\n",
       " \n",
       "         [[ 0.09266685, -0.2650977 ,  0.1755468 ,  0.32072493,\n",
       "           -0.04852309, -0.23293215]],\n",
       " \n",
       "         [[ 0.03824762, -0.47615847,  0.18783052,  0.28904754,\n",
       "           -0.05070591,  0.04938054]],\n",
       " \n",
       "         [[-0.06923943, -0.22890984,  0.19667536,  0.34695014,\n",
       "           -0.20726152,  0.21635202]],\n",
       " \n",
       "         [[-0.1207357 , -0.24649626,  0.20851412,  0.04730648,\n",
       "            0.07378006,  0.04370726]]]], dtype=float32)>,\n",
       " <tf.Variable 'conv2d/bias:0' shape=(6,) dtype=float32, numpy=\n",
       " array([-0.03420726,  0.05197481, -0.05858222,  0.03885255, -0.02129415,\n",
       "        -0.05607097], dtype=float32)>,\n",
       " <tf.Variable 'conv2d_1/kernel:0' shape=(5, 5, 6, 16) dtype=float32, numpy=\n",
       " array([[[[ 7.08838031e-02,  2.09388160e-03, -9.18735415e-02, ...,\n",
       "            2.22978480e-02, -9.72147509e-02,  1.90423205e-02],\n",
       "          [-1.32111788e-01,  4.63462807e-02,  1.69671610e-01, ...,\n",
       "           -3.84998620e-02, -1.09760076e-01, -1.04291774e-01],\n",
       "          [ 5.26522920e-02,  2.52146181e-02, -1.65584221e-01, ...,\n",
       "           -9.64095965e-02,  3.71109881e-02, -1.70624387e-02],\n",
       "          [ 1.19027011e-02, -1.01677835e-01, -8.28953087e-02, ...,\n",
       "            1.00517228e-01,  3.16384174e-02,  8.38984028e-02],\n",
       "          [-9.46706161e-02, -1.04293525e-01, -6.00326546e-02, ...,\n",
       "           -4.14168350e-02,  1.39254957e-01, -6.43374249e-02],\n",
       "          [ 5.28618880e-03, -1.07730046e-01, -1.40646309e-01, ...,\n",
       "           -9.76579711e-02, -1.69616431e-01,  1.75066620e-01]],\n",
       " \n",
       "         [[ 1.10322110e-01,  6.25197068e-02, -6.07819408e-02, ...,\n",
       "           -2.26351544e-01,  4.14258204e-02,  9.52941179e-02],\n",
       "          [ 8.84654447e-02, -1.42764032e-01,  2.09793344e-01, ...,\n",
       "            1.71001062e-01, -7.26384073e-02, -1.88166082e-01],\n",
       "          [-1.03994593e-01,  6.66752979e-02,  4.12531123e-02, ...,\n",
       "           -1.05990700e-01,  2.65156657e-01, -1.40422313e-02],\n",
       "          [ 1.27884811e-02,  4.16056141e-02,  1.84770405e-01, ...,\n",
       "           -2.93855518e-02,  1.56491265e-01, -8.36076364e-02],\n",
       "          [-9.66777280e-02, -2.13815033e-01, -6.65530711e-02, ...,\n",
       "            6.60961345e-02, -1.98545843e-01, -1.16963819e-01],\n",
       "          [ 5.00327796e-02, -1.19640537e-01, -2.52081826e-02, ...,\n",
       "           -2.52607316e-01,  1.08680828e-02,  1.46913975e-01]],\n",
       " \n",
       "         [[ 1.49557693e-02,  1.54624999e-01, -7.79068004e-03, ...,\n",
       "           -9.24093127e-02, -9.04424712e-02,  2.57865995e-01],\n",
       "          [ 1.19951339e-02, -1.70104012e-01,  6.19251281e-02, ...,\n",
       "            1.24807976e-01,  1.59413870e-02, -3.83630097e-01],\n",
       "          [ 5.81178926e-02,  1.11125045e-01,  7.43752643e-02, ...,\n",
       "            6.02061786e-02,  7.85085559e-02,  2.57688984e-02],\n",
       "          [-4.04238068e-02,  2.29965627e-01,  2.32896239e-01, ...,\n",
       "            9.75773484e-02,  6.16812743e-02,  6.35593832e-02],\n",
       "          [-3.57003212e-02, -2.03568786e-01, -2.53608763e-01, ...,\n",
       "           -1.54534355e-01, -1.25514418e-01, -1.52508840e-01],\n",
       "          [ 1.66940838e-01, -7.17723519e-02, -4.59622815e-02, ...,\n",
       "           -6.22900054e-02, -6.68176711e-02,  1.49313778e-01]],\n",
       " \n",
       "         [[ 1.28615230e-01,  9.44531113e-02, -3.66914570e-02, ...,\n",
       "            2.15505555e-01, -1.18730664e-01,  1.34681210e-01],\n",
       "          [-1.96033016e-01, -5.50202169e-02,  5.54937869e-03, ...,\n",
       "            2.27458011e-02,  2.08496988e-01, -2.11008802e-01],\n",
       "          [-2.01114658e-02,  1.54940218e-01,  1.75350025e-01, ...,\n",
       "            1.36295035e-01,  9.06268731e-02, -2.31823280e-01],\n",
       "          [-1.20795995e-01,  7.09796101e-02,  1.85249880e-01, ...,\n",
       "            1.52967110e-01,  6.58371374e-02,  1.10801775e-02],\n",
       "          [-3.75034544e-03, -2.28986070e-01, -1.41368911e-01, ...,\n",
       "           -1.83337256e-01,  1.07265264e-01,  3.00139517e-01],\n",
       "          [ 2.63250411e-01,  5.43035865e-02, -1.05593437e-02, ...,\n",
       "            1.94807559e-01, -7.59341344e-02, -1.48163319e-01]],\n",
       " \n",
       "         [[ 5.55067472e-02,  8.40597749e-02, -2.80944183e-02, ...,\n",
       "            7.71315917e-02, -1.41252577e-01,  1.08187534e-02],\n",
       "          [-1.13954499e-01, -5.16597666e-02, -5.76703325e-02, ...,\n",
       "            2.56356150e-02,  8.75058994e-02,  1.57131582e-01],\n",
       "          [-8.63309726e-02,  1.29633546e-01,  9.70063880e-02, ...,\n",
       "            7.90924579e-02,  1.94084495e-02, -1.33353978e-01],\n",
       "          [-2.21216202e-01,  1.41867206e-01,  5.68786375e-02, ...,\n",
       "            6.00728653e-02,  6.27417117e-02, -1.90679692e-02],\n",
       "          [ 9.53394249e-02, -1.70289934e-01,  2.53926925e-02, ...,\n",
       "            4.04640064e-02, -7.01543912e-02, -1.56781618e-02],\n",
       "          [ 3.14281732e-02,  1.40870765e-01, -7.42928684e-02, ...,\n",
       "            2.01880246e-01, -1.17110468e-01, -9.56500322e-02]]],\n",
       " \n",
       " \n",
       "        [[[-8.06411058e-02,  4.90527898e-02,  1.40633360e-01, ...,\n",
       "           -4.06821631e-02, -4.84652817e-02, -1.52787820e-01],\n",
       "          [ 1.23728074e-01, -2.03423187e-01, -9.49741676e-02, ...,\n",
       "           -2.36910544e-02, -1.73261106e-01, -2.60373764e-03],\n",
       "          [-5.14212474e-02,  9.91557389e-02,  7.03959689e-02, ...,\n",
       "           -2.62026638e-02,  2.00193778e-01, -1.77450180e-01],\n",
       "          [ 6.15307242e-02,  2.06077829e-01,  1.59375012e-01, ...,\n",
       "            1.57631740e-01,  1.34620853e-02, -2.98377406e-02],\n",
       "          [-7.09680794e-03,  4.68488075e-02,  1.53798684e-01, ...,\n",
       "            9.58069507e-03, -1.20771974e-02,  1.95915893e-01],\n",
       "          [ 1.29022123e-02,  1.34401545e-01,  8.55719745e-02, ...,\n",
       "           -4.09025140e-02,  1.67074844e-01,  7.62518076e-03]],\n",
       " \n",
       "         [[-5.74308187e-02,  2.46954918e-01,  2.14137241e-01, ...,\n",
       "           -9.48128626e-02, -9.97299626e-02, -1.20912328e-01],\n",
       "          [ 2.88936466e-01, -5.58937564e-02, -9.99219716e-02, ...,\n",
       "           -3.83877382e-02, -5.80954365e-02, -1.11434013e-01],\n",
       "          [-1.01877645e-01,  2.81597406e-01,  3.27926248e-01, ...,\n",
       "            1.82988286e-01,  3.24785970e-02,  9.84337255e-02],\n",
       "          [-1.18817985e-01,  1.49548471e-01,  2.18762144e-01, ...,\n",
       "            1.28334925e-01,  1.32215945e-02, -7.06924126e-02],\n",
       "          [ 2.31556386e-01,  5.50404042e-02, -3.67883220e-02, ...,\n",
       "            4.03731950e-02,  1.05409190e-01, -8.44358429e-02],\n",
       "          [ 2.92550912e-03,  1.94946513e-01, -1.51184332e-02, ...,\n",
       "           -2.38186076e-01,  2.35022530e-02, -3.76666784e-02]],\n",
       " \n",
       "         [[-2.35971019e-01, -5.39600626e-02,  1.10859923e-01, ...,\n",
       "           -1.77116040e-02, -1.72113761e-01,  3.17944169e-01],\n",
       "          [ 3.20511609e-01, -9.16838869e-02, -7.72367492e-02, ...,\n",
       "            9.98595804e-02,  2.25059509e-01, -4.40071464e-01],\n",
       "          [-1.32411018e-01,  2.18671158e-01,  2.86264211e-01, ...,\n",
       "            2.52359241e-01,  7.38812834e-02,  5.54888472e-02],\n",
       "          [-2.58241922e-01, -1.01720514e-02,  2.83470392e-01, ...,\n",
       "            2.08472610e-01, -1.34435326e-01,  1.46210223e-01],\n",
       "          [ 2.03294959e-03,  2.84270383e-02,  1.62157938e-02, ...,\n",
       "           -2.33929574e-01,  8.72435123e-02, -2.63238668e-01],\n",
       "          [-8.13119393e-03,  6.38480633e-02, -1.25022670e-02, ...,\n",
       "           -1.82725787e-01, -6.76547810e-02,  4.42959517e-01]],\n",
       " \n",
       "         [[-3.75266420e-03,  1.16671205e-01,  1.78302843e-02, ...,\n",
       "           -1.71236008e-01, -2.21425667e-01,  7.25891069e-02],\n",
       "          [-8.45527202e-02,  7.30908066e-02,  9.18660909e-02, ...,\n",
       "            1.57691970e-01,  1.61983579e-01, -3.74060050e-02],\n",
       "          [-1.59497350e-01,  2.12864324e-01,  1.09474398e-01, ...,\n",
       "            3.22421035e-03, -3.32048200e-02, -4.36932802e-01],\n",
       "          [-1.45989135e-01,  1.40767485e-01,  7.26632401e-02, ...,\n",
       "           -5.12327475e-04, -5.05920313e-02, -1.55508384e-01],\n",
       "          [ 8.39706603e-03,  5.17327078e-02,  4.16015051e-02, ...,\n",
       "           -2.78678745e-01, -2.15991035e-01,  3.11346859e-01],\n",
       "          [ 2.03107685e-01,  1.73972756e-01,  9.10015777e-02, ...,\n",
       "           -1.23948306e-01,  5.34603931e-02, -1.57470167e-01]],\n",
       " \n",
       "         [[ 7.29295611e-02, -8.61013159e-02, -2.22366806e-02, ...,\n",
       "           -2.47618318e-01,  9.84991714e-02, -6.46112636e-02],\n",
       "          [-2.08333015e-01,  2.22339049e-01, -1.10450007e-01, ...,\n",
       "            2.32912853e-01, -4.75875614e-03,  7.79627860e-02],\n",
       "          [-1.27158374e-01,  9.02336016e-02,  4.52316888e-02, ...,\n",
       "           -3.01547915e-01, -7.16059003e-05, -1.64764702e-01],\n",
       "          [-1.17415100e-01,  2.97529288e-02,  1.74042732e-01, ...,\n",
       "           -1.21019565e-01,  1.50166512e-01, -1.06654555e-01],\n",
       "          [ 4.24976975e-01,  1.62699416e-01,  1.32664740e-01, ...,\n",
       "           -2.10094213e-01, -7.30572641e-02, -2.97640506e-02],\n",
       "          [ 8.96590054e-02,  1.03170305e-01,  1.75871447e-01, ...,\n",
       "           -8.95502493e-02,  6.34911209e-02, -1.12563170e-01]]],\n",
       " \n",
       " \n",
       "        [[[-2.27660432e-01,  7.89421890e-03,  2.17294052e-01, ...,\n",
       "            1.15275666e-01, -3.38422135e-02, -8.11939910e-02],\n",
       "          [ 2.48997152e-01, -2.00133771e-02, -5.02632111e-02, ...,\n",
       "           -1.33181855e-01,  1.39092086e-02,  8.67308229e-02],\n",
       "          [-3.09482291e-02,  2.76489891e-02, -8.47207978e-02, ...,\n",
       "           -1.11516099e-03, -1.56038776e-01, -5.94468564e-02],\n",
       "          [-9.07028466e-02,  4.01150249e-02, -1.16003482e-02, ...,\n",
       "            8.89441296e-02, -1.39749989e-01, -5.51043004e-02],\n",
       "          [-1.55242726e-01,  8.54407176e-02,  8.92901719e-02, ...,\n",
       "           -3.51232290e-02,  3.56781371e-02,  2.98604444e-02],\n",
       "          [-2.62318045e-01,  1.72011226e-01,  7.01900795e-02, ...,\n",
       "           -5.12242876e-02,  1.29825503e-01,  4.57947776e-02]],\n",
       " \n",
       "         [[-4.35110629e-01, -2.03901678e-01,  1.20086879e-01, ...,\n",
       "            1.37907401e-01,  2.08579469e-02,  2.41007134e-02],\n",
       "          [ 2.84020126e-01,  1.83564886e-01, -1.09283611e-01, ...,\n",
       "           -8.13653767e-02, -1.46505564e-01, -1.54321119e-01],\n",
       "          [-9.50128436e-02, -3.08910552e-02,  2.85080429e-02, ...,\n",
       "            1.80953696e-01, -2.63536453e-01,  2.28317723e-01],\n",
       "          [ 5.26567735e-02, -1.95808843e-01, -1.06018983e-01, ...,\n",
       "            8.28120783e-02, -1.74903214e-01,  9.01587773e-03],\n",
       "          [-2.04866394e-01,  1.88918456e-01,  4.91437912e-02, ...,\n",
       "            1.44312084e-01,  4.45329309e-01, -2.12599620e-01],\n",
       "          [-1.97158411e-01,  7.76389986e-02,  1.05826765e-01, ...,\n",
       "           -3.35266180e-02,  1.10727791e-02,  3.58707368e-01]],\n",
       " \n",
       "         [[-3.59216481e-01, -6.71212152e-02, -7.18140453e-02, ...,\n",
       "            3.76758464e-02,  4.53110225e-02,  3.63605469e-01],\n",
       "          [ 3.53647292e-01,  8.78024921e-02,  9.32160616e-02, ...,\n",
       "           -1.17292158e-01, -1.23614423e-01, -3.90439510e-01],\n",
       "          [ 1.65004507e-01, -2.55049877e-02, -1.41000211e-01, ...,\n",
       "            2.12490082e-01, -1.70629062e-02, -8.37929100e-02],\n",
       "          [ 2.20752835e-01,  3.41139152e-03, -1.87809393e-01, ...,\n",
       "            2.03959867e-01, -8.80658552e-02,  5.38867041e-02],\n",
       "          [-4.26934510e-01, -8.09111595e-02,  8.70525017e-02, ...,\n",
       "            1.60739288e-01,  5.40121421e-02, -2.17648167e-02],\n",
       "          [-8.16091448e-02,  7.45755434e-02, -1.15779869e-01, ...,\n",
       "           -1.70679390e-01, -9.48992744e-02,  5.80462694e-01]],\n",
       " \n",
       "         [[-5.45834489e-02, -2.21469983e-01, -8.70171562e-02, ...,\n",
       "           -6.15626872e-02,  1.78986952e-01, -6.69584498e-02],\n",
       "          [ 2.51315266e-01,  2.29962915e-01,  2.56487727e-01, ...,\n",
       "            7.94085339e-02, -1.71344310e-01, -6.01312555e-02],\n",
       "          [ 7.12478440e-03, -4.11955565e-02, -1.27334386e-01, ...,\n",
       "            2.66779542e-01,  2.30310187e-01, -5.27298570e-01],\n",
       "          [ 2.02783272e-02,  3.50238606e-02,  1.05245896e-02, ...,\n",
       "            2.47589856e-01,  8.74659866e-02, -4.22310203e-01],\n",
       "          [-6.52744532e-01,  5.72585315e-02, -6.84606284e-02, ...,\n",
       "           -1.84883639e-01, -1.51254877e-01,  5.27112722e-01],\n",
       "          [-4.65343036e-02, -1.81832224e-01, -6.00532219e-02, ...,\n",
       "           -1.69947118e-01,  1.35014921e-01, -1.88447371e-01]],\n",
       " \n",
       "         [[ 1.14568397e-02, -3.47157657e-01,  5.12619354e-02, ...,\n",
       "           -8.50180909e-02,  1.69791400e-01, -1.37811750e-01],\n",
       "          [-2.63207182e-02,  3.37268919e-01,  1.61317736e-01, ...,\n",
       "           -1.90575123e-02, -4.36513945e-02,  2.61692214e-03],\n",
       "          [-6.32050335e-02, -8.03184956e-02, -3.82642299e-02, ...,\n",
       "            1.85488522e-01,  3.33338566e-02,  1.01344906e-01],\n",
       "          [-3.76707874e-02, -1.07509799e-01, -9.09793098e-03, ...,\n",
       "            2.82876611e-01,  6.88404664e-02,  8.33924338e-02],\n",
       "          [-1.40957907e-02, -1.66248143e-01, -1.40773878e-01, ...,\n",
       "           -2.13375941e-01, -4.54613157e-02, -6.22652646e-04],\n",
       "          [ 1.88963383e-01, -1.60581708e-01,  1.32753506e-01, ...,\n",
       "           -1.97287947e-01,  1.05141245e-01, -1.34002328e-01]]],\n",
       " \n",
       " \n",
       "        [[[ 1.17328912e-01,  2.98468047e-03, -1.69812620e-01, ...,\n",
       "            5.49116991e-02, -3.34594101e-02,  7.04640672e-02],\n",
       "          [-9.69536528e-02,  4.12494317e-02,  1.34983122e-01, ...,\n",
       "           -1.08612470e-01,  1.27144486e-01,  7.02800155e-02],\n",
       "          [ 1.25753760e-01, -2.91736089e-02, -1.82575986e-01, ...,\n",
       "            7.59503320e-02, -1.39440671e-01, -7.91116431e-02],\n",
       "          [-3.44299115e-02, -1.70000166e-01, -1.95626482e-01, ...,\n",
       "            4.20498699e-02, -8.82024169e-02,  6.10116236e-02],\n",
       "          [ 2.29867533e-01,  3.92415300e-02, -1.53374046e-01, ...,\n",
       "           -9.77486968e-02, -1.29516870e-01, -5.46556078e-02],\n",
       "          [-2.25311257e-02, -1.05839653e-03, -1.46674797e-01, ...,\n",
       "           -1.04115076e-01, -6.93106800e-02,  7.80604854e-02]],\n",
       " \n",
       "         [[-1.51077099e-02,  6.70728013e-02, -9.10988674e-02, ...,\n",
       "            1.32490635e-01,  3.22530046e-02,  1.69078693e-01],\n",
       "          [-1.30301550e-01,  2.26885770e-02,  2.07992271e-02, ...,\n",
       "           -8.14959854e-02, -2.65209302e-02, -1.29062608e-01],\n",
       "          [ 3.59596401e-01, -7.68535137e-02, -1.26017496e-01, ...,\n",
       "           -1.52275145e-01, -3.14658761e-01,  2.51315832e-01],\n",
       "          [ 2.52882272e-01,  5.93520179e-02, -1.98957846e-01, ...,\n",
       "           -7.39781410e-02, -1.59581497e-01,  6.01532944e-02],\n",
       "          [-4.45036188e-04, -5.70044890e-02, -7.30854720e-02, ...,\n",
       "            1.28955618e-01,  1.75513670e-01, -3.86928618e-01],\n",
       "          [-9.55992490e-02, -2.20346022e-02, -3.70027125e-02, ...,\n",
       "           -1.65982060e-02,  1.15699247e-01,  4.76236612e-01]],\n",
       " \n",
       "         [[ 3.44000245e-03,  1.40924051e-01,  3.31296697e-02, ...,\n",
       "            1.08535945e-01,  2.23470926e-02,  2.78456837e-01],\n",
       "          [-1.01635911e-01, -1.86754942e-01,  1.04620695e-01, ...,\n",
       "           -2.61255652e-01, -1.30144417e-01, -2.67443895e-01],\n",
       "          [ 3.92590106e-01,  1.15857407e-01, -8.36898312e-02, ...,\n",
       "           -1.73329249e-01, -1.16825201e-01, -3.31420124e-01],\n",
       "          [ 3.18406940e-01,  1.34540603e-01, -1.34834731e-02, ...,\n",
       "           -1.13325439e-01, -2.92775985e-02, -1.85097232e-02],\n",
       "          [ 3.68621685e-02, -4.83503155e-02,  5.50969802e-02, ...,\n",
       "            2.74770379e-01,  6.84643388e-02,  1.42412418e-02],\n",
       "          [ 6.24176227e-02,  8.12186599e-02, -1.44013926e-01, ...,\n",
       "           -1.79443415e-02,  8.66106376e-02,  2.96336830e-01]],\n",
       " \n",
       "         [[-1.37367323e-01, -4.20148112e-02, -1.60196111e-01, ...,\n",
       "            3.09094608e-01,  1.36351073e-02, -3.34167257e-02],\n",
       "          [ 1.69818178e-01, -1.94894685e-03,  2.05549031e-01, ...,\n",
       "           -1.84129775e-01, -1.25905732e-03,  3.63852307e-02],\n",
       "          [ 4.12085772e-01, -1.23303607e-01,  4.20528790e-03, ...,\n",
       "            2.76038527e-01,  3.81340049e-02, -5.23344994e-01],\n",
       "          [ 2.12629780e-01,  1.24899819e-01,  1.25886783e-01, ...,\n",
       "            3.74065526e-03, -7.89105594e-02, -3.86231095e-01],\n",
       "          [-1.29639342e-01,  2.93970942e-01, -1.98555589e-01, ...,\n",
       "            3.41191739e-01, -1.11898638e-01,  5.03955364e-01],\n",
       "          [ 7.60494992e-02, -1.97207645e-01, -1.31572202e-01, ...,\n",
       "           -3.55920605e-02,  1.44166261e-01, -1.73311263e-01]],\n",
       " \n",
       "         [[-5.99298663e-02, -2.36335352e-01, -1.12493083e-01, ...,\n",
       "            2.15788767e-01,  9.77839753e-02,  1.45269018e-02],\n",
       "          [ 1.44637421e-01,  1.48383215e-01,  1.96279451e-01, ...,\n",
       "           -2.43280575e-01,  1.09014057e-01, -1.03199733e-02],\n",
       "          [ 1.26419738e-01,  2.88382053e-01,  1.85050532e-01, ...,\n",
       "            2.84269810e-01, -2.67775148e-01,  1.97432324e-01],\n",
       "          [-9.73297060e-02,  1.56850144e-01, -8.44221155e-04, ...,\n",
       "            8.09826180e-02, -2.30875760e-01,  1.79557785e-01],\n",
       "          [-2.87921220e-01, -2.52336234e-01, -4.21890169e-01, ...,\n",
       "            8.00525174e-02,  6.00451417e-02, -1.14284590e-01],\n",
       "          [ 1.03675894e-01, -2.84128398e-01, -3.11518647e-02, ...,\n",
       "           -8.78507718e-02,  9.53444988e-02, -5.23754628e-03]]],\n",
       " \n",
       " \n",
       "        [[[-7.90646896e-02, -7.67135695e-02,  1.53535500e-01, ...,\n",
       "            7.54672810e-02, -3.87745502e-04,  1.99527889e-02],\n",
       "          [-1.13459937e-01, -1.41419675e-02, -8.99993703e-02, ...,\n",
       "           -1.18279479e-01, -1.32296517e-01, -6.90907687e-02],\n",
       "          [-4.09327894e-02, -4.41940352e-02, -1.12742320e-01, ...,\n",
       "            5.18064201e-02,  2.14542374e-01, -1.69364423e-01],\n",
       "          [ 3.71372774e-02, -1.12270892e-01,  5.81983849e-02, ...,\n",
       "           -6.03872202e-02,  2.10776255e-01, -5.41067719e-02],\n",
       "          [ 5.47728501e-02,  1.37201399e-01,  1.49716288e-01, ...,\n",
       "            3.91618423e-02, -2.14195162e-01,  6.07453147e-03],\n",
       "          [-2.97823083e-02,  8.79084393e-02, -8.04200955e-03, ...,\n",
       "           -9.62667167e-02,  1.32368719e-02, -2.09150594e-02]],\n",
       " \n",
       "         [[-9.27855968e-02,  1.38410345e-01,  3.01551282e-01, ...,\n",
       "            5.33464625e-02, -1.13911711e-01,  1.37717545e-01],\n",
       "          [ 7.55809918e-02, -1.46918237e-01, -2.06129283e-01, ...,\n",
       "           -3.02099995e-02,  8.24755058e-03, -1.38728678e-01],\n",
       "          [-2.74665002e-02, -1.80103108e-02,  1.49424365e-02, ...,\n",
       "           -2.71600019e-02,  7.38066714e-03,  1.21512495e-01],\n",
       "          [ 1.28283515e-03, -1.64514422e-01,  2.50139404e-02, ...,\n",
       "            3.46133951e-03,  2.42706817e-02,  1.36559561e-01],\n",
       "          [-1.54441342e-01, -3.00740264e-02, -1.23406410e-01, ...,\n",
       "           -1.26572758e-01, -1.37044340e-01, -4.19439882e-01],\n",
       "          [-6.46563694e-02,  1.73011735e-01,  1.78565681e-01, ...,\n",
       "           -1.75587796e-02, -1.44799188e-01,  4.40567911e-01]],\n",
       " \n",
       "         [[-9.75761116e-02,  1.55541286e-01,  2.68892020e-01, ...,\n",
       "            1.80544078e-01, -1.60888821e-01,  2.65837252e-01],\n",
       "          [ 5.79013340e-02,  4.19860557e-02, -1.12008661e-01, ...,\n",
       "           -1.13916405e-01,  7.56434947e-02, -8.50000381e-02],\n",
       "          [ 4.01626714e-02,  1.19263018e-02, -4.41884957e-02, ...,\n",
       "           -2.28080973e-01, -8.80988538e-02, -2.53861010e-01],\n",
       "          [-1.86199307e-01, -1.96513813e-02,  5.82015067e-02, ...,\n",
       "           -1.17214367e-01, -2.42423266e-02,  3.99317779e-02],\n",
       "          [-1.33817866e-01,  1.82031970e-02,  1.49841532e-01, ...,\n",
       "           -1.53679281e-01, -1.99315071e-01,  2.91646957e-01],\n",
       "          [-8.12865645e-02,  1.09569423e-01, -7.22257746e-03, ...,\n",
       "            8.66398290e-02, -3.08238640e-02,  8.79629552e-02]],\n",
       " \n",
       "         [[-2.82916963e-01,  5.37647568e-02,  7.93872178e-02, ...,\n",
       "            2.70449877e-01,  2.97100116e-02, -1.98787823e-02],\n",
       "          [ 9.63991061e-02, -1.05358459e-01, -8.93328488e-02, ...,\n",
       "           -1.79363921e-01,  1.06754653e-01, -5.25811361e-03],\n",
       "          [ 1.08777508e-01, -1.35577887e-01,  5.49923405e-02, ...,\n",
       "           -2.21359447e-01, -1.05629385e-01, -3.13247293e-01],\n",
       "          [ 3.38866212e-03, -1.06283940e-01,  4.19320837e-02, ...,\n",
       "           -2.88111985e-01, -4.71376218e-02, -2.14080393e-01],\n",
       "          [ 1.62267755e-03,  4.09040838e-01,  1.13529421e-01, ...,\n",
       "            7.80861527e-02, -1.61569625e-01,  3.12913597e-01],\n",
       "          [-1.22037984e-01,  7.11952150e-02, -1.13951325e-01, ...,\n",
       "            7.89088160e-02,  3.23668607e-02, -1.07080817e-01]],\n",
       " \n",
       "         [[-1.31045133e-01,  1.19788460e-01, -8.84765610e-02, ...,\n",
       "            9.36143473e-02, -1.42031118e-01, -4.93622236e-02],\n",
       "          [ 9.84663218e-02, -6.28867820e-02,  1.64671659e-01, ...,\n",
       "           -4.12248410e-02,  1.50345176e-01, -5.12728654e-02],\n",
       "          [ 1.27027705e-01,  3.63400459e-01,  2.29426354e-01, ...,\n",
       "           -1.32937983e-01, -2.11253747e-01,  1.42588899e-01],\n",
       "          [-8.57074000e-03,  1.31495282e-01,  1.13140061e-01, ...,\n",
       "           -2.56957233e-01, -6.98554218e-02,  5.59765473e-02],\n",
       "          [-3.63826603e-01,  6.36044145e-02, -2.74507254e-01, ...,\n",
       "            2.38738731e-01,  6.16257228e-02, -2.49248058e-01],\n",
       "          [-5.33447834e-04,  5.67808449e-02, -1.49503164e-02, ...,\n",
       "           -3.26603167e-02, -1.10793728e-02,  4.27870303e-02]]]],\n",
       "       dtype=float32)>,\n",
       " <tf.Variable 'conv2d_1/bias:0' shape=(16,) dtype=float32, numpy=\n",
       " array([ 0.08554873, -0.01452746,  0.14430194, -0.03532315,  0.02543984,\n",
       "         0.03155727,  0.04142541,  0.09629703, -0.08125924, -0.00643374,\n",
       "         0.13021624,  0.03075937, -0.01834394,  0.03165975, -0.0369945 ,\n",
       "         0.23015824], dtype=float32)>,\n",
       " <tf.Variable 'dense/kernel:0' shape=(400, 120) dtype=float32, numpy=\n",
       " array([[ 0.06491002, -0.11512502,  0.10941676, ...,  0.00835004,\n",
       "         -0.37588727, -0.1008039 ],\n",
       "        [-0.00792107,  0.02662629, -0.1456701 , ...,  0.00400086,\n",
       "         -0.1145347 , -0.07419888],\n",
       "        [-0.05428682, -0.00900463, -0.0442377 , ...,  0.1285862 ,\n",
       "         -0.22159673,  0.02731265],\n",
       "        ...,\n",
       "        [ 0.01733568, -0.1665065 , -0.08062788, ...,  0.10351492,\n",
       "         -0.12427712,  0.01978984],\n",
       "        [ 0.46574247,  0.06904425, -0.00880818, ...,  0.03588524,\n",
       "          0.01803425,  0.10816696],\n",
       "        [-0.0360087 , -0.02622367, -0.03552194, ..., -0.04578765,\n",
       "          0.06146745,  0.0369557 ]], dtype=float32)>,\n",
       " <tf.Variable 'dense/bias:0' shape=(120,) dtype=float32, numpy=\n",
       " array([-0.08784886,  0.00945729,  0.1480393 , -0.02940113, -0.06827487,\n",
       "         0.13660543, -0.12251917,  0.05220772,  0.07054423,  0.05922328,\n",
       "         0.05906933,  0.07114468, -0.08264069,  0.15665957,  0.03584194,\n",
       "        -0.082817  ,  0.02977655, -0.00174614, -0.00536129, -0.04420613,\n",
       "        -0.0608115 ,  0.12243435, -0.01488613, -0.00125987, -0.02192482,\n",
       "        -0.02971748,  0.07198627, -0.03202087, -0.06054809, -0.01081893,\n",
       "         0.15312143,  0.06015588, -0.11700688,  0.09668864,  0.05146154,\n",
       "        -0.1005936 , -0.06789974,  0.08018804,  0.12000196,  0.09168278,\n",
       "        -0.05340458, -0.03490155, -0.15588534, -0.0588547 , -0.14651221,\n",
       "        -0.03371532, -0.07960721, -0.04129951,  0.09080909, -0.0935496 ,\n",
       "        -0.04550255,  0.10144714, -0.06469299,  0.09229027, -0.03624117,\n",
       "         0.03688947,  0.09580742,  0.16990404, -0.13337347,  0.13798852,\n",
       "        -0.04765298, -0.14453715, -0.02828681,  0.02552729,  0.0005456 ,\n",
       "        -0.01826812, -0.04777151,  0.02148816, -0.05573975,  0.04315641,\n",
       "         0.0422681 , -0.04879232, -0.06499721,  0.07081689, -0.06607501,\n",
       "        -0.00528633,  0.08931667, -0.04143317, -0.09602736, -0.0850839 ,\n",
       "         0.14502545, -0.09818538, -0.02754018,  0.05069238,  0.05379974,\n",
       "         0.07209989,  0.08390652,  0.00268933,  0.11637257, -0.03796045,\n",
       "         0.04839281,  0.1182685 , -0.10890817, -0.01473105,  0.01184269,\n",
       "         0.00776018, -0.04728127,  0.07105631,  0.12092627,  0.11172031,\n",
       "         0.08144189,  0.01476713, -0.08354095,  0.03852134, -0.076308  ,\n",
       "        -0.02145815,  0.0136165 ,  0.1136334 , -0.04564093,  0.05192201,\n",
       "        -0.16187137, -0.16378306,  0.17835999,  0.02910858,  0.04126859,\n",
       "         0.08358248, -0.1294938 , -0.07609843,  0.01743007,  0.06985119],\n",
       "       dtype=float32)>,\n",
       " <tf.Variable 'dense_1/kernel:0' shape=(120, 84) dtype=float32, numpy=\n",
       " array([[-0.11552295, -0.09340019,  0.06097184, ...,  0.04153792,\n",
       "         -0.0732327 ,  0.13939622],\n",
       "        [ 0.01291063, -0.24206035,  0.09858137, ...,  0.04623567,\n",
       "         -0.17429297,  0.08336019],\n",
       "        [ 0.25107598, -0.01937666, -0.01730937, ..., -0.21110901,\n",
       "          0.1534954 ,  0.08404727],\n",
       "        ...,\n",
       "        [ 0.00621662, -0.4353569 ,  0.14874266, ...,  0.12897746,\n",
       "         -0.16495356, -0.07477271],\n",
       "        [-0.2192632 ,  0.0776507 ,  0.05053655, ..., -0.1894483 ,\n",
       "          0.2440031 , -0.05075558],\n",
       "        [-0.22711973,  0.06681754,  0.03037973, ...,  0.10261339,\n",
       "          0.33465645, -0.01284341]], dtype=float32)>,\n",
       " <tf.Variable 'dense_1/bias:0' shape=(84,) dtype=float32, numpy=\n",
       " array([-0.09691485, -0.00116856, -0.0896107 , -0.13101855, -0.0518757 ,\n",
       "         0.10390469,  0.11592163,  0.03643496,  0.00361921,  0.08764562,\n",
       "         0.03309089, -0.05371927,  0.02217768,  0.08800632,  0.13079834,\n",
       "        -0.0479633 ,  0.12712215, -0.01812014,  0.01645469, -0.17729372,\n",
       "        -0.05472079, -0.08729877, -0.11465196, -0.09291224, -0.02244937,\n",
       "        -0.00907906, -0.07290762, -0.01091676,  0.04502233,  0.02636283,\n",
       "         0.11563569, -0.05828609,  0.06394322,  0.04397504, -0.18140101,\n",
       "         0.11340191, -0.01410029, -0.01964095,  0.01289274,  0.0455019 ,\n",
       "         0.02689438,  0.1013267 , -0.07097249,  0.1074371 , -0.00997383,\n",
       "        -0.14030543,  0.0175471 , -0.10536153,  0.11492448,  0.00758578,\n",
       "         0.02613194, -0.16329643,  0.03051644, -0.0761615 ,  0.10003432,\n",
       "         0.05653412,  0.05811686, -0.08942672,  0.17928687,  0.10185025,\n",
       "         0.03364658,  0.02662172, -0.17250416,  0.09743909,  0.03224081,\n",
       "        -0.07743172,  0.16198418,  0.04957582, -0.00744889, -0.00524956,\n",
       "         0.07043243,  0.00824518, -0.09135899, -0.08626639, -0.08000925,\n",
       "        -0.07028743,  0.01221659, -0.07017435, -0.01968421, -0.12154672,\n",
       "        -0.121028  , -0.05917397,  0.11115996,  0.00840882], dtype=float32)>,\n",
       " <tf.Variable 'dense_2/kernel:0' shape=(84, 10) dtype=float32, numpy=\n",
       " array([[ 1.64350167e-01, -1.56537294e-01, -1.03932232e-01,\n",
       "          2.67830580e-01, -2.71658599e-01,  3.40684354e-01,\n",
       "          2.93990612e-01, -3.71357203e-01,  1.64836377e-01,\n",
       "          3.81792217e-01],\n",
       "        [ 1.03168741e-01, -3.86585653e-01,  1.92057014e-01,\n",
       "          2.61890173e-01, -2.82013025e-02,  4.62298952e-02,\n",
       "         -4.93096001e-02,  2.25170702e-01,  3.23499411e-01,\n",
       "         -2.51479119e-01],\n",
       "        [ 2.68811006e-02,  2.41017267e-01, -3.22323561e-01,\n",
       "         -2.06224788e-02, -1.93044718e-04, -3.22805077e-01,\n",
       "          4.94787574e-01, -3.16748768e-01, -3.05767655e-01,\n",
       "         -1.21592075e-01],\n",
       "        [-3.06148976e-01,  2.31101930e-01, -1.89448789e-01,\n",
       "          3.38593245e-01,  4.48027879e-01,  2.39639342e-01,\n",
       "         -1.24247029e-01, -1.40613139e-01,  2.21812099e-01,\n",
       "         -6.45466149e-02],\n",
       "        [ 3.65463793e-01, -3.71322900e-01,  2.32398748e-01,\n",
       "          2.67995358e-01, -3.19426149e-01, -6.20447174e-02,\n",
       "          1.93805441e-01, -1.81244075e-01,  3.01644057e-01,\n",
       "         -2.96201557e-01],\n",
       "        [-3.23830843e-01,  2.61385381e-01,  1.75014749e-01,\n",
       "         -1.54363066e-01, -3.91175449e-01,  2.60471880e-01,\n",
       "          3.40357333e-01,  2.91878998e-01, -2.34578565e-01,\n",
       "         -3.51562172e-01],\n",
       "        [-8.39278400e-02,  1.48358718e-01,  3.11224665e-02,\n",
       "          5.26725888e-01,  1.60815552e-01, -4.34061140e-02,\n",
       "         -1.29168808e-01,  3.21448952e-01, -3.94688308e-01,\n",
       "         -6.46464014e-03],\n",
       "        [ 4.52030487e-02,  9.66335163e-02,  1.53606003e-02,\n",
       "         -2.73474365e-01,  2.11765215e-01, -2.74659604e-01,\n",
       "         -2.34274175e-02,  3.54985118e-01, -1.97171435e-01,\n",
       "         -1.94251582e-01],\n",
       "        [ 3.39276850e-01,  8.18372369e-02,  3.44403625e-01,\n",
       "          2.33052492e-01,  2.42420658e-02, -3.61921340e-01,\n",
       "         -5.02239764e-02,  1.10384159e-01,  1.14393555e-01,\n",
       "         -2.43861064e-01],\n",
       "        [-1.35881290e-01, -3.30158681e-01, -4.28550653e-02,\n",
       "         -1.11256681e-01, -9.42147300e-02,  4.29883569e-01,\n",
       "         -1.09904870e-01,  3.80818993e-01, -3.25971097e-01,\n",
       "         -2.06944153e-01],\n",
       "        [ 2.76820391e-01, -2.95343697e-01, -3.11700761e-01,\n",
       "          2.43469253e-01,  4.49228175e-02,  1.05578586e-01,\n",
       "          1.27781138e-01, -1.20660858e-02, -3.50565463e-01,\n",
       "          2.96612203e-01],\n",
       "        [-4.44156945e-01, -3.18129510e-01, -4.32775915e-02,\n",
       "          2.75233299e-01,  3.80046040e-01, -1.00967139e-01,\n",
       "          1.23296194e-01, -3.63453060e-01, -1.04305170e-01,\n",
       "          2.98909098e-01],\n",
       "        [ 3.29596907e-01, -3.44869614e-01, -1.82454824e-01,\n",
       "         -4.59191902e-03, -2.62433052e-01,  3.18786442e-01,\n",
       "         -1.44408643e-01, -1.62802324e-01, -9.72540230e-02,\n",
       "          3.48559499e-01],\n",
       "        [-1.56864136e-01,  2.18144044e-01, -7.35256635e-03,\n",
       "         -2.03774065e-01,  3.78692776e-01, -9.70513895e-02,\n",
       "         -3.37655842e-01,  3.97179276e-01, -3.77082586e-01,\n",
       "         -1.31440073e-01],\n",
       "        [-4.00399715e-01, -2.68072993e-01,  9.08491835e-02,\n",
       "         -2.39631861e-01,  1.52970210e-01, -6.05645310e-03,\n",
       "          1.90062225e-01,  3.41755748e-01,  2.67883316e-02,\n",
       "          8.74905735e-02],\n",
       "        [-2.48961598e-01, -2.96278715e-01,  3.01163971e-01,\n",
       "         -2.24335924e-01,  4.47434247e-01, -2.56424397e-01,\n",
       "          1.04078360e-01,  2.02433720e-01, -4.48361374e-02,\n",
       "         -5.13579428e-01],\n",
       "        [ 1.83201566e-01,  3.91239822e-01, -8.41415673e-02,\n",
       "         -1.04034618e-01,  2.32278690e-01,  2.81654537e-01,\n",
       "         -5.89058995e-02,  2.00363651e-01, -3.95752490e-01,\n",
       "          4.23439354e-01],\n",
       "        [ 1.50323987e-01,  1.07086599e-01, -4.19250242e-02,\n",
       "          1.20543703e-01, -2.77139187e-01,  1.41228244e-01,\n",
       "          3.55445370e-02,  8.92580077e-02,  2.59327382e-01,\n",
       "         -3.36435080e-01],\n",
       "        [-4.26361233e-01, -3.93672347e-01,  2.50122637e-01,\n",
       "          2.56864727e-01,  2.64966667e-01, -1.05536237e-01,\n",
       "          2.43941210e-02, -2.63053536e-01,  3.82185802e-02,\n",
       "         -2.24596322e-01],\n",
       "        [ 1.84500158e-01, -8.05588216e-02, -8.35908353e-02,\n",
       "         -4.31050867e-01,  2.03863084e-01, -3.12084347e-01,\n",
       "          4.65863109e-01, -3.93353105e-01,  3.80973697e-01,\n",
       "          2.71587849e-01],\n",
       "        [ 2.77059823e-01, -4.45751309e-01,  7.69845694e-02,\n",
       "         -2.73258924e-01, -2.36518487e-01, -7.94131756e-02,\n",
       "          2.95844555e-01, -3.24717201e-02, -2.46412009e-02,\n",
       "         -7.87797049e-02],\n",
       "        [-2.17435285e-01,  1.67453840e-01,  3.73439610e-01,\n",
       "         -2.86460131e-01, -2.41073277e-02, -2.73032933e-01,\n",
       "          2.62474000e-01, -4.60946918e-01,  3.23399812e-01,\n",
       "         -1.15459189e-01],\n",
       "        [ 4.97068852e-01, -3.15473109e-01,  4.66729980e-04,\n",
       "          1.69522807e-01, -3.88860941e-01, -2.70432919e-01,\n",
       "          2.81430542e-01,  2.12107241e-01,  2.98408806e-01,\n",
       "          1.32375332e-02],\n",
       "        [-1.64272618e-02,  2.27616802e-01, -1.29615292e-01,\n",
       "          3.46614540e-01, -4.25181419e-01, -2.66823411e-01,\n",
       "          5.80340736e-02, -2.71437675e-01,  3.60229701e-01,\n",
       "         -3.24269265e-01],\n",
       "        [-1.41619772e-01, -4.42358375e-01, -6.44057021e-02,\n",
       "          4.42699492e-01, -3.72069657e-01,  1.76768467e-01,\n",
       "         -6.19505793e-02, -4.15192455e-01, -1.64838079e-02,\n",
       "          1.83586389e-01],\n",
       "        [-6.53023899e-01,  1.97608307e-01,  1.77569091e-01,\n",
       "          8.29667524e-02,  3.16851825e-01,  2.18428150e-01,\n",
       "         -6.93718269e-02, -3.40223014e-01,  1.83531776e-01,\n",
       "          1.43797964e-01],\n",
       "        [ 1.14194758e-01,  3.35121721e-01, -2.88378298e-02,\n",
       "         -3.62261273e-02, -9.34215784e-02, -4.58892941e-01,\n",
       "         -2.06942186e-01, -3.26095745e-02,  2.29379505e-01,\n",
       "          1.87504709e-01],\n",
       "        [ 7.96562955e-02,  3.30746442e-01, -1.35135800e-01,\n",
       "          2.57198870e-01, -2.75611758e-01, -2.53199846e-01,\n",
       "          3.75809699e-01,  1.66309744e-01,  1.17580429e-01,\n",
       "         -1.28074989e-01],\n",
       "        [-1.34428784e-01,  1.18176237e-01, -2.06451088e-01,\n",
       "          1.63533255e-01, -2.73427874e-01,  1.03842214e-01,\n",
       "         -8.03396702e-02,  2.52659589e-01,  9.63831246e-02,\n",
       "          3.01886290e-01],\n",
       "        [ 8.42027068e-02, -3.10241163e-01,  3.51139843e-01,\n",
       "         -2.80421019e-01,  4.79325987e-02,  8.23145434e-02,\n",
       "         -1.38340086e-01,  2.54931431e-02, -9.19958204e-02,\n",
       "         -2.00218171e-01],\n",
       "        [-9.48764831e-02, -8.98226649e-02, -2.10011080e-01,\n",
       "          1.26387224e-01, -3.29427779e-01,  2.15035945e-01,\n",
       "          3.28784794e-01,  1.89164296e-01, -2.11297527e-01,\n",
       "         -1.84667125e-01],\n",
       "        [ 1.84493795e-01,  3.57114166e-01, -5.09627700e-01,\n",
       "          2.04536751e-01,  3.97553630e-02, -1.28821582e-01,\n",
       "         -1.91626981e-01, -1.46491617e-01, -9.61010754e-02,\n",
       "          3.47935945e-01],\n",
       "        [-7.95371011e-02, -4.54592891e-02, -7.37644136e-02,\n",
       "          3.45675498e-01,  2.46195316e-01,  2.13822424e-01,\n",
       "         -5.41910708e-01,  1.04122236e-01, -1.91903636e-01,\n",
       "          2.74771243e-01],\n",
       "        [-2.10267887e-01,  2.60524035e-01,  3.87804031e-01,\n",
       "         -4.28414375e-01, -1.14047818e-01, -4.14846092e-01,\n",
       "         -1.02780759e-02, -1.22968942e-01, -1.19378418e-01,\n",
       "          2.49437943e-01],\n",
       "        [ 1.54215530e-01, -2.82701284e-01,  3.53366464e-01,\n",
       "          1.69058964e-01,  2.92276233e-01, -6.22968674e-01,\n",
       "         -3.06654394e-01, -3.40137035e-01,  3.36754739e-01,\n",
       "          2.65926212e-01],\n",
       "        [-6.85042068e-02,  3.69720727e-01,  3.56373131e-01,\n",
       "          4.38316137e-01,  2.61075169e-01, -1.25214085e-01,\n",
       "         -3.81718129e-01,  7.85359293e-02, -2.85665274e-01,\n",
       "          1.63747951e-01],\n",
       "        [ 4.99256700e-02,  7.61093944e-02, -4.45858538e-02,\n",
       "          1.30208284e-01, -6.62273988e-02,  3.03743124e-01,\n",
       "         -2.25247696e-01, -1.78015128e-01,  2.37205148e-01,\n",
       "         -3.21077168e-01],\n",
       "        [-8.45282227e-02,  2.48308778e-01, -3.45946252e-01,\n",
       "          1.25781864e-01,  1.91138953e-01,  2.29996219e-01,\n",
       "         -1.65547192e-01,  1.57080561e-01,  4.47108597e-01,\n",
       "         -2.10116759e-01],\n",
       "        [-1.16496176e-01,  2.54780591e-01,  2.40370661e-01,\n",
       "          1.70805529e-01, -2.07815230e-01, -4.72117901e-01,\n",
       "         -3.67899209e-01,  1.57442361e-01,  8.88586715e-02,\n",
       "          1.01511449e-01],\n",
       "        [ 4.43873674e-01,  1.42744631e-01, -9.35845599e-02,\n",
       "         -2.67494857e-01,  1.04409233e-01,  4.75151837e-02,\n",
       "          2.91658863e-02,  3.70285481e-01,  2.25364745e-01,\n",
       "          2.86496013e-01],\n",
       "        [-3.94876987e-01, -1.62706122e-01, -4.19649959e-01,\n",
       "          7.69490376e-02,  1.20966561e-01, -1.70525283e-01,\n",
       "          5.89124747e-02,  2.10037351e-01,  4.40889150e-02,\n",
       "         -2.17134729e-01],\n",
       "        [-4.15138155e-01,  1.78461641e-01,  3.84465486e-01,\n",
       "          1.81423426e-01, -3.36124182e-01,  3.37545834e-02,\n",
       "         -2.26672605e-01, -4.04394269e-02,  1.81125954e-01,\n",
       "          1.96072429e-01],\n",
       "        [ 3.33724827e-01, -1.10085949e-01, -2.35614538e-01,\n",
       "         -4.81071293e-01,  3.44121933e-01,  2.01512992e-01,\n",
       "         -1.31183192e-01,  1.48671776e-01,  1.45853236e-01,\n",
       "          1.62766010e-01],\n",
       "        [ 1.43982098e-01, -2.09090203e-01,  3.78548533e-01,\n",
       "         -2.59098977e-01, -2.95807093e-01,  2.25618720e-01,\n",
       "         -1.33163914e-01,  1.07596748e-01,  2.66765207e-01,\n",
       "         -1.24066249e-01],\n",
       "        [-2.25705385e-01, -8.44704732e-03,  1.29480809e-01,\n",
       "         -2.09215984e-01, -9.27678794e-02, -4.43647087e-01,\n",
       "         -4.09390219e-02,  2.66999891e-03, -1.43622845e-01,\n",
       "          1.32016391e-01],\n",
       "        [-1.92661822e-01, -3.36645246e-01, -3.91919464e-01,\n",
       "          2.28432342e-01,  3.77581678e-02,  2.11781397e-01,\n",
       "         -1.35809451e-01, -2.48549327e-01,  2.95053899e-01,\n",
       "         -5.73295280e-02],\n",
       "        [-3.90078753e-01, -4.55448031e-01, -2.87658200e-02,\n",
       "          5.08055866e-01,  1.46918431e-01,  3.83754373e-01,\n",
       "         -6.88312203e-02, -1.62334740e-01,  1.79509088e-01,\n",
       "          1.53971717e-01],\n",
       "        [-3.42670470e-01,  1.62544087e-01, -2.28569508e-01,\n",
       "         -3.73592347e-01,  1.95619479e-01, -2.21088100e-02,\n",
       "          4.47808921e-01, -3.24205637e-01,  1.84234902e-01,\n",
       "         -2.95226842e-01],\n",
       "        [-4.74023595e-02, -2.10018858e-01,  5.48619211e-01,\n",
       "         -5.10073043e-02, -1.02327146e-01, -3.03905636e-01,\n",
       "         -3.22931439e-01,  3.70232314e-01, -3.76060933e-01,\n",
       "         -1.83313608e-01],\n",
       "        [ 4.04865623e-01,  3.75092685e-01,  1.96652487e-02,\n",
       "         -1.27682120e-01, -4.07582223e-02,  2.89323896e-01,\n",
       "          2.23745689e-01, -3.13961774e-01,  3.79657187e-03,\n",
       "         -3.27104986e-01],\n",
       "        [ 2.84037441e-01, -3.84453416e-01,  3.28487933e-01,\n",
       "          1.98444992e-01,  2.37529248e-01, -6.83711171e-02,\n",
       "         -5.68550646e-01,  3.32844555e-01,  7.16888756e-02,\n",
       "          3.62359686e-03],\n",
       "        [ 1.32464975e-01, -2.20570251e-01, -4.92848843e-01,\n",
       "          2.21547678e-01,  3.17197204e-01, -1.26385093e-01,\n",
       "          1.93392336e-01, -2.39581354e-02,  1.84947118e-01,\n",
       "          1.85188040e-01],\n",
       "        [-2.39441432e-02, -4.87515599e-01, -8.69650468e-02,\n",
       "         -1.42634317e-01, -8.08660537e-02,  6.40916750e-02,\n",
       "         -3.24171782e-01,  2.26741239e-01,  1.32473096e-01,\n",
       "          2.99838752e-01],\n",
       "        [-3.15059781e-01, -1.24071345e-01, -4.17981654e-01,\n",
       "         -4.52566683e-01, -4.09857370e-02,  3.00384425e-02,\n",
       "          2.47265562e-01, -4.72805426e-02,  2.43929133e-01,\n",
       "          4.07004058e-01],\n",
       "        [-3.70351255e-01,  4.14370775e-01, -1.88403562e-01,\n",
       "          1.20377280e-01, -2.70515662e-02,  2.80835479e-01,\n",
       "         -4.58027661e-01,  2.27091834e-01,  5.15024923e-02,\n",
       "         -3.82465005e-01],\n",
       "        [-5.39369732e-02,  2.06204385e-01, -4.33443300e-02,\n",
       "          7.22098202e-02,  2.17811707e-02, -4.70885634e-01,\n",
       "          3.24362852e-02,  4.20550913e-01, -1.43593013e-01,\n",
       "         -2.28546876e-02],\n",
       "        [-8.86608660e-02, -2.30489150e-01, -1.33482471e-01,\n",
       "          2.33638614e-01, -2.65119284e-01, -3.26056361e-01,\n",
       "         -3.76744837e-01,  4.48081821e-01, -3.96615118e-01,\n",
       "          2.81270474e-01],\n",
       "        [ 2.42845446e-01, -1.47527486e-01,  1.36914268e-01,\n",
       "         -1.48799300e-01,  4.30305988e-01, -4.15512115e-01,\n",
       "          2.58717626e-01, -2.61475235e-01, -3.01348656e-01,\n",
       "          1.18980082e-02],\n",
       "        [-1.63874522e-01,  3.26966673e-01,  3.43567193e-01,\n",
       "          3.07465672e-01, -2.69469529e-01, -8.19684879e-04,\n",
       "         -2.67654121e-01,  1.82122309e-02, -2.99824387e-01,\n",
       "         -2.32211128e-02],\n",
       "        [-2.90826559e-01,  8.29010606e-02, -3.33445042e-01,\n",
       "          2.01329261e-01,  2.33331062e-02,  7.09981890e-03,\n",
       "          7.02121109e-02,  2.23840639e-01, -5.03879786e-01,\n",
       "          1.56952798e-01],\n",
       "        [ 2.60461360e-01,  3.53392124e-01, -4.44478184e-01,\n",
       "         -9.34257172e-03, -2.54887402e-01,  4.21736181e-01,\n",
       "          3.49124968e-01, -2.18999803e-01, -2.15496853e-01,\n",
       "         -1.17484681e-01],\n",
       "        [ 1.16409563e-01, -3.61782104e-01,  2.89393306e-01,\n",
       "          3.58343780e-01, -4.68967915e-01, -2.58394927e-01,\n",
       "          4.76902872e-02,  3.42681438e-01,  2.16444299e-01,\n",
       "         -2.32841656e-01],\n",
       "        [ 5.41887820e-01,  2.61450678e-01, -6.87099025e-02,\n",
       "         -1.81145787e-01,  2.22385615e-01, -4.36528623e-01,\n",
       "          1.88831314e-01, -3.36875886e-01, -2.18311623e-02,\n",
       "          2.21233472e-01],\n",
       "        [ 1.47956580e-01, -4.61714938e-02,  3.85657668e-01,\n",
       "          4.56681624e-02, -1.03740515e-02,  4.38327640e-02,\n",
       "          1.61605939e-01, -1.93594933e-01, -3.82968009e-01,\n",
       "         -6.29698783e-02],\n",
       "        [ 2.33364269e-01, -1.78586543e-01,  4.09701109e-01,\n",
       "          3.35896373e-01, -1.22555710e-01, -6.91442043e-02,\n",
       "          2.65105039e-01, -4.15409952e-01, -2.09328488e-01,\n",
       "          9.78744403e-02],\n",
       "        [ 5.08570559e-02, -2.44159237e-01,  8.50161314e-02,\n",
       "         -2.87102312e-01,  5.31072821e-03,  1.11138046e-01,\n",
       "          5.23896754e-01, -2.56299853e-01,  1.05655976e-01,\n",
       "         -4.08843875e-01],\n",
       "        [ 7.26657212e-02,  4.37545478e-01,  3.44261885e-01,\n",
       "         -1.90521866e-01, -1.56505451e-01, -3.76546159e-02,\n",
       "         -7.01375827e-02,  4.67081279e-01, -2.53979981e-01,\n",
       "         -2.02067569e-01],\n",
       "        [ 1.23297073e-01,  1.26741901e-01,  1.24010839e-01,\n",
       "         -3.42103928e-01,  3.66322517e-01, -1.95438728e-01,\n",
       "         -4.05140966e-02,  4.15400684e-01, -3.91539112e-02,\n",
       "          3.18034232e-01],\n",
       "        [ 3.33207369e-01,  3.57292183e-02, -4.28296089e-01,\n",
       "         -2.49040544e-01, -1.95126504e-01,  2.84199864e-01,\n",
       "          1.16324022e-01,  2.25941956e-01,  1.75383970e-01,\n",
       "         -4.04637158e-02],\n",
       "        [-6.03616908e-02,  8.77151638e-02,  6.24649003e-02,\n",
       "          3.58913064e-01,  1.32148355e-01, -4.26224381e-01,\n",
       "         -3.89517903e-01,  4.25382614e-01,  3.39517325e-01,\n",
       "         -6.55307770e-02],\n",
       "        [ 6.94090426e-02,  3.96475419e-02, -4.20399785e-01,\n",
       "          2.03848779e-01, -2.72285670e-01,  4.85417902e-01,\n",
       "          9.95611846e-02, -1.92630872e-01, -3.07682514e-01,\n",
       "          2.09038313e-02],\n",
       "        [-1.47345573e-01, -2.92267501e-01, -2.20928043e-01,\n",
       "         -2.68461347e-01, -1.22005582e-01,  3.44876468e-01,\n",
       "          4.12551701e-01, -1.35917634e-01,  8.67469832e-02,\n",
       "          3.46603960e-01],\n",
       "        [-7.83091336e-02,  3.65392327e-01, -3.18924934e-02,\n",
       "          5.48803955e-02, -3.15457880e-01, -2.89064258e-01,\n",
       "         -1.66226238e-01, -2.76612699e-01,  3.40959996e-01,\n",
       "         -2.93343782e-01],\n",
       "        [ 1.52908549e-01, -1.31507158e-01, -4.43217367e-01,\n",
       "          2.77035445e-01,  8.71315822e-02,  9.93926376e-02,\n",
       "         -1.25869825e-01,  4.01699483e-01,  1.69162169e-01,\n",
       "         -8.50222856e-02],\n",
       "        [ 4.27919328e-01, -2.05849353e-02, -2.59481609e-01,\n",
       "          2.01046214e-01,  1.51208058e-01, -1.92299113e-01,\n",
       "         -6.58646524e-02,  1.94860697e-01,  2.05527380e-01,\n",
       "         -2.32508272e-01],\n",
       "        [ 5.36114097e-01, -8.20629224e-02, -9.64995101e-02,\n",
       "         -2.79515296e-01, -8.00271928e-02, -4.26699907e-01,\n",
       "          2.85999998e-02, -6.70001283e-02, -1.99534371e-01,\n",
       "         -7.37465471e-02],\n",
       "        [-1.70073763e-01,  1.60027981e-01,  3.14280868e-01,\n",
       "          3.06264997e-01, -3.18884432e-01, -1.21124899e-02,\n",
       "         -2.82383859e-01,  2.15174869e-01,  3.33749175e-01,\n",
       "         -2.96410680e-01],\n",
       "        [ 3.65442187e-02,  2.78508782e-01, -6.37028068e-02,\n",
       "         -2.15957731e-01,  2.99223959e-01, -2.54874289e-01,\n",
       "         -5.47742963e-01,  1.06711790e-01,  2.05723599e-01,\n",
       "          9.44763497e-02],\n",
       "        [-4.67555486e-02,  2.52329409e-01, -1.19379896e-03,\n",
       "          1.06311120e-01,  4.13236409e-01,  8.79861042e-03,\n",
       "          2.26197690e-01, -1.37843847e-01, -1.15003042e-01,\n",
       "         -3.09838384e-01],\n",
       "        [ 4.28488404e-01, -8.21106955e-02, -3.31007481e-01,\n",
       "         -1.04227141e-01,  2.72670239e-01, -2.74316311e-01,\n",
       "          2.78823018e-01,  3.18083644e-01, -1.00943334e-01,\n",
       "         -3.35325509e-01],\n",
       "        [ 3.24301988e-01, -2.58424938e-01,  2.25848138e-01,\n",
       "         -1.86963528e-01,  2.64736593e-01, -3.45080405e-01,\n",
       "          2.07161561e-01, -1.11330807e-01,  1.93146035e-01,\n",
       "         -3.11656445e-01],\n",
       "        [ 2.16141537e-01,  3.21058124e-01, -2.01012418e-01,\n",
       "         -5.03606014e-02,  3.32010627e-01, -1.83307543e-01,\n",
       "          2.05844373e-01, -2.33950242e-01, -1.53506428e-01,\n",
       "         -3.94823492e-01],\n",
       "        [ 1.62464064e-02,  4.84736681e-01, -7.10426047e-02,\n",
       "          1.00844353e-01, -3.19191307e-01,  6.16113702e-03,\n",
       "         -1.17730543e-01,  1.17721520e-01,  9.98146683e-02,\n",
       "         -4.61932987e-01],\n",
       "        [-1.40369326e-01,  5.27193137e-02,  3.24451894e-01,\n",
       "         -1.64845958e-01,  2.42998987e-01,  2.76966184e-01,\n",
       "          3.38358849e-01, -1.94636747e-01,  9.09731612e-02,\n",
       "         -2.35639542e-01]], dtype=float32)>,\n",
       " <tf.Variable 'dense_2/bias:0' shape=(10,) dtype=float32, numpy=\n",
       " array([-0.12767786,  0.09996407,  0.09189253, -0.02676884, -0.0704653 ,\n",
       "         0.11873163, -0.07912446,  0.12903433, -0.1707762 ,  0.01756147],\n",
       "       dtype=float32)>]"
      ]
     },
     "execution_count": 18,
     "metadata": {},
     "output_type": "execute_result"
    }
   ],
   "source": [
    "weights"
   ]
  },
  {
   "cell_type": "code",
   "execution_count": 19,
   "id": "d6b1e490",
   "metadata": {
    "ExecuteTime": {
     "end_time": "2023-01-10T16:10:46.757352Z",
     "start_time": "2023-01-10T16:10:46.742222Z"
    }
   },
   "outputs": [
    {
     "data": {
      "text/plain": [
       "['conv2d/kernel:0',\n",
       " 'conv2d/bias:0',\n",
       " 'conv2d_1/kernel:0',\n",
       " 'conv2d_1/bias:0',\n",
       " 'dense/kernel:0',\n",
       " 'dense/bias:0',\n",
       " 'dense_1/kernel:0',\n",
       " 'dense_1/bias:0',\n",
       " 'dense_2/kernel:0',\n",
       " 'dense_2/bias:0']"
      ]
     },
     "execution_count": 19,
     "metadata": {},
     "output_type": "execute_result"
    }
   ],
   "source": [
    "weight_names"
   ]
  },
  {
   "cell_type": "code",
   "execution_count": 23,
   "id": "53c9c930",
   "metadata": {
    "ExecuteTime": {
     "end_time": "2023-01-10T16:12:54.023656Z",
     "start_time": "2023-01-10T16:12:54.015131Z"
    }
   },
   "outputs": [],
   "source": [
    "str1 = ['conv2d_kernel:0',\n",
    "'pool1',\n",
    " 'conv2d_1_kernel:0',\n",
    "'pool2',\n",
    " 'flatten',   \n",
    " 'dense_kernel:0',\n",
    "\n",
    " 'dense_1_kernel:0',\n",
    "\n",
    " 'dense_2_kernel:0',\n",
    "]"
   ]
  },
  {
   "cell_type": "code",
   "execution_count": 24,
   "id": "7bc623da",
   "metadata": {
    "ExecuteTime": {
     "end_time": "2023-01-10T16:12:55.363091Z",
     "start_time": "2023-01-10T16:12:55.333601Z"
    }
   },
   "outputs": [],
   "source": [
    "# 使用 Python 的 open 函数创建一个 txt 文件\n",
    "for i in range(len(lenet_5_model.layers)):\n",
    "    filename = str1[i] + '.bin'\n",
    "    \n",
    "    with open(filename, 'w') as f:\n",
    "   \n",
    "        weight_value = lenet_5_model.layers[i].get_weights()\n",
    "\n",
    "        # 将权重张量的名称和值写入文件\n",
    "\n",
    "        f.write(str(weight_value) + '\\n')"
   ]
  },
  {
   "cell_type": "code",
   "execution_count": null,
   "id": "52b0bc3b",
   "metadata": {
    "ExecuteTime": {
     "end_time": "2023-01-10T16:03:06.150321Z",
     "start_time": "2023-01-10T16:03:06.140410Z"
    }
   },
   "outputs": [],
   "source": [
    "len(lenet_5_model.layers)"
   ]
  },
  {
   "cell_type": "code",
   "execution_count": 22,
   "id": "3d9d9bfe",
   "metadata": {
    "ExecuteTime": {
     "end_time": "2023-01-10T16:11:58.703307Z",
     "start_time": "2023-01-10T16:11:58.690189Z"
    }
   },
   "outputs": [
    {
     "data": {
      "text/plain": [
       "[<keras.layers.convolutional.conv2d.Conv2D at 0x20ce378d910>,\n",
       " <keras.layers.pooling.average_pooling2d.AveragePooling2D at 0x20ce37a5a60>,\n",
       " <keras.layers.convolutional.conv2d.Conv2D at 0x20ce25602b0>,\n",
       " <keras.layers.pooling.average_pooling2d.AveragePooling2D at 0x20ce25a4760>,\n",
       " <keras.layers.reshaping.flatten.Flatten at 0x20ce25a4580>,\n",
       " <keras.layers.core.dense.Dense at 0x20ce25a4c10>,\n",
       " <keras.layers.core.dense.Dense at 0x20ce25a4d30>,\n",
       " <keras.layers.core.dense.Dense at 0x20ce25a4fa0>]"
      ]
     },
     "execution_count": 22,
     "metadata": {},
     "output_type": "execute_result"
    }
   ],
   "source": [
    "lenet_5_model.layers"
   ]
  },
  {
   "cell_type": "code",
   "execution_count": null,
   "id": "929aed57-808a-4df6-a9f7-ce9eec9d4ba1",
   "metadata": {
    "ExecuteTime": {
     "end_time": "2023-01-09T16:30:26.476683Z",
     "start_time": "2023-01-09T16:30:26.456661Z"
    }
   },
   "outputs": [],
   "source": [
    "lenet_5_model.layers[0].get_weights()"
   ]
  },
  {
   "cell_type": "code",
   "execution_count": null,
   "id": "94c8d0cc",
   "metadata": {},
   "outputs": [],
   "source": []
  },
  {
   "cell_type": "code",
   "execution_count": null,
   "id": "8048c76c",
   "metadata": {},
   "outputs": [],
   "source": []
  }
 ],
 "metadata": {
  "kernelspec": {
   "display_name": "Python 3 (ipykernel)",
   "language": "python",
   "name": "python3"
  },
  "language_info": {
   "codemirror_mode": {
    "name": "ipython",
    "version": 3
   },
   "file_extension": ".py",
   "mimetype": "text/x-python",
   "name": "python",
   "nbconvert_exporter": "python",
   "pygments_lexer": "ipython3",
   "version": "3.9.13"
  },
  "toc": {
   "base_numbering": 1,
   "nav_menu": {},
   "number_sections": true,
   "sideBar": true,
   "skip_h1_title": false,
   "title_cell": "Table of Contents",
   "title_sidebar": "Contents",
   "toc_cell": false,
   "toc_position": {},
   "toc_section_display": true,
   "toc_window_display": false
  },
  "varInspector": {
   "cols": {
    "lenName": 16,
    "lenType": 16,
    "lenVar": 40
   },
   "kernels_config": {
    "python": {
     "delete_cmd_postfix": "",
     "delete_cmd_prefix": "del ",
     "library": "var_list.py",
     "varRefreshCmd": "print(var_dic_list())"
    },
    "r": {
     "delete_cmd_postfix": ") ",
     "delete_cmd_prefix": "rm(",
     "library": "var_list.r",
     "varRefreshCmd": "cat(var_dic_list()) "
    }
   },
   "types_to_exclude": [
    "module",
    "function",
    "builtin_function_or_method",
    "instance",
    "_Feature"
   ],
   "window_display": false
  }
 },
 "nbformat": 4,
 "nbformat_minor": 5
}
